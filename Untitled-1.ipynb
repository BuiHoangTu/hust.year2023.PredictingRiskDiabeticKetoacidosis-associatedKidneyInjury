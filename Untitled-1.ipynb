{
 "cells": [
  {
   "cell_type": "markdown",
   "metadata": {},
   "source": [
    "### Import most libraries needed "
   ]
  },
  {
   "cell_type": "code",
   "execution_count": 1,
   "metadata": {},
   "outputs": [],
   "source": [
    "import pandas as pd\n",
    "from datetime import datetime\n",
    "from pathlib import Path"
   ]
  },
  {
   "cell_type": "markdown",
   "metadata": {},
   "source": [
    "### Define most constants needed"
   ]
  },
  {
   "cell_type": "code",
   "execution_count": 33,
   "metadata": {},
   "outputs": [],
   "source": [
    "# Define ICD-9/10 codes for DKA\n",
    "dka_code9 = [\"2501\"] \n",
    "dka_code10 = [\"E1010\", \"E1011\", \"E1021\", \"E1022\", \"E1110\", \"E1111\", \"E1121\", \"E1122\"]\n",
    "\n",
    "# Define CKD stage 5 codes\n",
    "ckd5_code9 = \"\"\n",
    "ckd5_code10 = [\"N185\", \"N186\"]\n",
    "ckd_stage5_codes = {\n",
    "    \"icd9\": [\"585.6\", \"753.13\"],\n",
    "    \"icd10\": [\"N18.5\", \"N18.6\"],\n",
    "}\n",
    "\n",
    "# mimic PATH (in which there are hosp and icu data)\n",
    "MIMIC_PATH = Path(\"../mimiciv2.2/\")"
   ]
  },
  {
   "cell_type": "markdown",
   "metadata": {},
   "source": [
    "### Filter patients \n",
    "1. Only patients that caught DKA\n",
    "1. Filtering repeated admissions during one hospitalization, take first\n",
    "1. Remove patients with more than 20% missing data"
   ]
  },
  {
   "cell_type": "markdown",
   "metadata": {},
   "source": [
    "#### Read icd_code "
   ]
  },
  {
   "cell_type": "code",
   "execution_count": 3,
   "metadata": {},
   "outputs": [
    {
     "data": {
      "text/plain": [
       "subject_id      int64\n",
       "hadm_id         int64\n",
       "seq_num         int64\n",
       "icd_code       object\n",
       "icd_version     int64\n",
       "dtype: object"
      ]
     },
     "execution_count": 3,
     "metadata": {},
     "output_type": "execute_result"
    }
   ],
   "source": [
    "df_diagnoses_icd = pd.read_csv(str(MIMIC_PATH/\"hosp\"/\"diagnoses_icd.csv\"))\n",
    "df_diagnoses_icd.dtypes"
   ]
  },
  {
   "cell_type": "code",
   "execution_count": 4,
   "metadata": {},
   "outputs": [
    {
     "data": {
      "text/html": [
       "<div>\n",
       "<style scoped>\n",
       "    .dataframe tbody tr th:only-of-type {\n",
       "        vertical-align: middle;\n",
       "    }\n",
       "\n",
       "    .dataframe tbody tr th {\n",
       "        vertical-align: top;\n",
       "    }\n",
       "\n",
       "    .dataframe thead th {\n",
       "        text-align: right;\n",
       "    }\n",
       "</style>\n",
       "<table border=\"1\" class=\"dataframe\">\n",
       "  <thead>\n",
       "    <tr style=\"text-align: right;\">\n",
       "      <th></th>\n",
       "      <th>subject_id</th>\n",
       "      <th>hadm_id</th>\n",
       "      <th>seq_num</th>\n",
       "      <th>icd_code</th>\n",
       "      <th>icd_version</th>\n",
       "    </tr>\n",
       "  </thead>\n",
       "  <tbody>\n",
       "    <tr>\n",
       "      <th>0</th>\n",
       "      <td>10000032</td>\n",
       "      <td>22595853</td>\n",
       "      <td>1</td>\n",
       "      <td>5723</td>\n",
       "      <td>9</td>\n",
       "    </tr>\n",
       "    <tr>\n",
       "      <th>1</th>\n",
       "      <td>10000032</td>\n",
       "      <td>22595853</td>\n",
       "      <td>2</td>\n",
       "      <td>78959</td>\n",
       "      <td>9</td>\n",
       "    </tr>\n",
       "    <tr>\n",
       "      <th>2</th>\n",
       "      <td>10000032</td>\n",
       "      <td>22595853</td>\n",
       "      <td>3</td>\n",
       "      <td>5715</td>\n",
       "      <td>9</td>\n",
       "    </tr>\n",
       "    <tr>\n",
       "      <th>3</th>\n",
       "      <td>10000032</td>\n",
       "      <td>22595853</td>\n",
       "      <td>4</td>\n",
       "      <td>07070</td>\n",
       "      <td>9</td>\n",
       "    </tr>\n",
       "    <tr>\n",
       "      <th>4</th>\n",
       "      <td>10000032</td>\n",
       "      <td>22595853</td>\n",
       "      <td>5</td>\n",
       "      <td>496</td>\n",
       "      <td>9</td>\n",
       "    </tr>\n",
       "  </tbody>\n",
       "</table>\n",
       "</div>"
      ],
      "text/plain": [
       "   subject_id   hadm_id  seq_num icd_code  icd_version\n",
       "0    10000032  22595853        1     5723            9\n",
       "1    10000032  22595853        2    78959            9\n",
       "2    10000032  22595853        3     5715            9\n",
       "3    10000032  22595853        4    07070            9\n",
       "4    10000032  22595853        5      496            9"
      ]
     },
     "execution_count": 4,
     "metadata": {},
     "output_type": "execute_result"
    }
   ],
   "source": [
    "# refine some column data\n",
    "df_diagnoses_icd[\"icd_code\"] = df_diagnoses_icd[\"icd_code\"].astype(str)\n",
    "df_diagnoses_icd[\"icd_version\"] = df_diagnoses_icd[\"icd_version\"].astype(int)\n",
    "\n",
    "df_diagnoses_icd.head()"
   ]
  },
  {
   "cell_type": "markdown",
   "metadata": {},
   "source": [
    "#### Only patients that caught DKA"
   ]
  },
  {
   "cell_type": "code",
   "execution_count": 34,
   "metadata": {},
   "outputs": [
    {
     "data": {
      "text/html": [
       "<div>\n",
       "<style scoped>\n",
       "    .dataframe tbody tr th:only-of-type {\n",
       "        vertical-align: middle;\n",
       "    }\n",
       "\n",
       "    .dataframe tbody tr th {\n",
       "        vertical-align: top;\n",
       "    }\n",
       "\n",
       "    .dataframe thead th {\n",
       "        text-align: right;\n",
       "    }\n",
       "</style>\n",
       "<table border=\"1\" class=\"dataframe\">\n",
       "  <thead>\n",
       "    <tr style=\"text-align: right;\">\n",
       "      <th></th>\n",
       "      <th>subject_id</th>\n",
       "      <th>hadm_id</th>\n",
       "      <th>seq_num</th>\n",
       "      <th>icd_code</th>\n",
       "      <th>icd_version</th>\n",
       "    </tr>\n",
       "  </thead>\n",
       "  <tbody>\n",
       "    <tr>\n",
       "      <th>235</th>\n",
       "      <td>10000980</td>\n",
       "      <td>20897796</td>\n",
       "      <td>5</td>\n",
       "      <td>E1122</td>\n",
       "      <td>10</td>\n",
       "    </tr>\n",
       "    <tr>\n",
       "      <th>358</th>\n",
       "      <td>10000980</td>\n",
       "      <td>29659838</td>\n",
       "      <td>4</td>\n",
       "      <td>E1121</td>\n",
       "      <td>10</td>\n",
       "    </tr>\n",
       "    <tr>\n",
       "      <th>922</th>\n",
       "      <td>10002013</td>\n",
       "      <td>21763296</td>\n",
       "      <td>2</td>\n",
       "      <td>E1110</td>\n",
       "      <td>10</td>\n",
       "    </tr>\n",
       "    <tr>\n",
       "      <th>923</th>\n",
       "      <td>10002013</td>\n",
       "      <td>21763296</td>\n",
       "      <td>3</td>\n",
       "      <td>E1122</td>\n",
       "      <td>10</td>\n",
       "    </tr>\n",
       "    <tr>\n",
       "      <th>1055</th>\n",
       "      <td>10002013</td>\n",
       "      <td>25442395</td>\n",
       "      <td>25</td>\n",
       "      <td>E1122</td>\n",
       "      <td>10</td>\n",
       "    </tr>\n",
       "    <tr>\n",
       "      <th>...</th>\n",
       "      <td>...</td>\n",
       "      <td>...</td>\n",
       "      <td>...</td>\n",
       "      <td>...</td>\n",
       "      <td>...</td>\n",
       "    </tr>\n",
       "    <tr>\n",
       "      <th>4753469</th>\n",
       "      <td>19993951</td>\n",
       "      <td>28863685</td>\n",
       "      <td>5</td>\n",
       "      <td>E1122</td>\n",
       "      <td>10</td>\n",
       "    </tr>\n",
       "    <tr>\n",
       "      <th>4754014</th>\n",
       "      <td>19995012</td>\n",
       "      <td>27305089</td>\n",
       "      <td>3</td>\n",
       "      <td>E1121</td>\n",
       "      <td>10</td>\n",
       "    </tr>\n",
       "    <tr>\n",
       "      <th>4754479</th>\n",
       "      <td>19996654</td>\n",
       "      <td>26946592</td>\n",
       "      <td>8</td>\n",
       "      <td>E1122</td>\n",
       "      <td>10</td>\n",
       "    </tr>\n",
       "    <tr>\n",
       "      <th>4755147</th>\n",
       "      <td>19997538</td>\n",
       "      <td>22701415</td>\n",
       "      <td>14</td>\n",
       "      <td>E1121</td>\n",
       "      <td>10</td>\n",
       "    </tr>\n",
       "    <tr>\n",
       "      <th>4756256</th>\n",
       "      <td>19999828</td>\n",
       "      <td>25744818</td>\n",
       "      <td>2</td>\n",
       "      <td>E1110</td>\n",
       "      <td>10</td>\n",
       "    </tr>\n",
       "  </tbody>\n",
       "</table>\n",
       "<p>15026 rows × 5 columns</p>\n",
       "</div>"
      ],
      "text/plain": [
       "         subject_id   hadm_id  seq_num icd_code  icd_version\n",
       "235        10000980  20897796        5    E1122           10\n",
       "358        10000980  29659838        4    E1121           10\n",
       "922        10002013  21763296        2    E1110           10\n",
       "923        10002013  21763296        3    E1122           10\n",
       "1055       10002013  25442395       25    E1122           10\n",
       "...             ...       ...      ...      ...          ...\n",
       "4753469    19993951  28863685        5    E1122           10\n",
       "4754014    19995012  27305089        3    E1121           10\n",
       "4754479    19996654  26946592        8    E1122           10\n",
       "4755147    19997538  22701415       14    E1121           10\n",
       "4756256    19999828  25744818        2    E1110           10\n",
       "\n",
       "[15026 rows x 5 columns]"
      ]
     },
     "execution_count": 34,
     "metadata": {},
     "output_type": "execute_result"
    }
   ],
   "source": [
    "\n",
    "dka_condition = ((df_diagnoses_icd[\"icd_version\"] == 10) & df_diagnoses_icd[\"icd_code\"].isin(dka_code10)) | \\\n",
    "    ((df_diagnoses_icd[\"icd_version\"] == 9) & df_diagnoses_icd[\"icd_code\"].str.startswith(dka_code9))\n",
    "\n",
    "df_dka_diagnoses = df_diagnoses_icd[dka_condition]\n",
    "df_dka_diagnoses"
   ]
  },
  {
   "cell_type": "markdown",
   "metadata": {},
   "source": [
    "#### Exclude CKD stage 5 patients "
   ]
  },
  {
   "cell_type": "code",
   "execution_count": null,
   "metadata": {},
   "outputs": [],
   "source": [
    "ckd5_condition = ((df_diagnoses_icd[\"icd_version\"] == 10) & df_diagnoses_icd[\"icd_code\"].isin(dka_code10)) | \\\n",
    "    ((df_diagnoses_icd[\"icd_version\"] == 9) & df_diagnoses_icd[\"icd_code\"].str.startswith(dka_code9))\n",
    "\n",
    "df_dka_diagnoses = df_diagnoses_icd[dka_condition]\n",
    "df_dka_diagnoses\n",
    "\n",
    "ckd_stage5_patients = df_diagnoses_icd[\n",
    "    (df_diagnoses_icd[\"ICD9_CODE\"].isin(ckd_stage5_codes[\"icd9\"]))\n",
    "    | (df_diagnoses_icd[\"ICD10_CODE\"].isin(ckd_stage5_codes[\"icd10\"]))\n",
    "]\n",
    "df_dka_diagnoses = df_dka_diagnoses[~df_dka_diagnoses[\"SUBJECT_ID\"].isin(ckd_stage5_patients[\"SUBJECT_ID\"])]"
   ]
  },
  {
   "cell_type": "code",
   "execution_count": null,
   "metadata": {},
   "outputs": [],
   "source": [
    "if True:\n",
    "    \n",
    "    \n",
    "\n",
    "    # Exclude patients with repeated ICU admissions\n",
    "    icu_stays = pd.read_csv(f\"{mimic_path}/ICUSTAYS.csv\")\n",
    "    icu_stays[\"ICU_IN_TIME\"] = pd.to_datetime(icu_stays[\"ICU_IN_TIME\"])\n",
    "    first_admissions = icu_stays.groupby(\"SUBJECT_ID\").agg(\n",
    "        first_icu_admission=(\"ICU_IN_TIME\", \"min\")\n",
    "    )\n",
    "    first_admissions.reset_index(inplace=True)\n",
    "    df_dka_diagnoses = df_dka_diagnoses.merge(\n",
    "        first_admissions, on=\"SUBJECT_ID\", how=\"inner\"\n",
    "    )\n",
    "    df_dka_diagnoses = df_dka_diagnoses.merge(\n",
    "        icu_stays, on=[\"SUBJECT_ID\", \"ICUSTAY_ID\"], how=\"inner\"\n",
    "    )\n",
    "\n",
    "    # Exclude patients with more than 20% missing data\n",
    "    # TODO: Implement missing data calculation and filtering\n",
    "\n",
    "\n",
    "\n",
    "\n",
    "# Example usage\n",
    "dka_patients_df = filter_dka_patients(\"../mimiciv2.2/hosp\")\n",
    "print(f\"Number of filtered DKA patients: {len(dka_patients_df)}\")\n"
   ]
  }
 ],
 "metadata": {
  "kernelspec": {
   "display_name": ".venv",
   "language": "python",
   "name": "python3"
  },
  "language_info": {
   "codemirror_mode": {
    "name": "ipython",
    "version": 3
   },
   "file_extension": ".py",
   "mimetype": "text/x-python",
   "name": "python",
   "nbconvert_exporter": "python",
   "pygments_lexer": "ipython3",
   "version": "3.10.6"
  }
 },
 "nbformat": 4,
 "nbformat_minor": 2
}
