{
 "cells": [
  {
   "cell_type": "markdown",
   "metadata": {},
   "source": [
    "# Import externally"
   ]
  },
  {
   "cell_type": "code",
   "execution_count": 1,
   "metadata": {
    "execution": {
     "iopub.execute_input": "2024-06-29T09:02:47.863968Z",
     "iopub.status.busy": "2024-06-29T09:02:47.863371Z",
     "iopub.status.idle": "2024-06-29T09:02:47.871005Z",
     "shell.execute_reply": "2024-06-29T09:02:47.869744Z"
    }
   },
   "outputs": [],
   "source": [
    "# import sys\n",
    "# import os\n",
    "\n",
    "# # Add the parent directory to the sys.path\n",
    "# parent_dir = os.path.abspath(os.path.join(os.getcwd(), os.pardir))\n",
    "# if parent_dir not in sys.path:\n",
    "#     sys.path.append(parent_dir)"
   ]
  },
  {
   "cell_type": "markdown",
   "metadata": {},
   "source": [
    "# Load data"
   ]
  },
  {
   "cell_type": "code",
   "execution_count": 2,
   "metadata": {
    "execution": {
     "iopub.execute_input": "2024-06-29T09:02:47.873815Z",
     "iopub.status.busy": "2024-06-29T09:02:47.873578Z",
     "iopub.status.idle": "2024-06-29T09:04:36.351795Z",
     "shell.execute_reply": "2024-06-29T09:04:36.349934Z"
    }
   },
   "outputs": [],
   "source": [
    "import pandas as pd\n",
    "from constants import NULLABLE_MEASURES, TEMP_PATH\n",
    "from utils.class_patient import Patients\n",
    "\n",
    "patients = Patients.loadPatients(False, TEMP_PATH / \"learning_data-org.json\")\n",
    "patients.fillMissingMeasureValue(NULLABLE_MEASURES, 0)"
   ]
  },
  {
   "cell_type": "markdown",
   "metadata": {},
   "source": [
    "# Remove missing data"
   ]
  },
  {
   "cell_type": "markdown",
   "metadata": {},
   "source": [
    "## Remove features with more than 20% missing"
   ]
  },
  {
   "cell_type": "code",
   "execution_count": 3,
   "metadata": {
    "execution": {
     "iopub.execute_input": "2024-06-29T09:04:36.356807Z",
     "iopub.status.busy": "2024-06-29T09:04:36.356399Z",
     "iopub.status.idle": "2024-06-29T09:04:36.422510Z",
     "shell.execute_reply": "2024-06-29T09:04:36.422152Z"
    }
   },
   "outputs": [
    {
     "name": "stdout",
     "output_type": "stream",
     "text": [
      "pco2 917\n",
      "ph 954\n",
      "po2 917\n",
      "albumin 406\n",
      "hba1c 326\n",
      "lymphocyte 446\n",
      "height 415\n",
      "urine-ketone 294\n",
      "crp 19\n"
     ]
    }
   ],
   "source": [
    "# remove measures with less than 80% of data\n",
    "\n",
    "measures = patients.getMeasures()\n",
    "\n",
    "for measure, count in measures.items():\n",
    "    if count < len(patients) * 80 / 100:\n",
    "        patients.removeMeasures([measure])\n",
    "        print(measure, count)"
   ]
  },
  {
   "cell_type": "markdown",
   "metadata": {},
   "source": [
    "## Remove patients with more than 20% missing features"
   ]
  },
  {
   "cell_type": "code",
   "execution_count": 4,
   "metadata": {
    "execution": {
     "iopub.execute_input": "2024-06-29T09:04:36.428439Z",
     "iopub.status.busy": "2024-06-29T09:04:36.428144Z",
     "iopub.status.idle": "2024-06-29T09:04:36.442987Z",
     "shell.execute_reply": "2024-06-29T09:04:36.442659Z"
    }
   },
   "outputs": [
    {
     "data": {
      "text/plain": [
       "1209"
      ]
     },
     "execution_count": 4,
     "metadata": {},
     "output_type": "execute_result"
    }
   ],
   "source": [
    "patients.removePatientByMissingFeatures()\n",
    "len(patients)"
   ]
  },
  {
   "cell_type": "markdown",
   "metadata": {},
   "source": [
    "## Display insight"
   ]
  },
  {
   "cell_type": "code",
   "execution_count": 5,
   "metadata": {
    "execution": {
     "iopub.execute_input": "2024-06-29T09:04:36.452748Z",
     "iopub.status.busy": "2024-06-29T09:04:36.447061Z",
     "iopub.status.idle": "2024-06-29T09:04:36.461886Z",
     "shell.execute_reply": "2024-06-29T09:04:36.461564Z"
    }
   },
   "outputs": [
    {
     "data": {
      "text/plain": [
       "Counter({'age': 1209,\n",
       "         'chronic_pulmonary_disease': 1209,\n",
       "         'ckd_stage': 1209,\n",
       "         'congestive_heart_failure': 1209,\n",
       "         'dka_type': 1209,\n",
       "         'gender': 1209,\n",
       "         'history_aci': 1209,\n",
       "         'history_ami': 1209,\n",
       "         'hypertension': 1209,\n",
       "         'liver_disease': 1209,\n",
       "         'macroangiopathy': 1209,\n",
       "         'malignant_cancer': 1209,\n",
       "         'mechanical_ventilation': 1209,\n",
       "         'microangiopathy': 1209,\n",
       "         'oasis': 1209,\n",
       "         'preiculos': 1209,\n",
       "         'race': 1209,\n",
       "         'saps2': 1209,\n",
       "         'sofa': 1209,\n",
       "         'use_NaHCO3': 1209,\n",
       "         'uti': 1209,\n",
       "         'ag': 1208,\n",
       "         'bg': 1208,\n",
       "         'bicarbonate': 1208,\n",
       "         'bun': 1208,\n",
       "         'egfr': 1208,\n",
       "         'hr': 1208,\n",
       "         'scr': 1208,\n",
       "         'dbp': 1207,\n",
       "         'gcs': 1207,\n",
       "         'gcs_unable': 1207,\n",
       "         'rr': 1207,\n",
       "         'sbp': 1207,\n",
       "         'phosphate': 1204,\n",
       "         'calcium': 1203,\n",
       "         'weight': 1191,\n",
       "         'plt': 1147,\n",
       "         'hb': 1145,\n",
       "         'wbc': 1145})"
      ]
     },
     "metadata": {},
     "output_type": "display_data"
    }
   ],
   "source": [
    "# dfData = patients.getMeasuresBetween(pd.Timedelta(hours=-6), pd.Timedelta(hours=24), \"first\")\n",
    "\n",
    "with pd.option_context(\"display.max_rows\", None, \"display.max_columns\", None):\n",
    "    display(patients.getMeasures())"
   ]
  },
  {
   "cell_type": "code",
   "execution_count": 6,
   "metadata": {
    "execution": {
     "iopub.execute_input": "2024-06-29T09:04:36.468146Z",
     "iopub.status.busy": "2024-06-29T09:04:36.465105Z",
     "iopub.status.idle": "2024-06-29T09:04:36.471147Z",
     "shell.execute_reply": "2024-06-29T09:04:36.470738Z"
    }
   },
   "outputs": [
    {
     "data": {
      "text/plain": [
       "0.3937138130686518"
      ]
     },
     "execution_count": 6,
     "metadata": {},
     "output_type": "execute_result"
    }
   ],
   "source": [
    "akdCount = sum([p.akdPositive for p in patients.patientList])\n",
    "\n",
    "akdCount / len(patients)"
   ]
  },
  {
   "cell_type": "markdown",
   "metadata": {},
   "source": [
    "# Machine learning"
   ]
  },
  {
   "cell_type": "code",
   "execution_count": 7,
   "metadata": {
    "execution": {
     "iopub.execute_input": "2024-06-29T09:04:36.472472Z",
     "iopub.status.busy": "2024-06-29T09:04:36.472355Z",
     "iopub.status.idle": "2024-06-29T09:04:36.474097Z",
     "shell.execute_reply": "2024-06-29T09:04:36.473878Z"
    }
   },
   "outputs": [],
   "source": [
    "from constants import CATEGORICAL_MEASURES\n",
    "\n",
    "\n",
    "idColumns = [\"subject_id\", \"hadm_id\", \"stay_id\"]\n",
    "categoryColumns = CATEGORICAL_MEASURES\n",
    "labelColumn = \"akd\""
   ]
  },
  {
   "cell_type": "markdown",
   "metadata": {},
   "source": [
    "## Split train-test"
   ]
  },
  {
   "cell_type": "code",
   "execution_count": 8,
   "metadata": {
    "execution": {
     "iopub.execute_input": "2024-06-29T09:04:36.475061Z",
     "iopub.status.busy": "2024-06-29T09:04:36.474964Z",
     "iopub.status.idle": "2024-06-29T09:04:36.478243Z",
     "shell.execute_reply": "2024-06-29T09:04:36.478019Z"
    }
   },
   "outputs": [],
   "source": [
    "splitedPatients = patients.split(5, 27)\n",
    "\n",
    "\n",
    "def trainTest():\n",
    "    for i in range(splitedPatients.__len__()):\n",
    "        testPatients = splitedPatients[i]\n",
    "\n",
    "        trainPatientsList = splitedPatients[:i] + splitedPatients[i + 1 :]\n",
    "        trainPatients = Patients(patients=[])\n",
    "        for trainPatientsElem in trainPatientsList:\n",
    "            trainPatients += trainPatientsElem\n",
    "\n",
    "        yield trainPatients, testPatients\n",
    "\n",
    "\n",
    "def trainValTest():\n",
    "    for i in range(splitedPatients.__len__()):\n",
    "        testPatients = splitedPatients[i]\n",
    "\n",
    "        trainPatientsList = splitedPatients[:i] + splitedPatients[i + 1 :]\n",
    "        trainPatients = Patients(patients=[])\n",
    "        for trainPatientsElem in trainPatientsList:\n",
    "            trainPatients += trainPatientsElem\n",
    "\n",
    "        *trainPatients, valPatients = trainPatients.split(5, 27)\n",
    "        tmpPatients = Patients(patients=[])\n",
    "        for trainPatientsElem in trainPatients:\n",
    "            tmpPatients += trainPatientsElem\n",
    "        trainPatients = tmpPatients\n",
    "\n",
    "        yield trainPatients, valPatients, testPatients"
   ]
  },
  {
   "cell_type": "markdown",
   "metadata": {},
   "source": [
    "## Define model"
   ]
  },
  {
   "cell_type": "code",
   "execution_count": 9,
   "metadata": {
    "execution": {
     "iopub.execute_input": "2024-06-29T09:04:36.479293Z",
     "iopub.status.busy": "2024-06-29T09:04:36.479200Z",
     "iopub.status.idle": "2024-06-29T09:04:36.494125Z",
     "shell.execute_reply": "2024-06-29T09:04:36.493880Z"
    },
    "tags": [
     "input"
    ]
   },
   "outputs": [],
   "source": [
    "import xgboost as xgb\n",
    "\n",
    "how = \"first\"\n",
    "\n",
    "params = {\n",
    "    \"validate_parameters\": True,\n",
    "    \"device\": \"gpu\",  # Use GPU acceleration\n",
    "    \"n_jobs\": -1,  # Use all CPU cores\n",
    "    \"eval_metric\": \"logloss\",  # Evaluation metric\n",
    "    \"max_depth\": 6,  # Maximum depth of a tree\n",
    "    \"min_child_weight\": 1,  # Minimum sum of instance weight (hessian) needed in a child\n",
    "    \"gamma\": 0,  # Minimum loss reduction required to make a further partition on a leaf node\n",
    "    \"subsample\": 0.8,  # Subsample ratio of the training instances\n",
    "    \"colsample_bytree\": 0.8,  # Subsample ratio of columns when constructing each tree\n",
    "    \"reg_alpha\": 0.01,  # L1 regularization term on weights\n",
    "    \"reg_lambda\": 1,  # L2 regularization term on weights\n",
    "    \"objective\": \"binary:logistic\",  # Binary classification objective\n",
    "    \"n_estimators\": 1000,  # Number of trees\n",
    "    \"learning_rate\": 0.01,  # Learning rate\n",
    "    \"early_stopping_rounds\": 10,  # Early stopping\n",
    "    \"verbose\": 0,  # Verbosity\n",
    "}\n",
    "\n",
    "\n",
    "def createModel():\n",
    "    model = xgb.XGBClassifier(**params)\n",
    "    return model"
   ]
  },
  {
   "cell_type": "markdown",
   "id": "bbba87f3",
   "metadata": {},
   "source": [
    "`functionize-notebook` has modified this notebook during execution. The following variables have been injected:\n",
    "\n",
    "- how: avg\n"
   ]
  },
  {
   "cell_type": "markdown",
   "metadata": {},
   "source": [
    "## Without validate"
   ]
  },
  {
   "cell_type": "markdown",
   "metadata": {},
   "source": [
    "### Without fill missing data"
   ]
  },
  {
   "cell_type": "code",
   "execution_count": 11,
   "metadata": {
    "execution": {
     "iopub.execute_input": "2024-06-29T09:04:36.498416Z",
     "iopub.status.busy": "2024-06-29T09:04:36.498236Z",
     "iopub.status.idle": "2024-06-29T09:06:08.902996Z",
     "shell.execute_reply": "2024-06-29T09:06:08.902681Z"
    }
   },
   "outputs": [
    {
     "name": "stderr",
     "output_type": "stream",
     "text": [
      "/home/tu/codepy/hust.year2023.PredictingRiskDiabeticKetoacidosis-associatedKidneyInjury/.venv/lib/python3.12/site-packages/xgboost/core.py:160: UserWarning: [16:04:52] WARNING: /workspace/src/learner.cc:742: \n",
      "Parameters: { \"verbose\" } are not used.\n",
      "\n",
      "  warnings.warn(smsg, UserWarning)\n"
     ]
    },
    {
     "name": "stderr",
     "output_type": "stream",
     "text": [
      "/home/tu/codepy/hust.year2023.PredictingRiskDiabeticKetoacidosis-associatedKidneyInjury/.venv/lib/python3.12/site-packages/xgboost/core.py:160: UserWarning: [16:04:54] WARNING: /workspace/src/common/error_msg.cc:58: Falling back to prediction using DMatrix due to mismatched devices. This might lead to higher memory usage and slower performance. XGBoost is running on: cuda:0, while the input data is on: cpu.\n",
      "Potential solutions:\n",
      "- Use a data structure that matches the device ordinal in the booster.\n",
      "- Set the device for booster before call to inplace_predict.\n",
      "\n",
      "This warning will only be shown once.\n",
      "\n",
      "  warnings.warn(smsg, UserWarning)\n"
     ]
    },
    {
     "name": "stderr",
     "output_type": "stream",
     "text": [
      "/home/tu/codepy/hust.year2023.PredictingRiskDiabeticKetoacidosis-associatedKidneyInjury/.venv/lib/python3.12/site-packages/xgboost/core.py:160: UserWarning: [16:05:10] WARNING: /workspace/src/learner.cc:742: \n",
      "Parameters: { \"verbose\" } are not used.\n",
      "\n",
      "  warnings.warn(smsg, UserWarning)\n"
     ]
    },
    {
     "name": "stderr",
     "output_type": "stream",
     "text": [
      "/home/tu/codepy/hust.year2023.PredictingRiskDiabeticKetoacidosis-associatedKidneyInjury/.venv/lib/python3.12/site-packages/xgboost/core.py:160: UserWarning: [16:05:29] WARNING: /workspace/src/learner.cc:742: \n",
      "Parameters: { \"verbose\" } are not used.\n",
      "\n",
      "  warnings.warn(smsg, UserWarning)\n"
     ]
    },
    {
     "name": "stderr",
     "output_type": "stream",
     "text": [
      "/home/tu/codepy/hust.year2023.PredictingRiskDiabeticKetoacidosis-associatedKidneyInjury/.venv/lib/python3.12/site-packages/xgboost/core.py:160: UserWarning: [16:05:48] WARNING: /workspace/src/learner.cc:742: \n",
      "Parameters: { \"verbose\" } are not used.\n",
      "\n",
      "  warnings.warn(smsg, UserWarning)\n"
     ]
    },
    {
     "name": "stderr",
     "output_type": "stream",
     "text": [
      "/home/tu/codepy/hust.year2023.PredictingRiskDiabeticKetoacidosis-associatedKidneyInjury/.venv/lib/python3.12/site-packages/xgboost/core.py:160: UserWarning: [16:06:06] WARNING: /workspace/src/learner.cc:742: \n",
      "Parameters: { \"verbose\" } are not used.\n",
      "\n",
      "  warnings.warn(smsg, UserWarning)\n"
     ]
    }
   ],
   "source": [
    "import numpy as np\n",
    "from sklearn.metrics import accuracy_score, precision_score, recall_score, roc_auc_score\n",
    "from utils.prepare_data import normalizeData\n",
    "\n",
    "\n",
    "accuracy_score_list = []\n",
    "precision_score_list = []\n",
    "recall_score_list = []\n",
    "auc_score_list = []\n",
    "for trainPatients, testPatients in trainTest():\n",
    "    dfTrain = trainPatients.getMeasuresBetween(\n",
    "        pd.Timedelta(hours=-6), pd.Timedelta(hours=24), how, getUntilAkiPositive=True\n",
    "    )\n",
    "    dfTrain = dfTrain.drop(columns=idColumns)\n",
    "\n",
    "    dfTest = testPatients.getMeasuresBetween(\n",
    "        pd.Timedelta(hours=-6), pd.Timedelta(hours=24), how, getUntilAkiPositive=True\n",
    "    )\n",
    "    dfTest = dfTest.drop(columns=idColumns)\n",
    "\n",
    "    dfTrain, dfTest, _ = normalizeData(dfTrain, dfTest)\n",
    "\n",
    "    X_train = dfTrain.drop(columns=[labelColumn])\n",
    "    y_train = dfTrain[labelColumn]\n",
    "\n",
    "    X_test = dfTest.drop(columns=[labelColumn])\n",
    "    y_test = dfTest[labelColumn]\n",
    "\n",
    "    model = createModel()\n",
    "    model.fit(X_train, y_train, eval_set=[(X_train, y_train)], verbose=False)\n",
    "\n",
    "    y_pred = model.predict(X_test)\n",
    "    y_pred_proba = model.predict_proba(X_test)[:, 1]  # For AUC\n",
    "\n",
    "    accuracy_score_list.append(accuracy_score(y_test, y_pred))\n",
    "    precision_score_list.append(precision_score(y_test, y_pred))\n",
    "    recall_score_list.append(recall_score(y_test, y_pred))\n",
    "    auc_score_list.append(roc_auc_score(y_test, y_pred_proba))"
   ]
  },
  {
   "cell_type": "code",
   "execution_count": 12,
   "metadata": {
    "execution": {
     "iopub.execute_input": "2024-06-29T09:06:08.906156Z",
     "iopub.status.busy": "2024-06-29T09:06:08.905885Z",
     "iopub.status.idle": "2024-06-29T09:06:08.908828Z",
     "shell.execute_reply": "2024-06-29T09:06:08.908268Z"
    }
   },
   "outputs": [
    {
     "name": "stdout",
     "output_type": "stream",
     "text": [
      "Average AUC: 0.8193309809504191\n",
      "Average Accuracy: 0.7543225540962244\n",
      "Average Precision: 0.712720547808267\n",
      "Average Recall: 0.6345833333333333\n"
     ]
    }
   ],
   "source": [
    "\n",
    "print(f\"Average AUC: {np.mean(auc_score_list)}\")\n",
    "print(f\"Average Accuracy: {np.mean(accuracy_score_list)}\")\n",
    "print(f\"Average Precision: {np.mean(precision_score_list)}\")\n",
    "print(f\"Average Recall: {np.mean(recall_score_list)}\")"
   ]
  },
  {
   "cell_type": "markdown",
   "metadata": {},
   "source": [
    "### Fill missing with knn"
   ]
  },
  {
   "cell_type": "code",
   "execution_count": 13,
   "metadata": {
    "execution": {
     "iopub.execute_input": "2024-06-29T09:06:08.914091Z",
     "iopub.status.busy": "2024-06-29T09:06:08.911998Z",
     "iopub.status.idle": "2024-06-29T09:07:35.456554Z",
     "shell.execute_reply": "2024-06-29T09:07:35.455897Z"
    }
   },
   "outputs": [
    {
     "name": "stderr",
     "output_type": "stream",
     "text": [
      "/home/tu/codepy/hust.year2023.PredictingRiskDiabeticKetoacidosis-associatedKidneyInjury/.venv/lib/python3.12/site-packages/xgboost/core.py:160: UserWarning: [16:06:25] WARNING: /workspace/src/learner.cc:742: \n",
      "Parameters: { \"verbose\" } are not used.\n",
      "\n",
      "  warnings.warn(smsg, UserWarning)\n"
     ]
    },
    {
     "name": "stderr",
     "output_type": "stream",
     "text": [
      "/home/tu/codepy/hust.year2023.PredictingRiskDiabeticKetoacidosis-associatedKidneyInjury/.venv/lib/python3.12/site-packages/xgboost/core.py:160: UserWarning: [16:06:42] WARNING: /workspace/src/learner.cc:742: \n",
      "Parameters: { \"verbose\" } are not used.\n",
      "\n",
      "  warnings.warn(smsg, UserWarning)\n"
     ]
    },
    {
     "name": "stderr",
     "output_type": "stream",
     "text": [
      "/home/tu/codepy/hust.year2023.PredictingRiskDiabeticKetoacidosis-associatedKidneyInjury/.venv/lib/python3.12/site-packages/xgboost/core.py:160: UserWarning: [16:06:56] WARNING: /workspace/src/learner.cc:742: \n",
      "Parameters: { \"verbose\" } are not used.\n",
      "\n",
      "  warnings.warn(smsg, UserWarning)\n"
     ]
    },
    {
     "name": "stderr",
     "output_type": "stream",
     "text": [
      "/home/tu/codepy/hust.year2023.PredictingRiskDiabeticKetoacidosis-associatedKidneyInjury/.venv/lib/python3.12/site-packages/xgboost/core.py:160: UserWarning: [16:07:14] WARNING: /workspace/src/learner.cc:742: \n",
      "Parameters: { \"verbose\" } are not used.\n",
      "\n",
      "  warnings.warn(smsg, UserWarning)\n"
     ]
    },
    {
     "name": "stderr",
     "output_type": "stream",
     "text": [
      "/home/tu/codepy/hust.year2023.PredictingRiskDiabeticKetoacidosis-associatedKidneyInjury/.venv/lib/python3.12/site-packages/xgboost/core.py:160: UserWarning: [16:07:33] WARNING: /workspace/src/learner.cc:742: \n",
      "Parameters: { \"verbose\" } are not used.\n",
      "\n",
      "  warnings.warn(smsg, UserWarning)\n"
     ]
    }
   ],
   "source": [
    "from sklearn.metrics import roc_auc_score\n",
    "from utils.prepare_data import normalizeAndFillData\n",
    "\n",
    "\n",
    "accuracy_score_list_knn = []\n",
    "precision_score_list_knn = []\n",
    "recall_score_list_knn = []\n",
    "auc_score_list_knn = []\n",
    "for trainPatients, testPatients in trainTest():\n",
    "    dfTrain = trainPatients.getMeasuresBetween(\n",
    "        pd.Timedelta(hours=-6), pd.Timedelta(hours=24), how, getUntilAkiPositive=True\n",
    "    )\n",
    "    dfTrain = dfTrain.drop(columns=idColumns)\n",
    "\n",
    "    dfTest = testPatients.getMeasuresBetween(\n",
    "        pd.Timedelta(hours=-6), pd.Timedelta(hours=24), how, getUntilAkiPositive=True\n",
    "    )\n",
    "    dfTest = dfTest.drop(columns=idColumns)\n",
    "\n",
    "    dfTrain, dfTest, _ = normalizeAndFillData(dfTrain, dfTest)\n",
    "\n",
    "    X_train = dfTrain.drop(columns=[labelColumn])\n",
    "    y_train = dfTrain[labelColumn]\n",
    "\n",
    "    X_test = dfTest.drop(columns=[labelColumn])\n",
    "    y_test = dfTest[labelColumn]\n",
    "\n",
    "    model = createModel()\n",
    "    model.fit(X_train, y_train, eval_set=[(X_train, y_train)], verbose=False)\n",
    "\n",
    "    y_pred = model.predict(X_test)\n",
    "    y_pred_proba = model.predict_proba(X_test)[:, 1]  # For AUC\n",
    "\n",
    "    accuracy_score_list_knn.append(accuracy_score(y_test, y_pred))\n",
    "    precision_score_list_knn.append(precision_score(y_test, y_pred))\n",
    "    recall_score_list_knn.append(recall_score(y_test, y_pred))\n",
    "    auc_score_list_knn.append(roc_auc_score(y_test, y_pred_proba))"
   ]
  },
  {
   "cell_type": "code",
   "execution_count": 14,
   "metadata": {
    "execution": {
     "iopub.execute_input": "2024-06-29T09:07:35.462596Z",
     "iopub.status.busy": "2024-06-29T09:07:35.461851Z",
     "iopub.status.idle": "2024-06-29T09:07:35.476535Z",
     "shell.execute_reply": "2024-06-29T09:07:35.476030Z"
    }
   },
   "outputs": [
    {
     "name": "stdout",
     "output_type": "stream",
     "text": [
      "Average AUC: 0.7924337568480888\n",
      "Average Accuracy: 0.7377764822879874\n",
      "Average Precision: 0.6896936933267938\n",
      "Average Recall: 0.6093201754385964\n"
     ]
    }
   ],
   "source": [
    "\n",
    "print(f\"Average AUC: {np.mean(auc_score_list_knn)}\")\n",
    "print(f\"Average Accuracy: {np.mean(accuracy_score_list_knn)}\")\n",
    "print(f\"Average Precision: {np.mean(precision_score_list_knn)}\")\n",
    "print(f\"Average Recall: {np.mean(recall_score_list_knn)}\")"
   ]
  },
  {
   "cell_type": "markdown",
   "metadata": {},
   "source": [
    "# With validate"
   ]
  },
  {
   "cell_type": "markdown",
   "metadata": {},
   "source": [
    "### Without fill missing data"
   ]
  },
  {
   "cell_type": "code",
   "execution_count": 15,
   "metadata": {
    "execution": {
     "iopub.execute_input": "2024-06-29T09:07:35.480470Z",
     "iopub.status.busy": "2024-06-29T09:07:35.480241Z",
     "iopub.status.idle": "2024-06-29T09:09:05.194468Z",
     "shell.execute_reply": "2024-06-29T09:09:05.193920Z"
    }
   },
   "outputs": [
    {
     "name": "stderr",
     "output_type": "stream",
     "text": [
      "/home/tu/codepy/hust.year2023.PredictingRiskDiabeticKetoacidosis-associatedKidneyInjury/.venv/lib/python3.12/site-packages/xgboost/core.py:160: UserWarning: [16:07:51] WARNING: /workspace/src/learner.cc:742: \n",
      "Parameters: { \"verbose\" } are not used.\n",
      "\n",
      "  warnings.warn(smsg, UserWarning)\n"
     ]
    },
    {
     "name": "stderr",
     "output_type": "stream",
     "text": [
      "/home/tu/codepy/hust.year2023.PredictingRiskDiabeticKetoacidosis-associatedKidneyInjury/.venv/lib/python3.12/site-packages/xgboost/core.py:160: UserWarning: [16:08:10] WARNING: /workspace/src/learner.cc:742: \n",
      "Parameters: { \"verbose\" } are not used.\n",
      "\n",
      "  warnings.warn(smsg, UserWarning)\n"
     ]
    },
    {
     "name": "stderr",
     "output_type": "stream",
     "text": [
      "/home/tu/codepy/hust.year2023.PredictingRiskDiabeticKetoacidosis-associatedKidneyInjury/.venv/lib/python3.12/site-packages/xgboost/core.py:160: UserWarning: [16:08:29] WARNING: /workspace/src/learner.cc:742: \n",
      "Parameters: { \"verbose\" } are not used.\n",
      "\n",
      "  warnings.warn(smsg, UserWarning)\n"
     ]
    },
    {
     "name": "stderr",
     "output_type": "stream",
     "text": [
      "/home/tu/codepy/hust.year2023.PredictingRiskDiabeticKetoacidosis-associatedKidneyInjury/.venv/lib/python3.12/site-packages/xgboost/core.py:160: UserWarning: [16:08:46] WARNING: /workspace/src/learner.cc:742: \n",
      "Parameters: { \"verbose\" } are not used.\n",
      "\n",
      "  warnings.warn(smsg, UserWarning)\n"
     ]
    },
    {
     "name": "stderr",
     "output_type": "stream",
     "text": [
      "/home/tu/codepy/hust.year2023.PredictingRiskDiabeticKetoacidosis-associatedKidneyInjury/.venv/lib/python3.12/site-packages/xgboost/core.py:160: UserWarning: [16:09:03] WARNING: /workspace/src/learner.cc:742: \n",
      "Parameters: { \"verbose\" } are not used.\n",
      "\n",
      "  warnings.warn(smsg, UserWarning)\n"
     ]
    }
   ],
   "source": [
    "from utils.prepare_data import normalizeData\n",
    "\n",
    "\n",
    "accuracy_score_list_val = []\n",
    "precision_score_list_val = []\n",
    "recall_score_list_val = []\n",
    "auc_score_list_val = []\n",
    "for trainPatients, valPatients, testPatients in trainValTest():\n",
    "    dfTrain = trainPatients.getMeasuresBetween(\n",
    "        pd.Timedelta(hours=-6), pd.Timedelta(hours=24), how, getUntilAkiPositive=True\n",
    "    )\n",
    "    dfTrain = dfTrain.drop(columns=idColumns)\n",
    "\n",
    "    dfVal = valPatients.getMeasuresBetween(\n",
    "        pd.Timedelta(hours=-6), pd.Timedelta(hours=24), how, getUntilAkiPositive=True\n",
    "    )\n",
    "    dfVal = dfVal.drop(columns=idColumns)\n",
    "\n",
    "    dfTest = testPatients.getMeasuresBetween(\n",
    "        pd.Timedelta(hours=-6), pd.Timedelta(hours=24), how, getUntilAkiPositive=True\n",
    "    )\n",
    "    dfTest = dfTest.drop(columns=idColumns)\n",
    "\n",
    "    dfTrain, dfTest, dfVal = normalizeData(dfTrain, dfTest, dfVal)\n",
    "\n",
    "    X_train = dfTrain.drop(columns=[labelColumn])\n",
    "    y_train = dfTrain[labelColumn]\n",
    "\n",
    "    X_val = dfVal.drop(columns=[labelColumn]) # type: ignore\n",
    "    y_val = dfVal[labelColumn] # type: ignore\n",
    "\n",
    "    X_test = dfTest.drop(columns=[labelColumn])\n",
    "    y_test = dfTest[labelColumn]\n",
    "\n",
    "    model = createModel()\n",
    "    model.fit(X_train, y_train, eval_set=[(X_val, y_val), (X_train, y_train)], verbose=False)\n",
    "\n",
    "    y_pred = model.predict(X_test)\n",
    "    y_pred_proba = model.predict_proba(X_test)[:, 1]  # For AUC\n",
    "\n",
    "    accuracy_score_list_val.append(accuracy_score(y_test, y_pred))\n",
    "    precision_score_list_val.append(precision_score(y_test, y_pred))\n",
    "    recall_score_list_val.append(recall_score(y_test, y_pred))\n",
    "    auc_score_list_val.append(roc_auc_score(y_test, y_pred_proba))"
   ]
  },
  {
   "cell_type": "code",
   "execution_count": 16,
   "metadata": {
    "execution": {
     "iopub.execute_input": "2024-06-29T09:09:05.201523Z",
     "iopub.status.busy": "2024-06-29T09:09:05.201368Z",
     "iopub.status.idle": "2024-06-29T09:09:05.203681Z",
     "shell.execute_reply": "2024-06-29T09:09:05.203414Z"
    }
   },
   "outputs": [
    {
     "name": "stdout",
     "output_type": "stream",
     "text": [
      "Average AUC: 0.8183505301904468\n",
      "Average Accuracy: 0.7476904084222078\n",
      "Average Precision: 0.7129789250230695\n",
      "Average Recall: 0.6072368421052632\n"
     ]
    }
   ],
   "source": [
    "\n",
    "\n",
    "print(f\"Average AUC: {np.mean(auc_score_list_val)}\")\n",
    "print(f\"Average Accuracy: {np.mean(accuracy_score_list_val)}\")\n",
    "print(f\"Average Precision: {np.mean(precision_score_list_val)}\")\n",
    "print(f\"Average Recall: {np.mean(recall_score_list_val)}\")"
   ]
  },
  {
   "cell_type": "markdown",
   "metadata": {},
   "source": [
    "### Fill missing with knn"
   ]
  },
  {
   "cell_type": "code",
   "execution_count": 17,
   "metadata": {
    "execution": {
     "iopub.execute_input": "2024-06-29T09:09:05.213963Z",
     "iopub.status.busy": "2024-06-29T09:09:05.213634Z",
     "iopub.status.idle": "2024-06-29T09:10:02.301711Z",
     "shell.execute_reply": "2024-06-29T09:10:02.301259Z"
    }
   },
   "outputs": [
    {
     "name": "stderr",
     "output_type": "stream",
     "text": [
      "/home/tu/codepy/hust.year2023.PredictingRiskDiabeticKetoacidosis-associatedKidneyInjury/.venv/lib/python3.12/site-packages/xgboost/core.py:160: UserWarning: [16:09:19] WARNING: /workspace/src/learner.cc:742: \n",
      "Parameters: { \"verbose\" } are not used.\n",
      "\n",
      "  warnings.warn(smsg, UserWarning)\n"
     ]
    },
    {
     "name": "stderr",
     "output_type": "stream",
     "text": [
      "/home/tu/codepy/hust.year2023.PredictingRiskDiabeticKetoacidosis-associatedKidneyInjury/.venv/lib/python3.12/site-packages/xgboost/core.py:160: UserWarning: [16:09:33] WARNING: /workspace/src/learner.cc:742: \n",
      "Parameters: { \"verbose\" } are not used.\n",
      "\n",
      "  warnings.warn(smsg, UserWarning)\n"
     ]
    },
    {
     "name": "stderr",
     "output_type": "stream",
     "text": [
      "/home/tu/codepy/hust.year2023.PredictingRiskDiabeticKetoacidosis-associatedKidneyInjury/.venv/lib/python3.12/site-packages/xgboost/core.py:160: UserWarning: [16:09:45] WARNING: /workspace/src/learner.cc:742: \n",
      "Parameters: { \"verbose\" } are not used.\n",
      "\n",
      "  warnings.warn(smsg, UserWarning)\n"
     ]
    },
    {
     "name": "stderr",
     "output_type": "stream",
     "text": [
      "/home/tu/codepy/hust.year2023.PredictingRiskDiabeticKetoacidosis-associatedKidneyInjury/.venv/lib/python3.12/site-packages/xgboost/core.py:160: UserWarning: [16:09:52] WARNING: /workspace/src/learner.cc:742: \n",
      "Parameters: { \"verbose\" } are not used.\n",
      "\n",
      "  warnings.warn(smsg, UserWarning)\n"
     ]
    },
    {
     "name": "stderr",
     "output_type": "stream",
     "text": [
      "/home/tu/codepy/hust.year2023.PredictingRiskDiabeticKetoacidosis-associatedKidneyInjury/.venv/lib/python3.12/site-packages/xgboost/core.py:160: UserWarning: [16:10:01] WARNING: /workspace/src/learner.cc:742: \n",
      "Parameters: { \"verbose\" } are not used.\n",
      "\n",
      "  warnings.warn(smsg, UserWarning)\n"
     ]
    }
   ],
   "source": [
    "from sklearn.metrics import roc_auc_score\n",
    "from utils.prepare_data import normalizeAndFillData\n",
    "\n",
    "\n",
    "accuracy_score_list_val_knn = []\n",
    "precision_score_list_val_knn = []\n",
    "recall_score_list_val_knn = []\n",
    "auc_score_list_val_knn = []\n",
    "metric_dic_list_val_knn = []\n",
    "for trainPatients, valPatients, testPatients in trainValTest():\n",
    "    dfTrain = trainPatients.getMeasuresBetween(\n",
    "        pd.Timedelta(hours=-6), pd.Timedelta(hours=24), how, getUntilAkiPositive=True\n",
    "    )\n",
    "    dfTrain = dfTrain.drop(columns=idColumns)\n",
    "\n",
    "    dfVal = valPatients.getMeasuresBetween(\n",
    "        pd.Timedelta(hours=-6), pd.Timedelta(hours=24), how, getUntilAkiPositive=True\n",
    "    )\n",
    "    dfVal = dfVal.drop(columns=idColumns)\n",
    "\n",
    "    dfTest = testPatients.getMeasuresBetween(\n",
    "        pd.Timedelta(hours=-6), pd.Timedelta(hours=24), how, getUntilAkiPositive=True\n",
    "    )\n",
    "    dfTest = dfTest.drop(columns=idColumns)\n",
    "\n",
    "    dfTrain, dfTest, dfVal = normalizeAndFillData(dfTrain, dfTest, dfVal)\n",
    "\n",
    "    X_train = dfTrain.drop(columns=[labelColumn])\n",
    "    y_train = dfTrain[labelColumn]\n",
    "\n",
    "    X_val = dfVal.drop(columns=[labelColumn])  # type: ignore\n",
    "    y_val = dfVal[labelColumn]  # type: ignore\n",
    "\n",
    "    X_test = dfTest.drop(columns=[labelColumn])\n",
    "    y_test = dfTest[labelColumn]\n",
    "\n",
    "    model = createModel()\n",
    "    model.fit(X_train, y_train, eval_set=[(X_val, y_val), (X_train, y_train)], verbose=False)\n",
    "\n",
    "    y_pred = model.predict(X_test)\n",
    "    y_pred_proba = model.predict_proba(X_test)[:, 1]  # For AUC\n",
    "\n",
    "    accuracy_score_list_val_knn.append(accuracy_score(y_test, y_pred))\n",
    "    precision_score_list_val_knn.append(precision_score(y_test, y_pred))\n",
    "    recall_score_list_val_knn.append(recall_score(y_test, y_pred))\n",
    "    auc_score_list_val_knn.append(roc_auc_score(y_test, y_pred_proba))"
   ]
  },
  {
   "cell_type": "code",
   "execution_count": 18,
   "metadata": {
    "execution": {
     "iopub.execute_input": "2024-06-29T09:10:02.303447Z",
     "iopub.status.busy": "2024-06-29T09:10:02.303294Z",
     "iopub.status.idle": "2024-06-29T09:10:02.305820Z",
     "shell.execute_reply": "2024-06-29T09:10:02.305495Z"
    }
   },
   "outputs": [
    {
     "name": "stdout",
     "output_type": "stream",
     "text": [
      "Average AUC: 0.7890018680507531\n",
      "Average Accuracy: 0.7319673536572822\n",
      "Average Precision: 0.6876323608511926\n",
      "Average Recall: 0.5861403508771931\n"
     ]
    }
   ],
   "source": [
    "print(f\"Average AUC: {np.mean(auc_score_list_val_knn)}\")\n",
    "print(f\"Average Accuracy: {np.mean(accuracy_score_list_val_knn)}\")\n",
    "print(f\"Average Precision: {np.mean(precision_score_list_val_knn)}\")\n",
    "print(f\"Average Recall: {np.mean(recall_score_list_val_knn)}\")"
   ]
  },
  {
   "cell_type": "markdown",
   "id": "0a4492e8",
   "metadata": {},
   "source": []
  }
 ],
 "metadata": {
  "kernelspec": {
   "display_name": ".venv",
   "language": "python",
   "name": "python3"
  },
  "language_info": {
   "codemirror_mode": {
    "name": "ipython",
    "version": 3
   },
   "file_extension": ".py",
   "mimetype": "text/x-python",
   "name": "python",
   "nbconvert_exporter": "python",
   "pygments_lexer": "ipython3",
   "version": "3.12.3"
  }
 },
 "nbformat": 4,
 "nbformat_minor": 2
}
