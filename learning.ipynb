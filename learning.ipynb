{
 "cells": [
  {
   "cell_type": "code",
   "execution_count": 10,
   "metadata": {},
   "outputs": [],
   "source": [
    "import pandas as pd\n",
    "\n",
    "ADMISSION_DATA_COLS = [\"subject_id\", \"hadm_id\", \"marital_status\", \"race\"]\n",
    "PERSONAL_DATA_COLS = [\"subject_id\", \"gender\", \"anchor_age\"]\n",
    "MESURE_DATA_COLS = ['hadm_id', 'stay_id', 'charttime', \"itemid\", \"valuenum\"]"
   ]
  },
  {
   "cell_type": "code",
   "execution_count": 11,
   "metadata": {},
   "outputs": [
    {
     "name": "stdout",
     "output_type": "stream",
     "text": [
      "<class 'pandas.core.frame.DataFrame'>\n",
      "RangeIndex: 8866 entries, 0 to 8865\n",
      "Data columns (total 2 columns):\n",
      " #   Column   Non-Null Count  Dtype\n",
      "---  ------   --------------  -----\n",
      " 0   hadm_id  8866 non-null   int64\n",
      " 1   stay_id  8866 non-null   int64\n",
      "dtypes: int64(2)\n",
      "memory usage: 138.7 KB\n"
     ]
    }
   ],
   "source": [
    "from constants import TEMP_PATH\n",
    "\n",
    "\n",
    "dfPatient = pd.read_csv(TEMP_PATH / \"icu_target.csv\", usecols=[\"hadm_id\", \"stay_id\"])\n",
    "dfPatient.info()"
   ]
  },
  {
   "cell_type": "code",
   "execution_count": 12,
   "metadata": {},
   "outputs": [
    {
     "name": "stdout",
     "output_type": "stream",
     "text": [
      "<class 'pandas.core.frame.DataFrame'>\n",
      "RangeIndex: 431231 entries, 0 to 431230\n",
      "Data columns (total 5 columns):\n",
      " #   Column          Non-Null Count   Dtype   \n",
      "---  ------          --------------   -----   \n",
      " 0   hadm_id         431231 non-null  int64   \n",
      " 1   marital_status  421998 non-null  category\n",
      " 2   race            431231 non-null  category\n",
      " 3   gender          431231 non-null  category\n",
      " 4   anchor_age      431231 non-null  int64   \n",
      "dtypes: category(3), int64(2)\n",
      "memory usage: 7.8 MB\n"
     ]
    }
   ],
   "source": [
    "from constants import MIMIC_PATH\n",
    "\n",
    "\n",
    "dfPatientAdmission = pd.read_csv(MIMIC_PATH / \"hosp\" / \"admissions.csv\", usecols=ADMISSION_DATA_COLS)\n",
    "dfPatientPersonal = pd.read_csv(MIMIC_PATH / \"hosp\" / \"patients.csv\", usecols=PERSONAL_DATA_COLS)\n",
    "\n",
    "dfPatientInfo = pd.merge(dfPatientAdmission, dfPatientPersonal, on=\"subject_id\")\n",
    "del dfPatientAdmission\n",
    "del dfPatientPersonal\n",
    "\n",
    "dfPatientInfo.drop(columns=\"subject_id\", inplace=True)\n",
    "dfPatientInfo[\"marital_status\"] = dfPatientInfo[\"marital_status\"].astype(\"category\")\n",
    "dfPatientInfo[\"race\"] = dfPatientInfo[\"race\"].astype(\"category\")\n",
    "dfPatientInfo[\"gender\"] = dfPatientInfo[\"gender\"].astype(\"category\")\n",
    "\n",
    "dfPatientInfo.info()"
   ]
  },
  {
   "cell_type": "code",
   "execution_count": 13,
   "metadata": {},
   "outputs": [
    {
     "name": "stdout",
     "output_type": "stream",
     "text": [
      "<class 'pandas.core.frame.DataFrame'>\n",
      "RangeIndex: 8866 entries, 0 to 8865\n",
      "Data columns (total 5 columns):\n",
      " #   Column          Non-Null Count  Dtype   \n",
      "---  ------          --------------  -----   \n",
      " 0   stay_id         8866 non-null   int64   \n",
      " 1   marital_status  8293 non-null   category\n",
      " 2   race            8866 non-null   category\n",
      " 3   gender          8866 non-null   category\n",
      " 4   anchor_age      8866 non-null   int64   \n",
      "dtypes: category(3), int64(2)\n",
      "memory usage: 166.3 KB\n"
     ]
    }
   ],
   "source": [
    "dfPatient = pd.merge(dfPatient, dfPatientInfo, on= \"hadm_id\")\n",
    "del dfPatientInfo\n",
    "\n",
    "dfPatient.drop(columns=\"hadm_id\", inplace=True)\n",
    "dfPatient.info()"
   ]
  },
  {
   "cell_type": "code",
   "execution_count": 14,
   "metadata": {},
   "outputs": [
    {
     "name": "stdout",
     "output_type": "stream",
     "text": [
      "<class 'pandas.core.frame.DataFrame'>\n",
      "RangeIndex: 8866 entries, 0 to 8865\n",
      "Data columns (total 7 columns):\n",
      " #   Column          Non-Null Count  Dtype         \n",
      "---  ------          --------------  -----         \n",
      " 0   stay_id         8866 non-null   int64         \n",
      " 1   marital_status  8293 non-null   category      \n",
      " 2   race            8866 non-null   category      \n",
      " 3   gender          8866 non-null   category      \n",
      " 4   anchor_age      8866 non-null   int64         \n",
      " 5   intime          8866 non-null   datetime64[ns]\n",
      " 6   outtime         8866 non-null   datetime64[ns]\n",
      "dtypes: category(3), datetime64[ns](2), int64(2)\n",
      "memory usage: 304.8 KB\n"
     ]
    }
   ],
   "source": [
    "dfIcuStay = pd.read_csv(\n",
    "    MIMIC_PATH / \"icu\" / \"icustays.csv\", \n",
    "    usecols=[\"stay_id\", \"intime\", \"outtime\"], \n",
    "    parse_dates=[\"intime\", \"outtime\"]\n",
    ")\n",
    "dfPatient = pd.merge(dfPatient, dfIcuStay, on= \"stay_id\")\n",
    "del dfIcuStay\n",
    "\n",
    "dfPatient.info()"
   ]
  },
  {
   "cell_type": "code",
   "execution_count": 19,
   "metadata": {},
   "outputs": [
    {
     "data": {
      "text/plain": [
       "Index(['stay_id', 'marital_status', 'race', 'gender', 'anchor_age', 'intime',\n",
       "       'outtime'],\n",
       "      dtype='object')"
      ]
     },
     "execution_count": 19,
     "metadata": {},
     "output_type": "execute_result"
    }
   ],
   "source": [
    "for rowId, row in dfPatient.iterrows():\n",
    "    x = row.index\n",
    "    break\n",
    "x"
   ]
  },
  {
   "cell_type": "code",
   "execution_count": 22,
   "metadata": {},
   "outputs": [],
   "source": [
    "from constants import IMPORTANT_MESUREMENTS_ICU\n",
    "\n",
    "\n",
    "MESURE_INTERVAL = pd.Timedelta(hours=6)\n",
    "MESURE_GROUP_LENGTH = 6\n",
    "\n",
    "dfs = []\n",
    "\n",
    "dfWillAkd = pd.read_csv(TEMP_PATH / \"will_akd.csv\", parse_dates=[\"charttime\"])\n",
    "\n",
    "for rowId, row in dfPatient.iterrows():\n",
    "    for i in range(99):\n",
    "        if (row[\"intime\"] + (i + MESURE_GROUP_LENGTH) * MESURE_INTERVAL > row[\"outtime\"]):\n",
    "            break\n",
    "\n",
    "        # get last group, check will_akd\n",
    "        newDf = pd.DataFrame(data=row, copy=True)\n",
    "        lastFrameTime = row[\"intime\"] + (i + MESURE_GROUP_LENGTH) * MESURE_INTERVAL\n",
    "        currentPatientWillAkd = dfWillAkd[dfWillAkd[\"stay_id\"] == row[\"stay_id\"]]\n",
    "        willAkd = any(\n",
    "            (lastFrameTime <= currentPatientWillAkd[\"charttime\"]) &\n",
    "            (currentPatientWillAkd[\"charttime\"] < lastFrameTime + MESURE_INTERVAL) &\n",
    "            (dfWillAkd[\"will_akd\"])\n",
    "        )\n",
    "        newDf[\"will_akd\"] = willAkd\n",
    "        \n",
    "        # find mesures \n",
    "        for mesureId, mesureName in IMPORTANT_MESUREMENTS_ICU.items():\n",
    "            dfCurrentMesure = pd.read_csv(TEMP_PATH / (\"chartevent_\" + mesureName + \".csv\"), parse_dates=[\"charttime\"])\n",
    "            dfCurrentMesure = dfCurrentMesure[dfCurrentMesure[\"stay_id\"] == row[\"stay_id\"]]\n",
    "            \n",
    "            mesureValues = []\n",
    "            for ii in range(MESURE_GROUP_LENGTH):\n",
    "                lowTime = row[\"intime\"] + (i + ii) * MESURE_INTERVAL\n",
    "                highTime = lowTime + MESURE_INTERVAL\n",
    "                \n",
    "                iiMesures = dfCurrentMesure[\n",
    "                    (lowTime <= dfCurrentMesure[\"charttime\"]) &\n",
    "                    (dfCurrentMesure[\"charttime\"] < highTime)                    \n",
    "                ]\n",
    "                \n",
    "                if (len(iiMesures) <= 0):\n",
    "                    value = 0\n",
    "                    pass\n",
    "                else:\n",
    "                    value = iiMesures[\"valuenum\"].std()\n",
    "                    pass\n",
    "                \n",
    "                mesureValues.append(value)\n",
    "                pass\n",
    "            \n",
    "            for idx, value in enumerate(mesureValues):\n",
    "                newDf[mesureName + str(idx)] = value\n",
    "                pass    \n",
    "            pass\n",
    "        \n",
    "        dfs.append(newDf)\n",
    "        pass\n",
    "    pass\n",
    "\n",
    "mainDf = pd.concat(dfs)\n",
    "mainDf.to_csv(TEMP_PATH / \"maindf.csv\")"
   ]
  }
 ],
 "metadata": {
  "kernelspec": {
   "display_name": ".venv",
   "language": "python",
   "name": "python3"
  },
  "language_info": {
   "codemirror_mode": {
    "name": "ipython",
    "version": 3
   },
   "file_extension": ".py",
   "mimetype": "text/x-python",
   "name": "python",
   "nbconvert_exporter": "python",
   "pygments_lexer": "ipython3",
   "version": "3.10.6"
  }
 },
 "nbformat": 4,
 "nbformat_minor": 2
}
