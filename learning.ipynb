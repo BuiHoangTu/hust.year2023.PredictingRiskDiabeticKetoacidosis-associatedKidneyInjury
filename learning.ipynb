{
 "cells": [
  {
   "cell_type": "code",
   "execution_count": 1,
   "metadata": {},
   "outputs": [],
   "source": [
    "import pandas as pd\n",
    "\n",
    "ADMISSION_DATA_COLS = [\"subject_id\", \"hadm_id\", \"marital_status\", \"race\"]\n",
    "PERSONAL_DATA_COLS = [\"subject_id\", \"gender\", \"anchor_age\"]\n",
    "MESURE_DATA_COLS = ['hadm_id', 'stay_id', 'charttime', \"itemid\", \"valuenum\"]"
   ]
  },
  {
   "cell_type": "code",
   "execution_count": 2,
   "metadata": {},
   "outputs": [
    {
     "name": "stdout",
     "output_type": "stream",
     "text": [
      "<class 'pandas.core.frame.DataFrame'>\n",
      "RangeIndex: 8866 entries, 0 to 8865\n",
      "Data columns (total 2 columns):\n",
      " #   Column   Non-Null Count  Dtype\n",
      "---  ------   --------------  -----\n",
      " 0   hadm_id  8866 non-null   int64\n",
      " 1   stay_id  8866 non-null   int64\n",
      "dtypes: int64(2)\n",
      "memory usage: 138.7 KB\n"
     ]
    }
   ],
   "source": [
    "from constants import TEMP_PATH\n",
    "\n",
    "\n",
    "dfPatient = pd.read_csv(TEMP_PATH / \"icu_target.csv\", usecols=[\"hadm_id\", \"stay_id\"])\n",
    "dfPatient.info()"
   ]
  },
  {
   "cell_type": "code",
   "execution_count": 3,
   "metadata": {},
   "outputs": [
    {
     "name": "stdout",
     "output_type": "stream",
     "text": [
      "<class 'pandas.core.frame.DataFrame'>\n",
      "RangeIndex: 431231 entries, 0 to 431230\n",
      "Data columns (total 5 columns):\n",
      " #   Column          Non-Null Count   Dtype   \n",
      "---  ------          --------------   -----   \n",
      " 0   hadm_id         431231 non-null  int64   \n",
      " 1   marital_status  421998 non-null  category\n",
      " 2   race            431231 non-null  category\n",
      " 3   gender          431231 non-null  category\n",
      " 4   anchor_age      431231 non-null  int64   \n",
      "dtypes: category(3), int64(2)\n",
      "memory usage: 7.8 MB\n"
     ]
    }
   ],
   "source": [
    "from constants import MIMIC_PATH\n",
    "\n",
    "\n",
    "dfPatientAdmission = pd.read_csv(MIMIC_PATH / \"hosp\" / \"admissions.csv\", usecols=ADMISSION_DATA_COLS)\n",
    "dfPatientPersonal = pd.read_csv(MIMIC_PATH / \"hosp\" / \"patients.csv\", usecols=PERSONAL_DATA_COLS)\n",
    "\n",
    "dfPatientInfo = pd.merge(dfPatientAdmission, dfPatientPersonal, on=\"subject_id\")\n",
    "del dfPatientAdmission\n",
    "del dfPatientPersonal\n",
    "\n",
    "dfPatientInfo.drop(columns=\"subject_id\", inplace=True)\n",
    "dfPatientInfo[\"marital_status\"] = dfPatientInfo[\"marital_status\"].astype(\"category\")\n",
    "dfPatientInfo[\"race\"] = dfPatientInfo[\"race\"].astype(\"category\")\n",
    "dfPatientInfo[\"gender\"] = dfPatientInfo[\"gender\"].astype(\"category\")\n",
    "\n",
    "dfPatientInfo.info()"
   ]
  },
  {
   "cell_type": "code",
   "execution_count": 4,
   "metadata": {},
   "outputs": [
    {
     "name": "stdout",
     "output_type": "stream",
     "text": [
      "<class 'pandas.core.frame.DataFrame'>\n",
      "RangeIndex: 8866 entries, 0 to 8865\n",
      "Data columns (total 5 columns):\n",
      " #   Column          Non-Null Count  Dtype   \n",
      "---  ------          --------------  -----   \n",
      " 0   stay_id         8866 non-null   int64   \n",
      " 1   marital_status  8293 non-null   category\n",
      " 2   race            8866 non-null   category\n",
      " 3   gender          8866 non-null   category\n",
      " 4   anchor_age      8866 non-null   int64   \n",
      "dtypes: category(3), int64(2)\n",
      "memory usage: 166.3 KB\n"
     ]
    }
   ],
   "source": [
    "dfPatient = pd.merge(dfPatient, dfPatientInfo, on= \"hadm_id\")\n",
    "del dfPatientInfo\n",
    "\n",
    "dfPatient.drop(columns=\"hadm_id\", inplace=True)\n",
    "dfPatient.info()"
   ]
  },
  {
   "cell_type": "code",
   "execution_count": 5,
   "metadata": {},
   "outputs": [
    {
     "name": "stdout",
     "output_type": "stream",
     "text": [
      "<class 'pandas.core.frame.DataFrame'>\n",
      "RangeIndex: 8866 entries, 0 to 8865\n",
      "Data columns (total 7 columns):\n",
      " #   Column          Non-Null Count  Dtype         \n",
      "---  ------          --------------  -----         \n",
      " 0   stay_id         8866 non-null   int64         \n",
      " 1   marital_status  8293 non-null   category      \n",
      " 2   race            8866 non-null   category      \n",
      " 3   gender          8866 non-null   category      \n",
      " 4   anchor_age      8866 non-null   int64         \n",
      " 5   intime          8866 non-null   datetime64[ns]\n",
      " 6   outtime         8866 non-null   datetime64[ns]\n",
      "dtypes: category(3), datetime64[ns](2), int64(2)\n",
      "memory usage: 304.8 KB\n"
     ]
    }
   ],
   "source": [
    "dfIcuStay = pd.read_csv(\n",
    "    MIMIC_PATH / \"icu\" / \"icustays.csv\", \n",
    "    usecols=[\"stay_id\", \"intime\", \"outtime\"], \n",
    "    parse_dates=[\"intime\", \"outtime\"]\n",
    ")\n",
    "dfPatient = pd.merge(dfPatient, dfIcuStay, on= \"stay_id\")\n",
    "del dfIcuStay\n",
    "\n",
    "dfPatient.to_csv(TEMP_PATH / \"dfPatient.csv\")\n",
    "dfPatient.info()"
   ]
  },
  {
   "cell_type": "code",
   "execution_count": null,
   "metadata": {},
   "outputs": [],
   "source": []
  },
  {
   "cell_type": "code",
   "execution_count": 22,
   "metadata": {},
   "outputs": [
    {
     "ename": "",
     "evalue": "",
     "output_type": "error",
     "traceback": [
      "\u001b[1;31mThe Kernel crashed while executing code in the the current cell or a previous cell. Please review the code in the cell(s) to identify a possible cause of the failure. Click <a href='https://aka.ms/vscodeJupyterKernelCrash'>here</a> for more info. View Jupyter <a href='command:jupyter.viewOutput'>log</a> for further details."
     ]
    }
   ],
   "source": [
    "from merge_data import mergeData\n",
    "\n",
    "\n",
    "MESURE_INTERVAL = pd.Timedelta(hours=6)\n",
    "MESURE_GROUP_LENGTH = 6\n",
    "\n",
    "mergeData(dfPatient, MESURE_INTERVAL, MESURE_GROUP_LENGTH)"
   ]
  }
 ],
 "metadata": {
  "kernelspec": {
   "display_name": ".venv",
   "language": "python",
   "name": "python3"
  },
  "language_info": {
   "codemirror_mode": {
    "name": "ipython",
    "version": 3
   },
   "file_extension": ".py",
   "mimetype": "text/x-python",
   "name": "python",
   "nbconvert_exporter": "python",
   "pygments_lexer": "ipython3",
   "version": "3.10.6"
  }
 },
 "nbformat": 4,
 "nbformat_minor": 2
}
