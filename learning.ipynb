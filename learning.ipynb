{
 "cells": [
  {
   "cell_type": "code",
   "execution_count": 7,
   "metadata": {},
   "outputs": [],
   "source": [
    "import pandas as pd\n",
    "\n",
    "ADMISSION_DATA_COLS = [\"subject_id\", \"hadm_id\", \"marital_status\", \"race\"]\n",
    "PERSONAL_DATA_COLS = [\"subject_id\", \"gender\", \"anchor_age\"]\n",
    "MESURE_DATA_COLS = ['hadm_id', 'stay_id', 'charttime', \"itemid\", \"valuenum\"]"
   ]
  },
  {
   "cell_type": "code",
   "execution_count": null,
   "metadata": {},
   "outputs": [],
   "source": [
    "from CONSTANTS import TEMP_PATH\n",
    "\n",
    "\n",
    "dfPatient = pd.read_csv(TEMP_PATH / \"icu_target.csv\", usecols=[\"hadm_id\", \"stay_id\"])\n",
    "dfPatient.info()"
   ]
  },
  {
   "cell_type": "code",
   "execution_count": 13,
   "metadata": {},
   "outputs": [
    {
     "name": "stdout",
     "output_type": "stream",
     "text": [
      "<class 'pandas.core.frame.DataFrame'>\n",
      "RangeIndex: 431231 entries, 0 to 431230\n",
      "Data columns (total 5 columns):\n",
      " #   Column          Non-Null Count   Dtype   \n",
      "---  ------          --------------   -----   \n",
      " 0   hadm_id         431231 non-null  int64   \n",
      " 1   marital_status  421998 non-null  category\n",
      " 2   race            431231 non-null  category\n",
      " 3   gender          431231 non-null  category\n",
      " 4   anchor_age      431231 non-null  int64   \n",
      "dtypes: category(3), int64(2)\n",
      "memory usage: 7.8 MB\n"
     ]
    }
   ],
   "source": [
    "from CONSTANTS import MIMIC_PATH\n",
    "\n",
    "\n",
    "dfPatientAdmission = pd.read_csv(MIMIC_PATH / \"hosp\" / \"admissions.csv\", usecols=ADMISSION_DATA_COLS)\n",
    "dfPatientPersonal = pd.read_csv(MIMIC_PATH / \"hosp\" / \"patients.csv\", usecols=PERSONAL_DATA_COLS)\n",
    "\n",
    "dfPatientInfo = pd.merge(dfPatientAdmission, dfPatientPersonal, on=\"subject_id\")\n",
    "del dfPatientAdmission\n",
    "del dfPatientPersonal\n",
    "\n",
    "dfPatientInfo.drop(columns=\"subject_id\", inplace=True)\n",
    "dfPatientInfo[\"marital_status\"] = dfPatientInfo[\"marital_status\"].astype(\"category\")\n",
    "dfPatientInfo[\"race\"] = dfPatientInfo[\"race\"].astype(\"category\")\n",
    "dfPatientInfo[\"gender\"] = dfPatientInfo[\"gender\"].astype(\"category\")\n",
    "\n",
    "dfPatientInfo.info()"
   ]
  },
  {
   "cell_type": "code",
   "execution_count": null,
   "metadata": {},
   "outputs": [],
   "source": []
  }
 ],
 "metadata": {
  "kernelspec": {
   "display_name": ".venv",
   "language": "python",
   "name": "python3"
  },
  "language_info": {
   "codemirror_mode": {
    "name": "ipython",
    "version": 3
   },
   "file_extension": ".py",
   "mimetype": "text/x-python",
   "name": "python",
   "nbconvert_exporter": "python",
   "pygments_lexer": "ipython3",
   "version": "3.10.6"
  }
 },
 "nbformat": 4,
 "nbformat_minor": 2
}
