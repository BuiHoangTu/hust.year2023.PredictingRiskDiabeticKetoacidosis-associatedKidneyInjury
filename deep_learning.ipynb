{
 "cells": [
  {
   "cell_type": "markdown",
   "metadata": {},
   "source": [
    "# Inputs"
   ]
  },
  {
   "cell_type": "code",
   "execution_count": 1,
   "metadata": {
    "tags": [
     "input"
    ]
   },
   "outputs": [],
   "source": [
    "splitPartCount = 5\n",
    "splitSeed = 27\n",
    "hoursPerWindow = 1"
   ]
  },
  {
   "cell_type": "markdown",
   "metadata": {},
   "source": [
    "# Preproccess"
   ]
  },
  {
   "cell_type": "markdown",
   "metadata": {},
   "source": [
    "## read data"
   ]
  },
  {
   "cell_type": "code",
   "execution_count": 2,
   "metadata": {},
   "outputs": [
    {
     "data": {
      "text/plain": [
       "1213"
      ]
     },
     "execution_count": 2,
     "metadata": {},
     "output_type": "execute_result"
    }
   ],
   "source": [
    "from utils.class_patient import Patients\n",
    "\n",
    "\n",
    "patients = Patients.loadPatients()\n",
    "len(patients)"
   ]
  },
  {
   "cell_type": "markdown",
   "metadata": {},
   "source": [
    "## remove missing"
   ]
  },
  {
   "cell_type": "code",
   "execution_count": 3,
   "metadata": {},
   "outputs": [],
   "source": [
    "# fill measures whose null represent false value\n",
    "\n",
    "from constants import NULLABLE_MEASURES\n",
    "\n",
    "\n",
    "nullableMeasures = NULLABLE_MEASURES\n",
    "\n",
    "for measureName in nullableMeasures:\n",
    "    patients.fillMissingMeasureValue(measureName, 0)"
   ]
  },
  {
   "cell_type": "code",
   "execution_count": 4,
   "metadata": {},
   "outputs": [
    {
     "name": "stdout",
     "output_type": "stream",
     "text": [
      "pco2 917\n",
      "ph 954\n",
      "po2 917\n",
      "albumin 406\n",
      "hba1c 326\n",
      "lymphocyte 446\n",
      "height 415\n",
      "urine-ketone 294\n",
      "crp 19\n"
     ]
    }
   ],
   "source": [
    "# remove measures with less than 80% of data\n",
    "\n",
    "measures = patients.getMeasures()\n",
    "\n",
    "for measure, count in measures.items():\n",
    "    if count < len(patients) * 80 / 100:\n",
    "        patients.removeMeasures([measure])\n",
    "        print(measure, count)"
   ]
  },
  {
   "cell_type": "code",
   "execution_count": 5,
   "metadata": {},
   "outputs": [
    {
     "data": {
      "text/plain": [
       "1206"
      ]
     },
     "execution_count": 5,
     "metadata": {},
     "output_type": "execute_result"
    }
   ],
   "source": [
    "# remove patients with less than 80% of data\n",
    "\n",
    "patients.removePatientByMissingFeatures()\n",
    "len(patients)"
   ]
  },
  {
   "cell_type": "code",
   "execution_count": 6,
   "metadata": {},
   "outputs": [
    {
     "data": {
      "text/plain": [
       "82"
      ]
     },
     "execution_count": 6,
     "metadata": {},
     "output_type": "execute_result"
    }
   ],
   "source": [
    "# # remove patients with positive tag in first 12 hours\n",
    "\n",
    "from pandas import Timedelta\n",
    "\n",
    "\n",
    "patients.removePatientAkiEarly(Timedelta(hours=12))"
   ]
  },
  {
   "cell_type": "code",
   "execution_count": 7,
   "metadata": {},
   "outputs": [
    {
     "name": "stdout",
     "output_type": "stream",
     "text": [
      "Total  1124\n",
      "AKI  392\n",
      "Ratio  0.3487544483985765\n"
     ]
    }
   ],
   "source": [
    "print(\"Total \", len(patients))\n",
    "print(\"AKI \", sum([1 for p in patients if p.akdPositive]))\n",
    "print(\"Ratio \", sum([1 for p in patients if p.akdPositive]) / len(patients))"
   ]
  },
  {
   "cell_type": "markdown",
   "metadata": {},
   "source": [
    "## split patients"
   ]
  },
  {
   "cell_type": "code",
   "execution_count": 8,
   "metadata": {},
   "outputs": [
    {
     "data": {
      "text/plain": [
       "225"
      ]
     },
     "execution_count": 8,
     "metadata": {},
     "output_type": "execute_result"
    }
   ],
   "source": [
    "splitedPatients = patients.split(splitPartCount, splitSeed)\n",
    "\n",
    "len(splitedPatients[0])"
   ]
  },
  {
   "cell_type": "code",
   "execution_count": 9,
   "metadata": {},
   "outputs": [],
   "source": [
    "splitedPatients = patients.split(splitPartCount, splitSeed)\n",
    "\n",
    "\n",
    "def trainTest():\n",
    "    for i in range(splitedPatients.__len__()):\n",
    "        testPatients = splitedPatients[i]\n",
    "\n",
    "        trainPatientsList = splitedPatients[:i] + splitedPatients[i + 1 :]\n",
    "        trainPatients = Patients(patients=[])\n",
    "        for trainPatientsElem in trainPatientsList:\n",
    "            trainPatients += trainPatientsElem\n",
    "\n",
    "        yield trainPatients, testPatients\n",
    "\n",
    "\n",
    "def trainValTest():\n",
    "    for i in range(splitedPatients.__len__()):\n",
    "        testPatients = splitedPatients[i]\n",
    "\n",
    "        trainPatientsList = splitedPatients[:i] + splitedPatients[i + 1 :]\n",
    "        trainPatients = Patients(patients=[])\n",
    "        for trainPatientsElem in trainPatientsList:\n",
    "            trainPatients += trainPatientsElem\n",
    "\n",
    "        *trainPatients, valPatients = trainPatients.split(5, 27)\n",
    "        tmpPatients = Patients(patients=[])\n",
    "        for trainPatientsElem in trainPatients:\n",
    "            tmpPatients += trainPatientsElem\n",
    "        trainPatients = tmpPatients\n",
    "\n",
    "        yield trainPatients, valPatients, testPatients"
   ]
  },
  {
   "cell_type": "code",
   "execution_count": 10,
   "metadata": {},
   "outputs": [
    {
     "name": "stdout",
     "output_type": "stream",
     "text": [
      "899 225\n",
      "899 225\n",
      "899 225\n",
      "899 225\n",
      "900 224\n"
     ]
    }
   ],
   "source": [
    "for trainPatients, testPatients in trainTest():\n",
    "    print(len(trainPatients.patientList), len(testPatients.patientList))"
   ]
  },
  {
   "cell_type": "markdown",
   "metadata": {},
   "source": [
    "# LSTM"
   ]
  },
  {
   "cell_type": "markdown",
   "metadata": {},
   "source": [
    "### Seperate static and dynamic"
   ]
  },
  {
   "cell_type": "code",
   "execution_count": 11,
   "metadata": {},
   "outputs": [
    {
     "name": "stderr",
     "output_type": "stream",
     "text": [
      "2024-06-29 08:59:04.916609: I tensorflow/core/util/port.cc:113] oneDNN custom operations are on. You may see slightly different numerical results due to floating-point round-off errors from different computation orders. To turn them off, set the environment variable `TF_ENABLE_ONEDNN_OPTS=0`.\n",
      "2024-06-29 08:59:04.960508: I tensorflow/core/platform/cpu_feature_guard.cc:210] This TensorFlow binary is optimized to use available CPU instructions in performance-critical operations.\n",
      "To enable the following instructions: AVX2 AVX_VNNI FMA, in other operations, rebuild TensorFlow with the appropriate compiler flags.\n",
      "2024-06-29 08:59:05.645924: W tensorflow/compiler/tf2tensorrt/utils/py_utils.cc:38] TF-TRT Warning: Could not find TensorRT\n"
     ]
    }
   ],
   "source": [
    "from tensorflow.keras.models import Sequential, Model\n",
    "from tensorflow.keras.layers import LSTM, Dense, Dropout, Input, Concatenate, Masking, Conv1D, MaxPooling1D\n",
    "from tensorflow.keras.optimizers import Adam\n",
    "\n",
    "\n",
    "def createModel2(timeSteps, timeFeatures, staticFeatures):\n",
    "    # time series layers\n",
    "    timeInputLayer = Input(shape=(timeSteps, timeFeatures))\n",
    "    maskingLayer = Masking(mask_value=0.0)(timeInputLayer)\n",
    "    # cnnLayer = Conv1D(64, 3, activation=\"relu\")(maskingLayer)\n",
    "    # poolingLayer = MaxPooling1D(2)(cnnLayer)\n",
    "    seriesLayer = LSTM(64)(maskingLayer)\n",
    "\n",
    "    # static layers\n",
    "    staticInputLayer = Input(shape=(staticFeatures,))\n",
    "    staticLayer = Dense(32, activation=\"relu\")(staticInputLayer)\n",
    "\n",
    "    # combine layers\n",
    "    combined = Concatenate(axis=1)([seriesLayer, staticLayer])\n",
    "    dense1 = Dense(16, activation=\"relu\")(combined)\n",
    "    dense2 = Dense(1, activation=\"sigmoid\")(dense1)\n",
    "\n",
    "    model = Model(inputs=[timeInputLayer, staticInputLayer], outputs=dense2)\n",
    "    model.compile(\n",
    "        optimizer=Adam(learning_rate=0.001),\n",
    "        loss=\"binary_crossentropy\",\n",
    "        metrics=[\"AUC\", \"accuracy\", \"precision\", \"recall\"],\n",
    "    )\n",
    "\n",
    "    return model"
   ]
  },
  {
   "cell_type": "code",
   "execution_count": 12,
   "metadata": {},
   "outputs": [
    {
     "name": "stdout",
     "output_type": "stream",
     "text": [
      "Epoch 1/50\n"
     ]
    },
    {
     "name": "stderr",
     "output_type": "stream",
     "text": [
      "2024-06-29 09:01:15.378970: I external/local_xla/xla/stream_executor/cuda/cuda_executor.cc:998] successful NUMA node read from SysFS had negative value (-1), but there must be at least one NUMA node, so returning NUMA node zero. See more at https://github.com/torvalds/linux/blob/v6.0/Documentation/ABI/testing/sysfs-bus-pci#L344-L355\n",
      "2024-06-29 09:01:15.398749: W tensorflow/core/common_runtime/gpu/gpu_device.cc:2251] Cannot dlopen some GPU libraries. Please make sure the missing libraries mentioned above are installed properly if you would like to use GPU. Follow the guide at https://www.tensorflow.org/install/gpu for how to download and setup the required libraries for your platform.\n",
      "Skipping registering GPU devices...\n"
     ]
    },
    {
     "name": "stdout",
     "output_type": "stream",
     "text": [
      "\u001b[1m23/23\u001b[0m \u001b[32m━━━━━━━━━━━━━━━━━━━━\u001b[0m\u001b[37m\u001b[0m \u001b[1m1s\u001b[0m 11ms/step - AUC: 0.6329 - accuracy: 0.6397 - loss: 0.6733 - precision: 0.4969 - recall: 0.4724 - val_AUC: 0.7880 - val_accuracy: 0.7151 - val_loss: 0.5768 - val_precision: 0.5663 - val_recall: 0.7581\n",
      "Epoch 2/50\n",
      "\u001b[1m23/23\u001b[0m \u001b[32m━━━━━━━━━━━━━━━━━━━━\u001b[0m\u001b[37m\u001b[0m \u001b[1m0s\u001b[0m 3ms/step - AUC: 0.8444 - accuracy: 0.7635 - loss: 0.5165 - precision: 0.6444 - recall: 0.7571 - val_AUC: 0.7969 - val_accuracy: 0.7318 - val_loss: 0.5539 - val_precision: 0.5897 - val_recall: 0.7419\n",
      "Epoch 3/50\n",
      "\u001b[1m23/23\u001b[0m \u001b[32m━━━━━━━━━━━━━━━━━━━━\u001b[0m\u001b[37m\u001b[0m \u001b[1m0s\u001b[0m 3ms/step - AUC: 0.8488 - accuracy: 0.7881 - loss: 0.4817 - precision: 0.6529 - recall: 0.7514 - val_AUC: 0.8005 - val_accuracy: 0.7318 - val_loss: 0.5443 - val_precision: 0.5972 - val_recall: 0.6935\n",
      "Epoch 4/50\n",
      "\u001b[1m23/23\u001b[0m \u001b[32m━━━━━━━━━━━━━━━━━━━━\u001b[0m\u001b[37m\u001b[0m \u001b[1m0s\u001b[0m 3ms/step - AUC: 0.8691 - accuracy: 0.8000 - loss: 0.4570 - precision: 0.6760 - recall: 0.7800 - val_AUC: 0.7951 - val_accuracy: 0.7207 - val_loss: 0.5361 - val_precision: 0.5857 - val_recall: 0.6613\n",
      "Epoch 5/50\n",
      "\u001b[1m23/23\u001b[0m \u001b[32m━━━━━━━━━━━━━━━━━━━━\u001b[0m\u001b[37m\u001b[0m \u001b[1m0s\u001b[0m 2ms/step - AUC: 0.9248 - accuracy: 0.8379 - loss: 0.3787 - precision: 0.7211 - recall: 0.8512 - val_AUC: 0.7973 - val_accuracy: 0.7374 - val_loss: 0.5298 - val_precision: 0.6119 - val_recall: 0.6613\n",
      "Epoch 6/50\n",
      "\u001b[1m23/23\u001b[0m \u001b[32m━━━━━━━━━━━━━━━━━━━━\u001b[0m\u001b[37m\u001b[0m \u001b[1m0s\u001b[0m 2ms/step - AUC: 0.9372 - accuracy: 0.8597 - loss: 0.3553 - precision: 0.7792 - recall: 0.8463 - val_AUC: 0.7937 - val_accuracy: 0.7430 - val_loss: 0.5245 - val_precision: 0.6290 - val_recall: 0.6290\n",
      "Epoch 7/50\n",
      "\u001b[1m23/23\u001b[0m \u001b[32m━━━━━━━━━━━━━━━━━━━━\u001b[0m\u001b[37m\u001b[0m \u001b[1m0s\u001b[0m 2ms/step - AUC: 0.9661 - accuracy: 0.9067 - loss: 0.2886 - precision: 0.8435 - recall: 0.9086 - val_AUC: 0.8018 - val_accuracy: 0.7486 - val_loss: 0.5145 - val_precision: 0.6441 - val_recall: 0.6129\n",
      "Epoch 8/50\n",
      "\u001b[1m23/23\u001b[0m \u001b[32m━━━━━━━━━━━━━━━━━━━━\u001b[0m\u001b[37m\u001b[0m \u001b[1m0s\u001b[0m 2ms/step - AUC: 0.9855 - accuracy: 0.9445 - loss: 0.2300 - precision: 0.9231 - recall: 0.9250 - val_AUC: 0.8073 - val_accuracy: 0.7542 - val_loss: 0.5100 - val_precision: 0.6552 - val_recall: 0.6129\n",
      "Epoch 9/50\n",
      "\u001b[1m23/23\u001b[0m \u001b[32m━━━━━━━━━━━━━━━━━━━━\u001b[0m\u001b[37m\u001b[0m \u001b[1m0s\u001b[0m 2ms/step - AUC: 0.9943 - accuracy: 0.9675 - loss: 0.1663 - precision: 0.9458 - recall: 0.9587 - val_AUC: 0.8164 - val_accuracy: 0.7542 - val_loss: 0.5063 - val_precision: 0.6364 - val_recall: 0.6774\n",
      "Epoch 10/50\n",
      "\u001b[1m23/23\u001b[0m \u001b[32m━━━━━━━━━━━━━━━━━━━━\u001b[0m\u001b[37m\u001b[0m \u001b[1m0s\u001b[0m 2ms/step - AUC: 0.9994 - accuracy: 0.9925 - loss: 0.1147 - precision: 0.9903 - recall: 0.9881 - val_AUC: 0.8273 - val_accuracy: 0.7430 - val_loss: 0.4923 - val_precision: 0.6250 - val_recall: 0.6452\n",
      "Epoch 11/50\n",
      "\u001b[1m23/23\u001b[0m \u001b[32m━━━━━━━━━━━━━━━━━━━━\u001b[0m\u001b[37m\u001b[0m \u001b[1m0s\u001b[0m 2ms/step - AUC: 0.9998 - accuracy: 0.9927 - loss: 0.0881 - precision: 0.9814 - recall: 0.9980 - val_AUC: 0.8384 - val_accuracy: 0.7430 - val_loss: 0.4742 - val_precision: 0.6290 - val_recall: 0.6290\n",
      "Epoch 12/50\n",
      "\u001b[1m23/23\u001b[0m \u001b[32m━━━━━━━━━━━━━━━━━━━━\u001b[0m\u001b[37m\u001b[0m \u001b[1m0s\u001b[0m 2ms/step - AUC: 1.0000 - accuracy: 0.9991 - loss: 0.0532 - precision: 0.9975 - recall: 1.0000 - val_AUC: 0.8298 - val_accuracy: 0.7654 - val_loss: 0.4801 - val_precision: 0.6724 - val_recall: 0.6290\n",
      "Epoch 13/50\n",
      "\u001b[1m23/23\u001b[0m \u001b[32m━━━━━━━━━━━━━━━━━━━━\u001b[0m\u001b[37m\u001b[0m \u001b[1m0s\u001b[0m 2ms/step - AUC: 1.0000 - accuracy: 1.0000 - loss: 0.0400 - precision: 1.0000 - recall: 1.0000 - val_AUC: 0.8447 - val_accuracy: 0.7654 - val_loss: 0.4619 - val_precision: 0.6724 - val_recall: 0.6290\n",
      "Epoch 14/50\n",
      "\u001b[1m23/23\u001b[0m \u001b[32m━━━━━━━━━━━━━━━━━━━━\u001b[0m\u001b[37m\u001b[0m \u001b[1m0s\u001b[0m 2ms/step - AUC: 1.0000 - accuracy: 1.0000 - loss: 0.0277 - precision: 1.0000 - recall: 1.0000 - val_AUC: 0.8428 - val_accuracy: 0.7542 - val_loss: 0.4646 - val_precision: 0.6500 - val_recall: 0.6290\n",
      "Epoch 15/50\n",
      "\u001b[1m23/23\u001b[0m \u001b[32m━━━━━━━━━━━━━━━━━━━━\u001b[0m\u001b[37m\u001b[0m \u001b[1m0s\u001b[0m 2ms/step - AUC: 1.0000 - accuracy: 1.0000 - loss: 0.0214 - precision: 1.0000 - recall: 1.0000 - val_AUC: 0.8322 - val_accuracy: 0.7598 - val_loss: 0.4774 - val_precision: 0.7021 - val_recall: 0.5323\n",
      "Epoch 16/50\n",
      "\u001b[1m23/23\u001b[0m \u001b[32m━━━━━━━━━━━━━━━━━━━━\u001b[0m\u001b[37m\u001b[0m \u001b[1m0s\u001b[0m 2ms/step - AUC: 1.0000 - accuracy: 1.0000 - loss: 0.0159 - precision: 1.0000 - recall: 1.0000 - val_AUC: 0.8397 - val_accuracy: 0.7709 - val_loss: 0.4758 - val_precision: 0.6981 - val_recall: 0.5968\n",
      "Epoch 17/50\n",
      "\u001b[1m23/23\u001b[0m \u001b[32m━━━━━━━━━━━━━━━━━━━━\u001b[0m\u001b[37m\u001b[0m \u001b[1m0s\u001b[0m 2ms/step - AUC: 1.0000 - accuracy: 1.0000 - loss: 0.0139 - precision: 1.0000 - recall: 1.0000 - val_AUC: 0.8357 - val_accuracy: 0.7765 - val_loss: 0.4879 - val_precision: 0.7500 - val_recall: 0.5323\n",
      "Epoch 18/50\n",
      "\u001b[1m23/23\u001b[0m \u001b[32m━━━━━━━━━━━━━━━━━━━━\u001b[0m\u001b[37m\u001b[0m \u001b[1m0s\u001b[0m 2ms/step - AUC: 1.0000 - accuracy: 1.0000 - loss: 0.0102 - precision: 1.0000 - recall: 1.0000 - val_AUC: 0.8369 - val_accuracy: 0.7654 - val_loss: 0.4880 - val_precision: 0.7174 - val_recall: 0.5323\n",
      "Epoch 19/50\n",
      "\u001b[1m23/23\u001b[0m \u001b[32m━━━━━━━━━━━━━━━━━━━━\u001b[0m\u001b[37m\u001b[0m \u001b[1m0s\u001b[0m 2ms/step - AUC: 1.0000 - accuracy: 1.0000 - loss: 0.0080 - precision: 1.0000 - recall: 1.0000 - val_AUC: 0.8373 - val_accuracy: 0.7654 - val_loss: 0.4931 - val_precision: 0.7174 - val_recall: 0.5323\n",
      "Epoch 20/50\n",
      "\u001b[1m23/23\u001b[0m \u001b[32m━━━━━━━━━━━━━━━━━━━━\u001b[0m\u001b[37m\u001b[0m \u001b[1m0s\u001b[0m 2ms/step - AUC: 1.0000 - accuracy: 1.0000 - loss: 0.0073 - precision: 1.0000 - recall: 1.0000 - val_AUC: 0.8374 - val_accuracy: 0.7709 - val_loss: 0.4936 - val_precision: 0.7333 - val_recall: 0.5323\n",
      "Epoch 21/50\n",
      "\u001b[1m23/23\u001b[0m \u001b[32m━━━━━━━━━━━━━━━━━━━━\u001b[0m\u001b[37m\u001b[0m \u001b[1m0s\u001b[0m 3ms/step - AUC: 1.0000 - accuracy: 1.0000 - loss: 0.0065 - precision: 1.0000 - recall: 1.0000 - val_AUC: 0.8388 - val_accuracy: 0.7709 - val_loss: 0.4981 - val_precision: 0.7333 - val_recall: 0.5323\n",
      "Epoch 22/50\n",
      "\u001b[1m23/23\u001b[0m \u001b[32m━━━━━━━━━━━━━━━━━━━━\u001b[0m\u001b[37m\u001b[0m \u001b[1m0s\u001b[0m 2ms/step - AUC: 1.0000 - accuracy: 1.0000 - loss: 0.0055 - precision: 1.0000 - recall: 1.0000 - val_AUC: 0.8351 - val_accuracy: 0.7821 - val_loss: 0.5096 - val_precision: 0.7674 - val_recall: 0.5323\n",
      "Epoch 23/50\n",
      "\u001b[1m23/23\u001b[0m \u001b[32m━━━━━━━━━━━━━━━━━━━━\u001b[0m\u001b[37m\u001b[0m \u001b[1m0s\u001b[0m 2ms/step - AUC: 1.0000 - accuracy: 1.0000 - loss: 0.0049 - precision: 1.0000 - recall: 1.0000 - val_AUC: 0.8375 - val_accuracy: 0.7765 - val_loss: 0.5138 - val_precision: 0.7500 - val_recall: 0.5323\n",
      "\u001b[1m8/8\u001b[0m \u001b[32m━━━━━━━━━━━━━━━━━━━━\u001b[0m\u001b[37m\u001b[0m \u001b[1m0s\u001b[0m 1ms/step - AUC: 0.9877 - accuracy: 0.9518 - loss: 0.1517 - precision: 0.9328 - recall: 0.9384\n",
      "Epoch 1/50\n",
      "\u001b[1m23/23\u001b[0m \u001b[32m━━━━━━━━━━━━━━━━━━━━\u001b[0m\u001b[37m\u001b[0m \u001b[1m3s\u001b[0m 27ms/step - AUC: 0.5491 - accuracy: 0.4932 - loss: 0.6970 - precision: 0.3793 - recall: 0.6322 - val_AUC: 0.8246 - val_accuracy: 0.7709 - val_loss: 0.5610 - val_precision: 0.6479 - val_recall: 0.7419\n",
      "Epoch 2/50\n",
      "\u001b[1m23/23\u001b[0m \u001b[32m━━━━━━━━━━━━━━━━━━━━\u001b[0m\u001b[37m\u001b[0m \u001b[1m0s\u001b[0m 9ms/step - AUC: 0.8009 - accuracy: 0.7194 - loss: 0.5465 - precision: 0.5677 - recall: 0.6962 - val_AUC: 0.8305 - val_accuracy: 0.7709 - val_loss: 0.5129 - val_precision: 0.6479 - val_recall: 0.7419\n",
      "Epoch 3/50\n",
      "\u001b[1m23/23\u001b[0m \u001b[32m━━━━━━━━━━━━━━━━━━━━\u001b[0m\u001b[37m\u001b[0m \u001b[1m0s\u001b[0m 7ms/step - AUC: 0.8625 - accuracy: 0.7782 - loss: 0.4790 - precision: 0.6562 - recall: 0.8266 - val_AUC: 0.8366 - val_accuracy: 0.7654 - val_loss: 0.5149 - val_precision: 0.6613 - val_recall: 0.6613\n",
      "Epoch 4/50\n",
      "\u001b[1m23/23\u001b[0m \u001b[32m━━━━━━━━━━━━━━━━━━━━\u001b[0m\u001b[37m\u001b[0m \u001b[1m0s\u001b[0m 8ms/step - AUC: 0.8843 - accuracy: 0.8150 - loss: 0.4490 - precision: 0.7235 - recall: 0.7896 - val_AUC: 0.8416 - val_accuracy: 0.7877 - val_loss: 0.4955 - val_precision: 0.7400 - val_recall: 0.5968\n",
      "Epoch 5/50\n",
      "\u001b[1m23/23\u001b[0m \u001b[32m━━━━━━━━━━━━━━━━━━━━\u001b[0m\u001b[37m\u001b[0m \u001b[1m0s\u001b[0m 8ms/step - AUC: 0.9217 - accuracy: 0.8168 - loss: 0.3766 - precision: 0.6961 - recall: 0.8094 - val_AUC: 0.8377 - val_accuracy: 0.7654 - val_loss: 0.4903 - val_precision: 0.6923 - val_recall: 0.5806\n",
      "Epoch 6/50\n",
      "\u001b[1m23/23\u001b[0m \u001b[32m━━━━━━━━━━━━━━━━━━━━\u001b[0m\u001b[37m\u001b[0m \u001b[1m0s\u001b[0m 7ms/step - AUC: 0.9557 - accuracy: 0.8807 - loss: 0.3152 - precision: 0.7763 - recall: 0.9240 - val_AUC: 0.8238 - val_accuracy: 0.7598 - val_loss: 0.4922 - val_precision: 0.6792 - val_recall: 0.5806\n",
      "Epoch 7/50\n",
      "\u001b[1m23/23\u001b[0m \u001b[32m━━━━━━━━━━━━━━━━━━━━\u001b[0m\u001b[37m\u001b[0m \u001b[1m0s\u001b[0m 6ms/step - AUC: 0.9692 - accuracy: 0.9069 - loss: 0.2656 - precision: 0.7982 - recall: 0.9443 - val_AUC: 0.8253 - val_accuracy: 0.7877 - val_loss: 0.4851 - val_precision: 0.7400 - val_recall: 0.5968\n",
      "Epoch 8/50\n",
      "\u001b[1m23/23\u001b[0m \u001b[32m━━━━━━━━━━━━━━━━━━━━\u001b[0m\u001b[37m\u001b[0m \u001b[1m0s\u001b[0m 8ms/step - AUC: 0.9833 - accuracy: 0.9232 - loss: 0.2219 - precision: 0.8598 - recall: 0.9341 - val_AUC: 0.8238 - val_accuracy: 0.7654 - val_loss: 0.4870 - val_precision: 0.7381 - val_recall: 0.5000\n",
      "Epoch 9/50\n",
      "\u001b[1m23/23\u001b[0m \u001b[32m━━━━━━━━━━━━━━━━━━━━\u001b[0m\u001b[37m\u001b[0m \u001b[1m0s\u001b[0m 7ms/step - AUC: 0.9971 - accuracy: 0.9768 - loss: 0.1467 - precision: 0.9565 - recall: 0.9784 - val_AUC: 0.8232 - val_accuracy: 0.7821 - val_loss: 0.4810 - val_precision: 0.7347 - val_recall: 0.5806\n",
      "Epoch 10/50\n",
      "\u001b[1m23/23\u001b[0m \u001b[32m━━━━━━━━━━━━━━━━━━━━\u001b[0m\u001b[37m\u001b[0m \u001b[1m0s\u001b[0m 8ms/step - AUC: 0.9996 - accuracy: 0.9804 - loss: 0.1070 - precision: 0.9536 - recall: 0.9938 - val_AUC: 0.8390 - val_accuracy: 0.7542 - val_loss: 0.4696 - val_precision: 0.7250 - val_recall: 0.4677\n",
      "Epoch 11/50\n",
      "\u001b[1m23/23\u001b[0m \u001b[32m━━━━━━━━━━━━━━━━━━━━\u001b[0m\u001b[37m\u001b[0m \u001b[1m0s\u001b[0m 7ms/step - AUC: 1.0000 - accuracy: 0.9963 - loss: 0.0643 - precision: 0.9897 - recall: 1.0000 - val_AUC: 0.8436 - val_accuracy: 0.7486 - val_loss: 0.4676 - val_precision: 0.7576 - val_recall: 0.4032\n",
      "Epoch 12/50\n",
      "\u001b[1m23/23\u001b[0m \u001b[32m━━━━━━━━━━━━━━━━━━━━\u001b[0m\u001b[37m\u001b[0m \u001b[1m0s\u001b[0m 8ms/step - AUC: 1.0000 - accuracy: 1.0000 - loss: 0.0438 - precision: 1.0000 - recall: 1.0000 - val_AUC: 0.8482 - val_accuracy: 0.7430 - val_loss: 0.4597 - val_precision: 0.7353 - val_recall: 0.4032\n",
      "Epoch 13/50\n",
      "\u001b[1m23/23\u001b[0m \u001b[32m━━━━━━━━━━━━━━━━━━━━\u001b[0m\u001b[37m\u001b[0m \u001b[1m0s\u001b[0m 7ms/step - AUC: 1.0000 - accuracy: 1.0000 - loss: 0.0311 - precision: 1.0000 - recall: 1.0000 - val_AUC: 0.8530 - val_accuracy: 0.7542 - val_loss: 0.4615 - val_precision: 0.7812 - val_recall: 0.4032\n",
      "Epoch 14/50\n",
      "\u001b[1m23/23\u001b[0m \u001b[32m━━━━━━━━━━━━━━━━━━━━\u001b[0m\u001b[37m\u001b[0m \u001b[1m0s\u001b[0m 7ms/step - AUC: 1.0000 - accuracy: 1.0000 - loss: 0.0217 - precision: 1.0000 - recall: 1.0000 - val_AUC: 0.8535 - val_accuracy: 0.7486 - val_loss: 0.4729 - val_precision: 0.7931 - val_recall: 0.3710\n",
      "Epoch 15/50\n",
      "\u001b[1m23/23\u001b[0m \u001b[32m━━━━━━━━━━━━━━━━━━━━\u001b[0m\u001b[37m\u001b[0m \u001b[1m0s\u001b[0m 6ms/step - AUC: 1.0000 - accuracy: 1.0000 - loss: 0.0152 - precision: 1.0000 - recall: 1.0000 - val_AUC: 0.8568 - val_accuracy: 0.7654 - val_loss: 0.4688 - val_precision: 0.8125 - val_recall: 0.4194\n",
      "Epoch 16/50\n",
      "\u001b[1m23/23\u001b[0m \u001b[32m━━━━━━━━━━━━━━━━━━━━\u001b[0m\u001b[37m\u001b[0m \u001b[1m0s\u001b[0m 7ms/step - AUC: 1.0000 - accuracy: 1.0000 - loss: 0.0118 - precision: 1.0000 - recall: 1.0000 - val_AUC: 0.8573 - val_accuracy: 0.7542 - val_loss: 0.4865 - val_precision: 0.8214 - val_recall: 0.3710\n",
      "Epoch 17/50\n",
      "\u001b[1m23/23\u001b[0m \u001b[32m━━━━━━━━━━━━━━━━━━━━\u001b[0m\u001b[37m\u001b[0m \u001b[1m0s\u001b[0m 8ms/step - AUC: 1.0000 - accuracy: 1.0000 - loss: 0.0095 - precision: 1.0000 - recall: 1.0000 - val_AUC: 0.8597 - val_accuracy: 0.7542 - val_loss: 0.4836 - val_precision: 0.8214 - val_recall: 0.3710\n",
      "Epoch 18/50\n",
      "\u001b[1m23/23\u001b[0m \u001b[32m━━━━━━━━━━━━━━━━━━━━\u001b[0m\u001b[37m\u001b[0m \u001b[1m0s\u001b[0m 7ms/step - AUC: 1.0000 - accuracy: 1.0000 - loss: 0.0076 - precision: 1.0000 - recall: 1.0000 - val_AUC: 0.8609 - val_accuracy: 0.7542 - val_loss: 0.4876 - val_precision: 0.8214 - val_recall: 0.3710\n",
      "Epoch 19/50\n",
      "\u001b[1m23/23\u001b[0m \u001b[32m━━━━━━━━━━━━━━━━━━━━\u001b[0m\u001b[37m\u001b[0m \u001b[1m0s\u001b[0m 6ms/step - AUC: 1.0000 - accuracy: 1.0000 - loss: 0.0063 - precision: 1.0000 - recall: 1.0000 - val_AUC: 0.8624 - val_accuracy: 0.7486 - val_loss: 0.4982 - val_precision: 0.8148 - val_recall: 0.3548\n",
      "Epoch 20/50\n",
      "\u001b[1m23/23\u001b[0m \u001b[32m━━━━━━━━━━━━━━━━━━━━\u001b[0m\u001b[37m\u001b[0m \u001b[1m0s\u001b[0m 5ms/step - AUC: 1.0000 - accuracy: 1.0000 - loss: 0.0057 - precision: 1.0000 - recall: 1.0000 - val_AUC: 0.8615 - val_accuracy: 0.7598 - val_loss: 0.4988 - val_precision: 0.8276 - val_recall: 0.3871\n",
      "Epoch 21/50\n",
      "\u001b[1m23/23\u001b[0m \u001b[32m━━━━━━━━━━━━━━━━━━━━\u001b[0m\u001b[37m\u001b[0m \u001b[1m0s\u001b[0m 8ms/step - AUC: 1.0000 - accuracy: 1.0000 - loss: 0.0048 - precision: 1.0000 - recall: 1.0000 - val_AUC: 0.8632 - val_accuracy: 0.7486 - val_loss: 0.5078 - val_precision: 0.8148 - val_recall: 0.3548\n",
      "Epoch 22/50\n",
      "\u001b[1m23/23\u001b[0m \u001b[32m━━━━━━━━━━━━━━━━━━━━\u001b[0m\u001b[37m\u001b[0m \u001b[1m0s\u001b[0m 9ms/step - AUC: 1.0000 - accuracy: 1.0000 - loss: 0.0040 - precision: 1.0000 - recall: 1.0000 - val_AUC: 0.8661 - val_accuracy: 0.7486 - val_loss: 0.5134 - val_precision: 0.8148 - val_recall: 0.3548\n",
      "\u001b[1m8/8\u001b[0m \u001b[32m━━━━━━━━━━━━━━━━━━━━\u001b[0m\u001b[37m\u001b[0m \u001b[1m0s\u001b[0m 5ms/step - AUC: 0.9954 - accuracy: 0.9554 - loss: 0.1493 - precision: 0.8977 - recall: 0.9879 \n",
      "Epoch 1/50\n",
      "\u001b[1m23/23\u001b[0m \u001b[32m━━━━━━━━━━━━━━━━━━━━\u001b[0m\u001b[37m\u001b[0m \u001b[1m3s\u001b[0m 24ms/step - AUC: 0.5646 - accuracy: 0.6093 - loss: 0.6799 - precision: 0.3872 - recall: 0.2867 - val_AUC: 0.7604 - val_accuracy: 0.6983 - val_loss: 0.6053 - val_precision: 0.5513 - val_recall: 0.6935\n",
      "Epoch 2/50\n",
      "\u001b[1m23/23\u001b[0m \u001b[32m━━━━━━━━━━━━━━━━━━━━\u001b[0m\u001b[37m\u001b[0m \u001b[1m0s\u001b[0m 8ms/step - AUC: 0.8356 - accuracy: 0.7807 - loss: 0.5282 - precision: 0.6609 - recall: 0.7423 - val_AUC: 0.7625 - val_accuracy: 0.6872 - val_loss: 0.5935 - val_precision: 0.5349 - val_recall: 0.7419\n",
      "Epoch 3/50\n",
      "\u001b[1m23/23\u001b[0m \u001b[32m━━━━━━━━━━━━━━━━━━━━\u001b[0m\u001b[37m\u001b[0m \u001b[1m0s\u001b[0m 8ms/step - AUC: 0.8588 - accuracy: 0.7873 - loss: 0.4708 - precision: 0.6558 - recall: 0.8045 - val_AUC: 0.7711 - val_accuracy: 0.6927 - val_loss: 0.5800 - val_precision: 0.5422 - val_recall: 0.7258\n",
      "Epoch 4/50\n",
      "\u001b[1m23/23\u001b[0m \u001b[32m━━━━━━━━━━━━━━━━━━━━\u001b[0m\u001b[37m\u001b[0m \u001b[1m0s\u001b[0m 8ms/step - AUC: 0.9252 - accuracy: 0.8502 - loss: 0.3762 - precision: 0.7487 - recall: 0.8600 - val_AUC: 0.7663 - val_accuracy: 0.7039 - val_loss: 0.5727 - val_precision: 0.5584 - val_recall: 0.6935\n",
      "Epoch 5/50\n",
      "\u001b[1m23/23\u001b[0m \u001b[32m━━━━━━━━━━━━━━━━━━━━\u001b[0m\u001b[37m\u001b[0m \u001b[1m0s\u001b[0m 8ms/step - AUC: 0.9255 - accuracy: 0.8475 - loss: 0.3780 - precision: 0.7225 - recall: 0.8827 - val_AUC: 0.7683 - val_accuracy: 0.7151 - val_loss: 0.5623 - val_precision: 0.5775 - val_recall: 0.6613\n",
      "Epoch 6/50\n",
      "\u001b[1m23/23\u001b[0m \u001b[32m━━━━━━━━━━━━━━━━━━━━\u001b[0m\u001b[37m\u001b[0m \u001b[1m0s\u001b[0m 8ms/step - AUC: 0.9277 - accuracy: 0.8460 - loss: 0.3643 - precision: 0.7244 - recall: 0.8870 - val_AUC: 0.7774 - val_accuracy: 0.7263 - val_loss: 0.5454 - val_precision: 0.6000 - val_recall: 0.6290\n",
      "Epoch 7/50\n",
      "\u001b[1m23/23\u001b[0m \u001b[32m━━━━━━━━━━━━━━━━━━━━\u001b[0m\u001b[37m\u001b[0m \u001b[1m0s\u001b[0m 6ms/step - AUC: 0.9496 - accuracy: 0.8620 - loss: 0.3101 - precision: 0.7445 - recall: 0.8700 - val_AUC: 0.7720 - val_accuracy: 0.7263 - val_loss: 0.5508 - val_precision: 0.5970 - val_recall: 0.6452\n",
      "Epoch 8/50\n",
      "\u001b[1m23/23\u001b[0m \u001b[32m━━━━━━━━━━━━━━━━━━━━\u001b[0m\u001b[37m\u001b[0m \u001b[1m0s\u001b[0m 6ms/step - AUC: 0.9717 - accuracy: 0.8906 - loss: 0.2696 - precision: 0.7878 - recall: 0.9476 - val_AUC: 0.7874 - val_accuracy: 0.7318 - val_loss: 0.5264 - val_precision: 0.6346 - val_recall: 0.5323\n",
      "Epoch 9/50\n",
      "\u001b[1m23/23\u001b[0m \u001b[32m━━━━━━━━━━━━━━━━━━━━\u001b[0m\u001b[37m\u001b[0m \u001b[1m0s\u001b[0m 8ms/step - AUC: 0.9884 - accuracy: 0.9528 - loss: 0.1905 - precision: 0.9251 - recall: 0.9358 - val_AUC: 0.8027 - val_accuracy: 0.7263 - val_loss: 0.5139 - val_precision: 0.6327 - val_recall: 0.5000\n",
      "Epoch 10/50\n",
      "\u001b[1m23/23\u001b[0m \u001b[32m━━━━━━━━━━━━━━━━━━━━\u001b[0m\u001b[37m\u001b[0m \u001b[1m0s\u001b[0m 8ms/step - AUC: 0.9978 - accuracy: 0.9788 - loss: 0.1476 - precision: 0.9428 - recall: 0.9945 - val_AUC: 0.8153 - val_accuracy: 0.7207 - val_loss: 0.4996 - val_precision: 0.6250 - val_recall: 0.4839\n",
      "Epoch 11/50\n",
      "\u001b[1m23/23\u001b[0m \u001b[32m━━━━━━━━━━━━━━━━━━━━\u001b[0m\u001b[37m\u001b[0m \u001b[1m0s\u001b[0m 7ms/step - AUC: 0.9998 - accuracy: 0.9937 - loss: 0.0916 - precision: 0.9820 - recall: 1.0000 - val_AUC: 0.8224 - val_accuracy: 0.7318 - val_loss: 0.4891 - val_precision: 0.6667 - val_recall: 0.4516\n",
      "Epoch 12/50\n",
      "\u001b[1m23/23\u001b[0m \u001b[32m━━━━━━━━━━━━━━━━━━━━\u001b[0m\u001b[37m\u001b[0m \u001b[1m0s\u001b[0m 8ms/step - AUC: 1.0000 - accuracy: 0.9945 - loss: 0.0624 - precision: 0.9848 - recall: 1.0000 - val_AUC: 0.8315 - val_accuracy: 0.7486 - val_loss: 0.4787 - val_precision: 0.7073 - val_recall: 0.4677\n",
      "Epoch 13/50\n",
      "\u001b[1m23/23\u001b[0m \u001b[32m━━━━━━━━━━━━━━━━━━━━\u001b[0m\u001b[37m\u001b[0m \u001b[1m0s\u001b[0m 6ms/step - AUC: 1.0000 - accuracy: 0.9983 - loss: 0.0414 - precision: 0.9952 - recall: 1.0000 - val_AUC: 0.8405 - val_accuracy: 0.7654 - val_loss: 0.4688 - val_precision: 0.7381 - val_recall: 0.5000\n",
      "Epoch 14/50\n",
      "\u001b[1m23/23\u001b[0m \u001b[32m━━━━━━━━━━━━━━━━━━━━\u001b[0m\u001b[37m\u001b[0m \u001b[1m0s\u001b[0m 8ms/step - AUC: 1.0000 - accuracy: 1.0000 - loss: 0.0293 - precision: 1.0000 - recall: 1.0000 - val_AUC: 0.8470 - val_accuracy: 0.7654 - val_loss: 0.4585 - val_precision: 0.7500 - val_recall: 0.4839\n",
      "Epoch 15/50\n",
      "\u001b[1m23/23\u001b[0m \u001b[32m━━━━━━━━━━━━━━━━━━━━\u001b[0m\u001b[37m\u001b[0m \u001b[1m0s\u001b[0m 7ms/step - AUC: 1.0000 - accuracy: 1.0000 - loss: 0.0194 - precision: 1.0000 - recall: 1.0000 - val_AUC: 0.8482 - val_accuracy: 0.7709 - val_loss: 0.4561 - val_precision: 0.7442 - val_recall: 0.5161\n",
      "Epoch 16/50\n",
      "\u001b[1m23/23\u001b[0m \u001b[32m━━━━━━━━━━━━━━━━━━━━\u001b[0m\u001b[37m\u001b[0m \u001b[1m0s\u001b[0m 7ms/step - AUC: 1.0000 - accuracy: 1.0000 - loss: 0.0142 - precision: 1.0000 - recall: 1.0000 - val_AUC: 0.8486 - val_accuracy: 0.7821 - val_loss: 0.4570 - val_precision: 0.7949 - val_recall: 0.5000\n",
      "Epoch 17/50\n",
      "\u001b[1m23/23\u001b[0m \u001b[32m━━━━━━━━━━━━━━━━━━━━\u001b[0m\u001b[37m\u001b[0m \u001b[1m0s\u001b[0m 7ms/step - AUC: 1.0000 - accuracy: 1.0000 - loss: 0.0114 - precision: 1.0000 - recall: 1.0000 - val_AUC: 0.8508 - val_accuracy: 0.7821 - val_loss: 0.4548 - val_precision: 0.7949 - val_recall: 0.5000\n",
      "Epoch 18/50\n",
      "\u001b[1m23/23\u001b[0m \u001b[32m━━━━━━━━━━━━━━━━━━━━\u001b[0m\u001b[37m\u001b[0m \u001b[1m0s\u001b[0m 7ms/step - AUC: 1.0000 - accuracy: 1.0000 - loss: 0.0087 - precision: 1.0000 - recall: 1.0000 - val_AUC: 0.8490 - val_accuracy: 0.7821 - val_loss: 0.4552 - val_precision: 0.7949 - val_recall: 0.5000\n",
      "Epoch 19/50\n",
      "\u001b[1m23/23\u001b[0m \u001b[32m━━━━━━━━━━━━━━━━━━━━\u001b[0m\u001b[37m\u001b[0m \u001b[1m0s\u001b[0m 8ms/step - AUC: 1.0000 - accuracy: 1.0000 - loss: 0.0075 - precision: 1.0000 - recall: 1.0000 - val_AUC: 0.8517 - val_accuracy: 0.7765 - val_loss: 0.4549 - val_precision: 0.7895 - val_recall: 0.4839\n",
      "Epoch 20/50\n",
      "\u001b[1m23/23\u001b[0m \u001b[32m━━━━━━━━━━━━━━━━━━━━\u001b[0m\u001b[37m\u001b[0m \u001b[1m0s\u001b[0m 6ms/step - AUC: 1.0000 - accuracy: 1.0000 - loss: 0.0055 - precision: 1.0000 - recall: 1.0000 - val_AUC: 0.8525 - val_accuracy: 0.7765 - val_loss: 0.4556 - val_precision: 0.7895 - val_recall: 0.4839\n",
      "Epoch 21/50\n",
      "\u001b[1m23/23\u001b[0m \u001b[32m━━━━━━━━━━━━━━━━━━━━\u001b[0m\u001b[37m\u001b[0m \u001b[1m0s\u001b[0m 5ms/step - AUC: 1.0000 - accuracy: 1.0000 - loss: 0.0052 - precision: 1.0000 - recall: 1.0000 - val_AUC: 0.8508 - val_accuracy: 0.7654 - val_loss: 0.4589 - val_precision: 0.7632 - val_recall: 0.4677\n",
      "Epoch 22/50\n",
      "\u001b[1m23/23\u001b[0m \u001b[32m━━━━━━━━━━━━━━━━━━━━\u001b[0m\u001b[37m\u001b[0m \u001b[1m0s\u001b[0m 5ms/step - AUC: 1.0000 - accuracy: 1.0000 - loss: 0.0043 - precision: 1.0000 - recall: 1.0000 - val_AUC: 0.8533 - val_accuracy: 0.7709 - val_loss: 0.4579 - val_precision: 0.7838 - val_recall: 0.4677\n",
      "Epoch 23/50\n",
      "\u001b[1m23/23\u001b[0m \u001b[32m━━━━━━━━━━━━━━━━━━━━\u001b[0m\u001b[37m\u001b[0m \u001b[1m0s\u001b[0m 7ms/step - AUC: 1.0000 - accuracy: 1.0000 - loss: 0.0040 - precision: 1.0000 - recall: 1.0000 - val_AUC: 0.8539 - val_accuracy: 0.7821 - val_loss: 0.4562 - val_precision: 0.7949 - val_recall: 0.5000\n",
      "Epoch 24/50\n",
      "\u001b[1m23/23\u001b[0m \u001b[32m━━━━━━━━━━━━━━━━━━━━\u001b[0m\u001b[37m\u001b[0m \u001b[1m0s\u001b[0m 8ms/step - AUC: 1.0000 - accuracy: 1.0000 - loss: 0.0030 - precision: 1.0000 - recall: 1.0000 - val_AUC: 0.8544 - val_accuracy: 0.7765 - val_loss: 0.4599 - val_precision: 0.7895 - val_recall: 0.4839\n",
      "Epoch 25/50\n",
      "\u001b[1m23/23\u001b[0m \u001b[32m━━━━━━━━━━━━━━━━━━━━\u001b[0m\u001b[37m\u001b[0m \u001b[1m0s\u001b[0m 7ms/step - AUC: 1.0000 - accuracy: 1.0000 - loss: 0.0029 - precision: 1.0000 - recall: 1.0000 - val_AUC: 0.8536 - val_accuracy: 0.7709 - val_loss: 0.4610 - val_precision: 0.7692 - val_recall: 0.4839\n",
      "Epoch 26/50\n",
      "\u001b[1m23/23\u001b[0m \u001b[32m━━━━━━━━━━━━━━━━━━━━\u001b[0m\u001b[37m\u001b[0m \u001b[1m0s\u001b[0m 6ms/step - AUC: 1.0000 - accuracy: 1.0000 - loss: 0.0025 - precision: 1.0000 - recall: 1.0000 - val_AUC: 0.8550 - val_accuracy: 0.7765 - val_loss: 0.4628 - val_precision: 0.7895 - val_recall: 0.4839\n",
      "Epoch 27/50\n",
      "\u001b[1m23/23\u001b[0m \u001b[32m━━━━━━━━━━━━━━━━━━━━\u001b[0m\u001b[37m\u001b[0m \u001b[1m0s\u001b[0m 8ms/step - AUC: 1.0000 - accuracy: 1.0000 - loss: 0.0023 - precision: 1.0000 - recall: 1.0000 - val_AUC: 0.8537 - val_accuracy: 0.7765 - val_loss: 0.4619 - val_precision: 0.7895 - val_recall: 0.4839\n",
      "\u001b[1m8/8\u001b[0m \u001b[32m━━━━━━━━━━━━━━━━━━━━\u001b[0m\u001b[37m\u001b[0m \u001b[1m0s\u001b[0m 3ms/step - AUC: 0.9985 - accuracy: 0.9855 - loss: 0.0918 - precision: 0.9613 - recall: 1.0000 \n",
      "Epoch 1/50\n",
      "\u001b[1m23/23\u001b[0m \u001b[32m━━━━━━━━━━━━━━━━━━━━\u001b[0m\u001b[37m\u001b[0m \u001b[1m3s\u001b[0m 26ms/step - AUC: 0.6627 - accuracy: 0.6711 - loss: 0.6594 - precision: 0.5419 - recall: 0.4244 - val_AUC: 0.7869 - val_accuracy: 0.6927 - val_loss: 0.5941 - val_precision: 0.5422 - val_recall: 0.7258\n",
      "Epoch 2/50\n",
      "\u001b[1m23/23\u001b[0m \u001b[32m━━━━━━━━━━━━━━━━━━━━\u001b[0m\u001b[37m\u001b[0m \u001b[1m0s\u001b[0m 6ms/step - AUC: 0.8513 - accuracy: 0.7826 - loss: 0.5122 - precision: 0.6527 - recall: 0.8161 - val_AUC: 0.7938 - val_accuracy: 0.7430 - val_loss: 0.5536 - val_precision: 0.6143 - val_recall: 0.6935\n",
      "Epoch 3/50\n",
      "\u001b[1m23/23\u001b[0m \u001b[32m━━━━━━━━━━━━━━━━━━━━\u001b[0m\u001b[37m\u001b[0m \u001b[1m0s\u001b[0m 3ms/step - AUC: 0.8595 - accuracy: 0.7892 - loss: 0.4707 - precision: 0.6487 - recall: 0.8041 - val_AUC: 0.7971 - val_accuracy: 0.7430 - val_loss: 0.5461 - val_precision: 0.6250 - val_recall: 0.6452\n",
      "Epoch 4/50\n",
      "\u001b[1m23/23\u001b[0m \u001b[32m━━━━━━━━━━━━━━━━━━━━\u001b[0m\u001b[37m\u001b[0m \u001b[1m0s\u001b[0m 6ms/step - AUC: 0.8905 - accuracy: 0.8123 - loss: 0.4345 - precision: 0.7091 - recall: 0.8107 - val_AUC: 0.7974 - val_accuracy: 0.7486 - val_loss: 0.5347 - val_precision: 0.6441 - val_recall: 0.6129\n",
      "Epoch 5/50\n",
      "\u001b[1m23/23\u001b[0m \u001b[32m━━━━━━━━━━━━━━━━━━━━\u001b[0m\u001b[37m\u001b[0m \u001b[1m0s\u001b[0m 4ms/step - AUC: 0.9237 - accuracy: 0.8377 - loss: 0.3745 - precision: 0.7192 - recall: 0.8580 - val_AUC: 0.7994 - val_accuracy: 0.7430 - val_loss: 0.5263 - val_precision: 0.6429 - val_recall: 0.5806\n",
      "Epoch 6/50\n",
      "\u001b[1m23/23\u001b[0m \u001b[32m━━━━━━━━━━━━━━━━━━━━\u001b[0m\u001b[37m\u001b[0m \u001b[1m0s\u001b[0m 3ms/step - AUC: 0.9513 - accuracy: 0.8559 - loss: 0.3241 - precision: 0.7528 - recall: 0.8904 - val_AUC: 0.7981 - val_accuracy: 0.7486 - val_loss: 0.5158 - val_precision: 0.6735 - val_recall: 0.5323\n",
      "Epoch 7/50\n",
      "\u001b[1m23/23\u001b[0m \u001b[32m━━━━━━━━━━━━━━━━━━━━\u001b[0m\u001b[37m\u001b[0m \u001b[1m0s\u001b[0m 3ms/step - AUC: 0.9651 - accuracy: 0.9010 - loss: 0.2813 - precision: 0.8123 - recall: 0.9145 - val_AUC: 0.8089 - val_accuracy: 0.7542 - val_loss: 0.4995 - val_precision: 0.6800 - val_recall: 0.5484\n",
      "Epoch 8/50\n",
      "\u001b[1m23/23\u001b[0m \u001b[32m━━━━━━━━━━━━━━━━━━━━\u001b[0m\u001b[37m\u001b[0m \u001b[1m0s\u001b[0m 3ms/step - AUC: 0.9774 - accuracy: 0.9153 - loss: 0.2297 - precision: 0.8209 - recall: 0.9175 - val_AUC: 0.8244 - val_accuracy: 0.7430 - val_loss: 0.4823 - val_precision: 0.6600 - val_recall: 0.5323\n",
      "Epoch 9/50\n",
      "\u001b[1m23/23\u001b[0m \u001b[32m━━━━━━━━━━━━━━━━━━━━\u001b[0m\u001b[37m\u001b[0m \u001b[1m0s\u001b[0m 2ms/step - AUC: 0.9965 - accuracy: 0.9730 - loss: 0.1574 - precision: 0.9457 - recall: 0.9770 - val_AUC: 0.8380 - val_accuracy: 0.7598 - val_loss: 0.4660 - val_precision: 0.6610 - val_recall: 0.6290\n",
      "Epoch 10/50\n",
      "\u001b[1m23/23\u001b[0m \u001b[32m━━━━━━━━━━━━━━━━━━━━\u001b[0m\u001b[37m\u001b[0m \u001b[1m0s\u001b[0m 2ms/step - AUC: 0.9993 - accuracy: 0.9828 - loss: 0.1167 - precision: 0.9592 - recall: 0.9983 - val_AUC: 0.8468 - val_accuracy: 0.7654 - val_loss: 0.4542 - val_precision: 0.6724 - val_recall: 0.6290\n",
      "Epoch 11/50\n",
      "\u001b[1m23/23\u001b[0m \u001b[32m━━━━━━━━━━━━━━━━━━━━\u001b[0m\u001b[37m\u001b[0m \u001b[1m0s\u001b[0m 2ms/step - AUC: 0.9999 - accuracy: 0.9981 - loss: 0.0800 - precision: 0.9955 - recall: 0.9989 - val_AUC: 0.8475 - val_accuracy: 0.7598 - val_loss: 0.4478 - val_precision: 0.6667 - val_recall: 0.6129\n",
      "Epoch 12/50\n",
      "\u001b[1m23/23\u001b[0m \u001b[32m━━━━━━━━━━━━━━━━━━━━\u001b[0m\u001b[37m\u001b[0m \u001b[1m0s\u001b[0m 2ms/step - AUC: 1.0000 - accuracy: 0.9934 - loss: 0.0563 - precision: 0.9836 - recall: 0.9977 - val_AUC: 0.8608 - val_accuracy: 0.7542 - val_loss: 0.4295 - val_precision: 0.6452 - val_recall: 0.6452\n",
      "Epoch 13/50\n",
      "\u001b[1m23/23\u001b[0m \u001b[32m━━━━━━━━━━━━━━━━━━━━\u001b[0m\u001b[37m\u001b[0m \u001b[1m0s\u001b[0m 2ms/step - AUC: 1.0000 - accuracy: 0.9986 - loss: 0.0372 - precision: 0.9961 - recall: 1.0000 - val_AUC: 0.8569 - val_accuracy: 0.7430 - val_loss: 0.4362 - val_precision: 0.6429 - val_recall: 0.5806\n",
      "Epoch 14/50\n",
      "\u001b[1m23/23\u001b[0m \u001b[32m━━━━━━━━━━━━━━━━━━━━\u001b[0m\u001b[37m\u001b[0m \u001b[1m0s\u001b[0m 2ms/step - AUC: 1.0000 - accuracy: 1.0000 - loss: 0.0281 - precision: 1.0000 - recall: 1.0000 - val_AUC: 0.8653 - val_accuracy: 0.7374 - val_loss: 0.4231 - val_precision: 0.6316 - val_recall: 0.5806\n",
      "Epoch 15/50\n",
      "\u001b[1m23/23\u001b[0m \u001b[32m━━━━━━━━━━━━━━━━━━━━\u001b[0m\u001b[37m\u001b[0m \u001b[1m0s\u001b[0m 2ms/step - AUC: 1.0000 - accuracy: 1.0000 - loss: 0.0212 - precision: 1.0000 - recall: 1.0000 - val_AUC: 0.8661 - val_accuracy: 0.7542 - val_loss: 0.4287 - val_precision: 0.6667 - val_recall: 0.5806\n",
      "Epoch 16/50\n",
      "\u001b[1m23/23\u001b[0m \u001b[32m━━━━━━━━━━━━━━━━━━━━\u001b[0m\u001b[37m\u001b[0m \u001b[1m0s\u001b[0m 2ms/step - AUC: 1.0000 - accuracy: 1.0000 - loss: 0.0172 - precision: 1.0000 - recall: 1.0000 - val_AUC: 0.8659 - val_accuracy: 0.7598 - val_loss: 0.4293 - val_precision: 0.6727 - val_recall: 0.5968\n",
      "Epoch 17/50\n",
      "\u001b[1m23/23\u001b[0m \u001b[32m━━━━━━━━━━━━━━━━━━━━\u001b[0m\u001b[37m\u001b[0m \u001b[1m0s\u001b[0m 2ms/step - AUC: 1.0000 - accuracy: 1.0000 - loss: 0.0121 - precision: 1.0000 - recall: 1.0000 - val_AUC: 0.8672 - val_accuracy: 0.7598 - val_loss: 0.4287 - val_precision: 0.6727 - val_recall: 0.5968\n",
      "Epoch 18/50\n",
      "\u001b[1m23/23\u001b[0m \u001b[32m━━━━━━━━━━━━━━━━━━━━\u001b[0m\u001b[37m\u001b[0m \u001b[1m0s\u001b[0m 2ms/step - AUC: 1.0000 - accuracy: 1.0000 - loss: 0.0105 - precision: 1.0000 - recall: 1.0000 - val_AUC: 0.8655 - val_accuracy: 0.7598 - val_loss: 0.4342 - val_precision: 0.6727 - val_recall: 0.5968\n",
      "Epoch 19/50\n",
      "\u001b[1m23/23\u001b[0m \u001b[32m━━━━━━━━━━━━━━━━━━━━\u001b[0m\u001b[37m\u001b[0m \u001b[1m0s\u001b[0m 2ms/step - AUC: 1.0000 - accuracy: 1.0000 - loss: 0.0083 - precision: 1.0000 - recall: 1.0000 - val_AUC: 0.8677 - val_accuracy: 0.7598 - val_loss: 0.4344 - val_precision: 0.6727 - val_recall: 0.5968\n",
      "Epoch 20/50\n",
      "\u001b[1m23/23\u001b[0m \u001b[32m━━━━━━━━━━━━━━━━━━━━\u001b[0m\u001b[37m\u001b[0m \u001b[1m0s\u001b[0m 2ms/step - AUC: 1.0000 - accuracy: 1.0000 - loss: 0.0071 - precision: 1.0000 - recall: 1.0000 - val_AUC: 0.8706 - val_accuracy: 0.7486 - val_loss: 0.4316 - val_precision: 0.6604 - val_recall: 0.5645\n",
      "Epoch 21/50\n",
      "\u001b[1m23/23\u001b[0m \u001b[32m━━━━━━━━━━━━━━━━━━━━\u001b[0m\u001b[37m\u001b[0m \u001b[1m0s\u001b[0m 2ms/step - AUC: 1.0000 - accuracy: 1.0000 - loss: 0.0060 - precision: 1.0000 - recall: 1.0000 - val_AUC: 0.8696 - val_accuracy: 0.7430 - val_loss: 0.4375 - val_precision: 0.6538 - val_recall: 0.5484\n",
      "Epoch 22/50\n",
      "\u001b[1m23/23\u001b[0m \u001b[32m━━━━━━━━━━━━━━━━━━━━\u001b[0m\u001b[37m\u001b[0m \u001b[1m0s\u001b[0m 3ms/step - AUC: 1.0000 - accuracy: 1.0000 - loss: 0.0050 - precision: 1.0000 - recall: 1.0000 - val_AUC: 0.8683 - val_accuracy: 0.7598 - val_loss: 0.4407 - val_precision: 0.6792 - val_recall: 0.5806\n",
      "Epoch 23/50\n",
      "\u001b[1m23/23\u001b[0m \u001b[32m━━━━━━━━━━━━━━━━━━━━\u001b[0m\u001b[37m\u001b[0m \u001b[1m0s\u001b[0m 2ms/step - AUC: 1.0000 - accuracy: 1.0000 - loss: 0.0046 - precision: 1.0000 - recall: 1.0000 - val_AUC: 0.8697 - val_accuracy: 0.7598 - val_loss: 0.4442 - val_precision: 0.6863 - val_recall: 0.5645\n",
      "Epoch 24/50\n",
      "\u001b[1m23/23\u001b[0m \u001b[32m━━━━━━━━━━━━━━━━━━━━\u001b[0m\u001b[37m\u001b[0m \u001b[1m0s\u001b[0m 2ms/step - AUC: 1.0000 - accuracy: 1.0000 - loss: 0.0042 - precision: 1.0000 - recall: 1.0000 - val_AUC: 0.8700 - val_accuracy: 0.7542 - val_loss: 0.4477 - val_precision: 0.6731 - val_recall: 0.5645\n",
      "\u001b[1m8/8\u001b[0m \u001b[32m━━━━━━━━━━━━━━━━━━━━\u001b[0m\u001b[37m\u001b[0m \u001b[1m0s\u001b[0m 921us/step - AUC: 0.9938 - accuracy: 0.9581 - loss: 0.1429 - precision: 0.9913 - recall: 0.8907\n",
      "Epoch 1/50\n",
      "\u001b[1m23/23\u001b[0m \u001b[32m━━━━━━━━━━━━━━━━━━━━\u001b[0m\u001b[37m\u001b[0m \u001b[1m3s\u001b[0m 51ms/step - AUC: 0.5666 - accuracy: 0.6077 - loss: 0.7098 - precision: 0.4735 - recall: 0.3715 - val_AUC: 0.7634 - val_accuracy: 0.6778 - val_loss: 0.5983 - val_precision: 0.5352 - val_recall: 0.6032\n",
      "Epoch 2/50\n",
      "\u001b[1m23/23\u001b[0m \u001b[32m━━━━━━━━━━━━━━━━━━━━\u001b[0m\u001b[37m\u001b[0m \u001b[1m0s\u001b[0m 9ms/step - AUC: 0.8062 - accuracy: 0.7437 - loss: 0.5489 - precision: 0.5981 - recall: 0.7462 - val_AUC: 0.7811 - val_accuracy: 0.6944 - val_loss: 0.5776 - val_precision: 0.5513 - val_recall: 0.6825\n",
      "Epoch 3/50\n",
      "\u001b[1m23/23\u001b[0m \u001b[32m━━━━━━━━━━━━━━━━━━━━\u001b[0m\u001b[37m\u001b[0m \u001b[1m0s\u001b[0m 8ms/step - AUC: 0.8243 - accuracy: 0.7624 - loss: 0.5147 - precision: 0.6134 - recall: 0.7973 - val_AUC: 0.7753 - val_accuracy: 0.6833 - val_loss: 0.5750 - val_precision: 0.5405 - val_recall: 0.6349\n",
      "Epoch 4/50\n",
      "\u001b[1m23/23\u001b[0m \u001b[32m━━━━━━━━━━━━━━━━━━━━\u001b[0m\u001b[37m\u001b[0m \u001b[1m0s\u001b[0m 8ms/step - AUC: 0.8710 - accuracy: 0.7929 - loss: 0.4577 - precision: 0.6645 - recall: 0.8050 - val_AUC: 0.7770 - val_accuracy: 0.7056 - val_loss: 0.5696 - val_precision: 0.5714 - val_recall: 0.6349\n",
      "Epoch 5/50\n",
      "\u001b[1m23/23\u001b[0m \u001b[32m━━━━━━━━━━━━━━━━━━━━\u001b[0m\u001b[37m\u001b[0m \u001b[1m0s\u001b[0m 6ms/step - AUC: 0.8854 - accuracy: 0.8082 - loss: 0.4333 - precision: 0.6747 - recall: 0.8347 - val_AUC: 0.7814 - val_accuracy: 0.7222 - val_loss: 0.5597 - val_precision: 0.5915 - val_recall: 0.6667\n",
      "Epoch 6/50\n",
      "\u001b[1m23/23\u001b[0m \u001b[32m━━━━━━━━━━━━━━━━━━━━\u001b[0m\u001b[37m\u001b[0m \u001b[1m0s\u001b[0m 7ms/step - AUC: 0.8940 - accuracy: 0.8204 - loss: 0.4315 - precision: 0.7083 - recall: 0.8557 - val_AUC: 0.7795 - val_accuracy: 0.7222 - val_loss: 0.5563 - val_precision: 0.5915 - val_recall: 0.6667\n",
      "Epoch 7/50\n",
      "\u001b[1m23/23\u001b[0m \u001b[32m━━━━━━━━━━━━━━━━━━━━\u001b[0m\u001b[37m\u001b[0m \u001b[1m0s\u001b[0m 8ms/step - AUC: 0.9259 - accuracy: 0.8458 - loss: 0.3562 - precision: 0.7244 - recall: 0.8314 - val_AUC: 0.7780 - val_accuracy: 0.7056 - val_loss: 0.5518 - val_precision: 0.5735 - val_recall: 0.6190\n",
      "Epoch 8/50\n",
      "\u001b[1m23/23\u001b[0m \u001b[32m━━━━━━━━━━━━━━━━━━━━\u001b[0m\u001b[37m\u001b[0m \u001b[1m0s\u001b[0m 6ms/step - AUC: 0.9539 - accuracy: 0.8649 - loss: 0.3064 - precision: 0.7442 - recall: 0.9182 - val_AUC: 0.7837 - val_accuracy: 0.7278 - val_loss: 0.5410 - val_precision: 0.6029 - val_recall: 0.6508\n",
      "Epoch 9/50\n",
      "\u001b[1m23/23\u001b[0m \u001b[32m━━━━━━━━━━━━━━━━━━━━\u001b[0m\u001b[37m\u001b[0m \u001b[1m0s\u001b[0m 5ms/step - AUC: 0.9716 - accuracy: 0.9166 - loss: 0.2633 - precision: 0.8567 - recall: 0.9363 - val_AUC: 0.7873 - val_accuracy: 0.7000 - val_loss: 0.5237 - val_precision: 0.5818 - val_recall: 0.5079\n",
      "Epoch 10/50\n",
      "\u001b[1m23/23\u001b[0m \u001b[32m━━━━━━━━━━━━━━━━━━━━\u001b[0m\u001b[37m\u001b[0m \u001b[1m0s\u001b[0m 6ms/step - AUC: 0.9824 - accuracy: 0.9435 - loss: 0.2084 - precision: 0.8860 - recall: 0.9493 - val_AUC: 0.7825 - val_accuracy: 0.7000 - val_loss: 0.5349 - val_precision: 0.5652 - val_recall: 0.6190\n",
      "Epoch 11/50\n",
      "\u001b[1m23/23\u001b[0m \u001b[32m━━━━━━━━━━━━━━━━━━━━\u001b[0m\u001b[37m\u001b[0m \u001b[1m0s\u001b[0m 8ms/step - AUC: 0.9928 - accuracy: 0.9608 - loss: 0.1588 - precision: 0.9117 - recall: 0.9834 - val_AUC: 0.8046 - val_accuracy: 0.7389 - val_loss: 0.5010 - val_precision: 0.6667 - val_recall: 0.5079\n",
      "Epoch 12/50\n",
      "\u001b[1m23/23\u001b[0m \u001b[32m━━━━━━━━━━━━━━━━━━━━\u001b[0m\u001b[37m\u001b[0m \u001b[1m0s\u001b[0m 7ms/step - AUC: 0.9986 - accuracy: 0.9903 - loss: 0.0927 - precision: 0.9854 - recall: 0.9873 - val_AUC: 0.7840 - val_accuracy: 0.7056 - val_loss: 0.5203 - val_precision: 0.5862 - val_recall: 0.5397\n",
      "Epoch 13/50\n",
      "\u001b[1m23/23\u001b[0m \u001b[32m━━━━━━━━━━━━━━━━━━━━\u001b[0m\u001b[37m\u001b[0m \u001b[1m0s\u001b[0m 7ms/step - AUC: 1.0000 - accuracy: 0.9995 - loss: 0.0644 - precision: 0.9985 - recall: 1.0000 - val_AUC: 0.8168 - val_accuracy: 0.7389 - val_loss: 0.4870 - val_precision: 0.6481 - val_recall: 0.5556\n",
      "Epoch 14/50\n",
      "\u001b[1m23/23\u001b[0m \u001b[32m━━━━━━━━━━━━━━━━━━━━\u001b[0m\u001b[37m\u001b[0m \u001b[1m0s\u001b[0m 8ms/step - AUC: 1.0000 - accuracy: 1.0000 - loss: 0.0459 - precision: 1.0000 - recall: 1.0000 - val_AUC: 0.8076 - val_accuracy: 0.7389 - val_loss: 0.4973 - val_precision: 0.6600 - val_recall: 0.5238\n",
      "Epoch 15/50\n",
      "\u001b[1m23/23\u001b[0m \u001b[32m━━━━━━━━━━━━━━━━━━━━\u001b[0m\u001b[37m\u001b[0m \u001b[1m0s\u001b[0m 6ms/step - AUC: 1.0000 - accuracy: 1.0000 - loss: 0.0295 - precision: 1.0000 - recall: 1.0000 - val_AUC: 0.8171 - val_accuracy: 0.7389 - val_loss: 0.4854 - val_precision: 0.6600 - val_recall: 0.5238\n",
      "Epoch 16/50\n",
      "\u001b[1m23/23\u001b[0m \u001b[32m━━━━━━━━━━━━━━━━━━━━\u001b[0m\u001b[37m\u001b[0m \u001b[1m0s\u001b[0m 5ms/step - AUC: 1.0000 - accuracy: 1.0000 - loss: 0.0204 - precision: 1.0000 - recall: 1.0000 - val_AUC: 0.8303 - val_accuracy: 0.7444 - val_loss: 0.4762 - val_precision: 0.6667 - val_recall: 0.5397\n",
      "Epoch 17/50\n",
      "\u001b[1m23/23\u001b[0m \u001b[32m━━━━━━━━━━━━━━━━━━━━\u001b[0m\u001b[37m\u001b[0m \u001b[1m0s\u001b[0m 8ms/step - AUC: 1.0000 - accuracy: 1.0000 - loss: 0.0145 - precision: 1.0000 - recall: 1.0000 - val_AUC: 0.8182 - val_accuracy: 0.7444 - val_loss: 0.4901 - val_precision: 0.6735 - val_recall: 0.5238\n",
      "Epoch 18/50\n",
      "\u001b[1m23/23\u001b[0m \u001b[32m━━━━━━━━━━━━━━━━━━━━\u001b[0m\u001b[37m\u001b[0m \u001b[1m0s\u001b[0m 7ms/step - AUC: 1.0000 - accuracy: 1.0000 - loss: 0.0114 - precision: 1.0000 - recall: 1.0000 - val_AUC: 0.8237 - val_accuracy: 0.7444 - val_loss: 0.4896 - val_precision: 0.6735 - val_recall: 0.5238\n",
      "Epoch 19/50\n",
      "\u001b[1m23/23\u001b[0m \u001b[32m━━━━━━━━━━━━━━━━━━━━\u001b[0m\u001b[37m\u001b[0m \u001b[1m0s\u001b[0m 8ms/step - AUC: 1.0000 - accuracy: 1.0000 - loss: 0.0086 - precision: 1.0000 - recall: 1.0000 - val_AUC: 0.8289 - val_accuracy: 0.7389 - val_loss: 0.4870 - val_precision: 0.6667 - val_recall: 0.5079\n",
      "Epoch 20/50\n",
      "\u001b[1m23/23\u001b[0m \u001b[32m━━━━━━━━━━━━━━━━━━━━\u001b[0m\u001b[37m\u001b[0m \u001b[1m0s\u001b[0m 7ms/step - AUC: 1.0000 - accuracy: 1.0000 - loss: 0.0071 - precision: 1.0000 - recall: 1.0000 - val_AUC: 0.8307 - val_accuracy: 0.7389 - val_loss: 0.4862 - val_precision: 0.6667 - val_recall: 0.5079\n",
      "Epoch 21/50\n",
      "\u001b[1m23/23\u001b[0m \u001b[32m━━━━━━━━━━━━━━━━━━━━\u001b[0m\u001b[37m\u001b[0m \u001b[1m0s\u001b[0m 6ms/step - AUC: 1.0000 - accuracy: 1.0000 - loss: 0.0061 - precision: 1.0000 - recall: 1.0000 - val_AUC: 0.8339 - val_accuracy: 0.7444 - val_loss: 0.4854 - val_precision: 0.6735 - val_recall: 0.5238\n",
      "Epoch 22/50\n",
      "\u001b[1m23/23\u001b[0m \u001b[32m━━━━━━━━━━━━━━━━━━━━\u001b[0m\u001b[37m\u001b[0m \u001b[1m0s\u001b[0m 5ms/step - AUC: 1.0000 - accuracy: 1.0000 - loss: 0.0053 - precision: 1.0000 - recall: 1.0000 - val_AUC: 0.8306 - val_accuracy: 0.7444 - val_loss: 0.4908 - val_precision: 0.6735 - val_recall: 0.5238\n",
      "Epoch 23/50\n",
      "\u001b[1m23/23\u001b[0m \u001b[32m━━━━━━━━━━━━━━━━━━━━\u001b[0m\u001b[37m\u001b[0m \u001b[1m0s\u001b[0m 6ms/step - AUC: 1.0000 - accuracy: 1.0000 - loss: 0.0045 - precision: 1.0000 - recall: 1.0000 - val_AUC: 0.8344 - val_accuracy: 0.7389 - val_loss: 0.4883 - val_precision: 0.6667 - val_recall: 0.5079\n",
      "Epoch 24/50\n",
      "\u001b[1m23/23\u001b[0m \u001b[32m━━━━━━━━━━━━━━━━━━━━\u001b[0m\u001b[37m\u001b[0m \u001b[1m0s\u001b[0m 6ms/step - AUC: 1.0000 - accuracy: 1.0000 - loss: 0.0037 - precision: 1.0000 - recall: 1.0000 - val_AUC: 0.8346 - val_accuracy: 0.7389 - val_loss: 0.4886 - val_precision: 0.6667 - val_recall: 0.5079\n",
      "Epoch 25/50\n",
      "\u001b[1m23/23\u001b[0m \u001b[32m━━━━━━━━━━━━━━━━━━━━\u001b[0m\u001b[37m\u001b[0m \u001b[1m0s\u001b[0m 8ms/step - AUC: 1.0000 - accuracy: 1.0000 - loss: 0.0034 - precision: 1.0000 - recall: 1.0000 - val_AUC: 0.8344 - val_accuracy: 0.7389 - val_loss: 0.4928 - val_precision: 0.6667 - val_recall: 0.5079\n",
      "Epoch 26/50\n",
      "\u001b[1m23/23\u001b[0m \u001b[32m━━━━━━━━━━━━━━━━━━━━\u001b[0m\u001b[37m\u001b[0m \u001b[1m0s\u001b[0m 8ms/step - AUC: 1.0000 - accuracy: 1.0000 - loss: 0.0031 - precision: 1.0000 - recall: 1.0000 - val_AUC: 0.8373 - val_accuracy: 0.7389 - val_loss: 0.4917 - val_precision: 0.6667 - val_recall: 0.5079\n",
      "\u001b[1m7/7\u001b[0m \u001b[32m━━━━━━━━━━━━━━━━━━━━\u001b[0m\u001b[37m\u001b[0m \u001b[1m0s\u001b[0m 3ms/step - AUC: 0.9872 - accuracy: 0.8810 - loss: 0.2478 - precision: 0.7670 - recall: 0.9836 \n",
      "Loses: [0.15799853205680847, 0.1370757818222046, 0.08981715142726898, 0.15274637937545776, 0.29589954018592834] 0.16670747697353364 0.06892242985405085\n",
      "AUCs: [0.9873102903366089, 0.9927611351013184, 0.9982659816741943, 0.9929339289665222, 0.9806374907493591] 0.9903817653656006 0.0059786395247792236\n",
      "Accuracies: [0.9511111378669739, 0.9555555582046509, 0.9866666793823242, 0.9511111378669739, 0.8482142686843872] 0.938531756401062 0.047075494478213346\n",
      "Precisions: [0.9240506291389465, 0.9047619104385376, 0.9634146094322205, 0.9857142567634583, 0.7037037014961243] 0.8963290214538574 0.10043337238572486\n",
      "Recals: [0.9358974099159241, 0.9743589758872986, 1.0, 0.8734177350997925, 0.9743589758872986] 0.9516066193580628 0.044130578124634876\n"
     ]
    }
   ],
   "source": [
    "%load_ext autoreload\n",
    "%autoreload 2\n",
    "\n",
    "from utils.prepare_data import normalizeData, patientsToNumpy\n",
    "from constants import CATEGORICAL_MEASURES\n",
    "import numpy as np\n",
    "from tensorflow.keras.callbacks import EarlyStopping\n",
    "\n",
    "\n",
    "\n",
    "loses = []\n",
    "aucs = []\n",
    "accuracies = []\n",
    "precisions = []\n",
    "recals = []\n",
    "for i, (trainPatients, valPatients, testPatients) in enumerate(trainValTest()):\n",
    "    npTrainX, categoryEncoder, numericEncoder, oulier, columns = patientsToNumpy(\n",
    "        trainPatients, \n",
    "        hoursPerWindow,\n",
    "        CATEGORICAL_MEASURES,\n",
    "        timeSeriesOnly=True,\n",
    "        fromHour=0,\n",
    "        toHour=12,\n",
    "    )\n",
    "\n",
    "    npTestX, *_ = patientsToNumpy(\n",
    "        testPatients,\n",
    "        hoursPerWindow,\n",
    "        CATEGORICAL_MEASURES,\n",
    "        columns,\n",
    "        categoryEncoder,\n",
    "        numericEncoder,\n",
    "        oulier,\n",
    "        timeSeriesOnly=True,\n",
    "        fromHour=0,\n",
    "        toHour=12,\n",
    "    )\n",
    "\n",
    "    npValX, *_ = patientsToNumpy(\n",
    "        valPatients,\n",
    "        hoursPerWindow,\n",
    "        CATEGORICAL_MEASURES,\n",
    "        columns,\n",
    "        categoryEncoder,\n",
    "        numericEncoder,\n",
    "        oulier,\n",
    "        timeSeriesOnly=True,\n",
    "        fromHour=0,\n",
    "        toHour=12,\n",
    "    )\n",
    "    \n",
    "    npTrainX = np.nan_to_num(npTrainX, nan=0)\n",
    "    npTestX = np.nan_to_num(npTestX, nan=0)\n",
    "    npValX = np.nan_to_num(npValX, nan=0)\n",
    "    \n",
    "    \n",
    "    ################### Static ###################\n",
    "    staticTrainX = trainPatients.getMeasuresBetween(measureTypes=\"static\")\n",
    "    staticTestX = testPatients.getMeasuresBetween(measureTypes=\"static\")\n",
    "    staticValX = valPatients.getMeasuresBetween(measureTypes=\"static\")\n",
    "\n",
    "    staticTrainX, staticTestX, staticValX = normalizeData(\n",
    "        staticTrainX, staticTestX, staticValX\n",
    "    )\n",
    "    \n",
    "    staticLen = len(staticTrainX.columns)\n",
    "\n",
    "    staticTrainX = staticTrainX.to_numpy().astype(np.float32)\n",
    "    staticTestX = staticTestX.to_numpy().astype(np.float32)\n",
    "    staticValX = staticValX.to_numpy().astype(np.float32) # type: ignore\n",
    "    \n",
    "    staticTrainX = np.nan_to_num(staticTrainX, nan=0)\n",
    "    staticTestX = np.nan_to_num(staticTestX, nan=0)\n",
    "    \n",
    "\n",
    "\n",
    "    ################### labels ###################\n",
    "    trainY = [p.akdPositive for p in trainPatients]\n",
    "    testY = [p.akdPositive for p in testPatients]\n",
    "    valY = [p.akdPositive for p in valPatients]\n",
    "\n",
    "    model = createModel2(npTrainX.shape[1], npTrainX.shape[2], staticLen)\n",
    "\n",
    "    neg, pos = np.bincount(trainY)\n",
    "    weight0 = (1 / neg) * (len(trainY)) / 2.0\n",
    "    weight1 = (1 / pos) * (len(trainY)) / 2.0\n",
    "    weight = {0: weight0, 1: weight1}\n",
    "\n",
    "    early_stopping = EarlyStopping(\n",
    "        monitor=\"val_loss\", patience=10, restore_best_weights=True\n",
    "    )\n",
    "\n",
    "    trainY = np.array(trainY)\n",
    "    model.fit(\n",
    "        [npTrainX, staticTrainX],\n",
    "        trainY,\n",
    "        epochs=50,\n",
    "        batch_size=32,\n",
    "        validation_data=([npValX, staticValX], np.array(valY)),\n",
    "        class_weight=weight,\n",
    "        callbacks=[early_stopping],\n",
    "    )\n",
    "\n",
    "    testY = np.array(testY)\n",
    "    loss, auc, accuracy, precison, recal = model.evaluate([npTestX, staticTestX], testY)\n",
    "    loses.append(loss)\n",
    "    aucs.append(auc)\n",
    "    accuracies.append(accuracy)\n",
    "    precisions.append(precison)\n",
    "    recals.append(recal)\n",
    "\n",
    "    pass\n",
    "\n",
    "print(\"Loses:\", loses, np.mean(loses), np.std(loses))\n",
    "print(\"AUCs:\", aucs, np.mean(aucs), np.std(aucs))\n",
    "print(\"Accuracies:\", accuracies, np.mean(accuracies), np.std(accuracies))\n",
    "print(\"Precisions:\", precisions, np.mean(precisions), np.std(precisions))\n",
    "print(\"Recals:\", recals, np.mean(recals), np.std(recals))"
   ]
  },
  {
   "cell_type": "code",
   "execution_count": 13,
   "metadata": {},
   "outputs": [
    {
     "name": "stdout",
     "output_type": "stream",
     "text": [
      "Epoch 1/50\n",
      "\u001b[1m23/23\u001b[0m \u001b[32m━━━━━━━━━━━━━━━━━━━━\u001b[0m\u001b[37m\u001b[0m \u001b[1m3s\u001b[0m 27ms/step - AUC: 0.7129 - accuracy: 0.6032 - loss: 0.6352 - precision: 0.4598 - recall: 0.7702 - val_AUC: 0.7394 - val_accuracy: 0.7167 - val_loss: 0.5917 - val_precision: 0.5938 - val_recall: 0.6032\n",
      "Epoch 2/50\n",
      "\u001b[1m23/23\u001b[0m \u001b[32m━━━━━━━━━━━━━━━━━━━━\u001b[0m\u001b[37m\u001b[0m \u001b[1m0s\u001b[0m 6ms/step - AUC: 0.8580 - accuracy: 0.7762 - loss: 0.5074 - precision: 0.6495 - recall: 0.8436 - val_AUC: 0.7527 - val_accuracy: 0.6667 - val_loss: 0.5557 - val_precision: 0.5246 - val_recall: 0.5079\n",
      "Epoch 3/50\n",
      "\u001b[1m23/23\u001b[0m \u001b[32m━━━━━━━━━━━━━━━━━━━━\u001b[0m\u001b[37m\u001b[0m \u001b[1m0s\u001b[0m 8ms/step - AUC: 0.8863 - accuracy: 0.8133 - loss: 0.4397 - precision: 0.7032 - recall: 0.8156 - val_AUC: 0.7563 - val_accuracy: 0.6944 - val_loss: 0.5453 - val_precision: 0.5833 - val_recall: 0.4444\n",
      "Epoch 4/50\n",
      "\u001b[1m23/23\u001b[0m \u001b[32m━━━━━━━━━━━━━━━━━━━━\u001b[0m\u001b[37m\u001b[0m \u001b[1m0s\u001b[0m 9ms/step - AUC: 0.9004 - accuracy: 0.8027 - loss: 0.4207 - precision: 0.6772 - recall: 0.8773 - val_AUC: 0.7613 - val_accuracy: 0.6722 - val_loss: 0.5426 - val_precision: 0.5526 - val_recall: 0.3333\n",
      "Epoch 5/50\n",
      "\u001b[1m23/23\u001b[0m \u001b[32m━━━━━━━━━━━━━━━━━━━━\u001b[0m\u001b[37m\u001b[0m \u001b[1m0s\u001b[0m 5ms/step - AUC: 0.9263 - accuracy: 0.8468 - loss: 0.3664 - precision: 0.7420 - recall: 0.8452 - val_AUC: 0.7689 - val_accuracy: 0.6778 - val_loss: 0.5392 - val_precision: 0.5714 - val_recall: 0.3175\n",
      "Epoch 6/50\n",
      "\u001b[1m23/23\u001b[0m \u001b[32m━━━━━━━━━━━━━━━━━━━━\u001b[0m\u001b[37m\u001b[0m \u001b[1m0s\u001b[0m 7ms/step - AUC: 0.9594 - accuracy: 0.8948 - loss: 0.2979 - precision: 0.8209 - recall: 0.8910 - val_AUC: 0.7728 - val_accuracy: 0.7056 - val_loss: 0.5419 - val_precision: 0.6667 - val_recall: 0.3175\n",
      "Epoch 7/50\n",
      "\u001b[1m23/23\u001b[0m \u001b[32m━━━━━━━━━━━━━━━━━━━━\u001b[0m\u001b[37m\u001b[0m \u001b[1m0s\u001b[0m 6ms/step - AUC: 0.9805 - accuracy: 0.9374 - loss: 0.2499 - precision: 0.8764 - recall: 0.9585 - val_AUC: 0.7720 - val_accuracy: 0.7222 - val_loss: 0.5641 - val_precision: 0.8421 - val_recall: 0.2540\n",
      "Epoch 8/50\n",
      "\u001b[1m23/23\u001b[0m \u001b[32m━━━━━━━━━━━━━━━━━━━━\u001b[0m\u001b[37m\u001b[0m \u001b[1m0s\u001b[0m 8ms/step - AUC: 0.9932 - accuracy: 0.9471 - loss: 0.1863 - precision: 0.8928 - recall: 0.9673 - val_AUC: 0.7740 - val_accuracy: 0.7111 - val_loss: 0.6153 - val_precision: 0.8667 - val_recall: 0.2063\n",
      "Epoch 9/50\n",
      "\u001b[1m23/23\u001b[0m \u001b[32m━━━━━━━━━━━━━━━━━━━━\u001b[0m\u001b[37m\u001b[0m \u001b[1m0s\u001b[0m 8ms/step - AUC: 0.9985 - accuracy: 0.9813 - loss: 0.1271 - precision: 0.9614 - recall: 0.9834 - val_AUC: 0.7422 - val_accuracy: 0.7167 - val_loss: 0.6624 - val_precision: 0.8750 - val_recall: 0.2222\n",
      "Epoch 10/50\n",
      "\u001b[1m23/23\u001b[0m \u001b[32m━━━━━━━━━━━━━━━━━━━━\u001b[0m\u001b[37m\u001b[0m \u001b[1m0s\u001b[0m 7ms/step - AUC: 0.9997 - accuracy: 0.9855 - loss: 0.1005 - precision: 0.9615 - recall: 0.9985 - val_AUC: 0.7723 - val_accuracy: 0.7222 - val_loss: 0.7460 - val_precision: 0.9333 - val_recall: 0.2222\n"
     ]
    },
    {
     "data": {
      "text/plain": [
       "<keras.src.callbacks.history.History at 0x733953e684a0>"
      ]
     },
     "execution_count": 13,
     "metadata": {},
     "output_type": "execute_result"
    }
   ],
   "source": [
    "model = createModel2(npTrainX.shape[1], npTrainX.shape[2], staticLen)\n",
    "\n",
    "\n",
    "model.fit(\n",
    "        [npTrainX, staticTrainX],\n",
    "        trainY,\n",
    "        epochs=50,\n",
    "        batch_size=32,\n",
    "        validation_data=([npValX, staticValX], np.array(valY)),\n",
    "        class_weight=weight,\n",
    "        callbacks=[early_stopping],\n",
    "    )\n"
   ]
  }
 ],
 "metadata": {
  "kernelspec": {
   "display_name": ".venv",
   "language": "python",
   "name": "python3"
  },
  "language_info": {
   "codemirror_mode": {
    "name": "ipython",
    "version": 3
   },
   "file_extension": ".py",
   "mimetype": "text/x-python",
   "name": "python",
   "nbconvert_exporter": "python",
   "pygments_lexer": "ipython3",
   "version": "3.12.3"
  }
 },
 "nbformat": 4,
 "nbformat_minor": 2
}
