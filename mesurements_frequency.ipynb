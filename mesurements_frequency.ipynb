{
 "cells": [
  {
   "cell_type": "code",
   "execution_count": 2,
   "metadata": {},
   "outputs": [],
   "source": [
    "import pandas as pd"
   ]
  },
  {
   "cell_type": "code",
   "execution_count": 3,
   "metadata": {},
   "outputs": [
    {
     "data": {
      "text/plain": [
       "Index(['Unnamed: 0', 'subject_id', 'hadm_id', 'stay_id', 'caregiver_id',\n",
       "       'charttime', 'storetime', 'itemid', 'value', 'valuenum', 'valueuom',\n",
       "       'warning', 'is_akd'],\n",
       "      dtype='object')"
      ]
     },
     "execution_count": 3,
     "metadata": {},
     "output_type": "execute_result"
    }
   ],
   "source": [
    "dfTargetPatients = pd.read_csv(\"./tmp/icu_target.csv\")\n",
    "dfTargetPatients.columns"
   ]
  },
  {
   "cell_type": "code",
   "execution_count": 4,
   "metadata": {},
   "outputs": [
    {
     "data": {
      "text/html": [
       "<div>\n",
       "<style scoped>\n",
       "    .dataframe tbody tr th:only-of-type {\n",
       "        vertical-align: middle;\n",
       "    }\n",
       "\n",
       "    .dataframe tbody tr th {\n",
       "        vertical-align: top;\n",
       "    }\n",
       "\n",
       "    .dataframe thead th {\n",
       "        text-align: right;\n",
       "    }\n",
       "</style>\n",
       "<table border=\"1\" class=\"dataframe\">\n",
       "  <thead>\n",
       "    <tr style=\"text-align: right;\">\n",
       "      <th></th>\n",
       "      <th>hadm_id</th>\n",
       "      <th>stay_id</th>\n",
       "      <th>charttime</th>\n",
       "      <th>itemid</th>\n",
       "      <th>valuenum</th>\n",
       "      <th>is_akd</th>\n",
       "    </tr>\n",
       "  </thead>\n",
       "  <tbody>\n",
       "    <tr>\n",
       "      <th>0</th>\n",
       "      <td>25085565</td>\n",
       "      <td>32496174</td>\n",
       "      <td>2186-09-15 20:00:00</td>\n",
       "      <td>220615</td>\n",
       "      <td>0.8</td>\n",
       "      <td>False</td>\n",
       "    </tr>\n",
       "    <tr>\n",
       "      <th>1</th>\n",
       "      <td>25085565</td>\n",
       "      <td>32496174</td>\n",
       "      <td>2186-09-16 04:03:00</td>\n",
       "      <td>220615</td>\n",
       "      <td>0.7</td>\n",
       "      <td>False</td>\n",
       "    </tr>\n",
       "    <tr>\n",
       "      <th>2</th>\n",
       "      <td>21759936</td>\n",
       "      <td>35024147</td>\n",
       "      <td>2140-10-03 11:37:00</td>\n",
       "      <td>220615</td>\n",
       "      <td>1.1</td>\n",
       "      <td>False</td>\n",
       "    </tr>\n",
       "    <tr>\n",
       "      <th>3</th>\n",
       "      <td>21759936</td>\n",
       "      <td>35024147</td>\n",
       "      <td>2140-10-03 14:17:00</td>\n",
       "      <td>220615</td>\n",
       "      <td>1.0</td>\n",
       "      <td>False</td>\n",
       "    </tr>\n",
       "    <tr>\n",
       "      <th>4</th>\n",
       "      <td>21759936</td>\n",
       "      <td>35024147</td>\n",
       "      <td>2140-10-03 16:29:00</td>\n",
       "      <td>220615</td>\n",
       "      <td>0.9</td>\n",
       "      <td>False</td>\n",
       "    </tr>\n",
       "    <tr>\n",
       "      <th>...</th>\n",
       "      <td>...</td>\n",
       "      <td>...</td>\n",
       "      <td>...</td>\n",
       "      <td>...</td>\n",
       "      <td>...</td>\n",
       "      <td>...</td>\n",
       "    </tr>\n",
       "    <tr>\n",
       "      <th>8861</th>\n",
       "      <td>25744818</td>\n",
       "      <td>36075953</td>\n",
       "      <td>2149-01-09 03:13:00</td>\n",
       "      <td>220615</td>\n",
       "      <td>0.7</td>\n",
       "      <td>False</td>\n",
       "    </tr>\n",
       "    <tr>\n",
       "      <th>8862</th>\n",
       "      <td>25744818</td>\n",
       "      <td>36075953</td>\n",
       "      <td>2149-01-09 07:58:00</td>\n",
       "      <td>220615</td>\n",
       "      <td>0.6</td>\n",
       "      <td>False</td>\n",
       "    </tr>\n",
       "    <tr>\n",
       "      <th>8863</th>\n",
       "      <td>25744818</td>\n",
       "      <td>36075953</td>\n",
       "      <td>2149-01-09 13:53:00</td>\n",
       "      <td>220615</td>\n",
       "      <td>0.6</td>\n",
       "      <td>False</td>\n",
       "    </tr>\n",
       "    <tr>\n",
       "      <th>8864</th>\n",
       "      <td>25744818</td>\n",
       "      <td>36075953</td>\n",
       "      <td>2149-01-09 19:39:00</td>\n",
       "      <td>220615</td>\n",
       "      <td>0.8</td>\n",
       "      <td>False</td>\n",
       "    </tr>\n",
       "    <tr>\n",
       "      <th>8865</th>\n",
       "      <td>25744818</td>\n",
       "      <td>36075953</td>\n",
       "      <td>2149-01-10 05:58:00</td>\n",
       "      <td>220615</td>\n",
       "      <td>0.6</td>\n",
       "      <td>False</td>\n",
       "    </tr>\n",
       "  </tbody>\n",
       "</table>\n",
       "<p>8866 rows × 6 columns</p>\n",
       "</div>"
      ],
      "text/plain": [
       "       hadm_id   stay_id           charttime  itemid  valuenum  is_akd\n",
       "0     25085565  32496174 2186-09-15 20:00:00  220615       0.8   False\n",
       "1     25085565  32496174 2186-09-16 04:03:00  220615       0.7   False\n",
       "2     21759936  35024147 2140-10-03 11:37:00  220615       1.1   False\n",
       "3     21759936  35024147 2140-10-03 14:17:00  220615       1.0   False\n",
       "4     21759936  35024147 2140-10-03 16:29:00  220615       0.9   False\n",
       "...        ...       ...                 ...     ...       ...     ...\n",
       "8861  25744818  36075953 2149-01-09 03:13:00  220615       0.7   False\n",
       "8862  25744818  36075953 2149-01-09 07:58:00  220615       0.6   False\n",
       "8863  25744818  36075953 2149-01-09 13:53:00  220615       0.6   False\n",
       "8864  25744818  36075953 2149-01-09 19:39:00  220615       0.8   False\n",
       "8865  25744818  36075953 2149-01-10 05:58:00  220615       0.6   False\n",
       "\n",
       "[8866 rows x 6 columns]"
      ]
     },
     "execution_count": 4,
     "metadata": {},
     "output_type": "execute_result"
    }
   ],
   "source": [
    "droppingColumnsName = [\"Unnamed: 0\", \"subject_id\", \"caregiver_id\", \"storetime\", \"value\", \"valueuom\", \"warning\"]\n",
    "droppingColumns = [col for col in droppingColumnsName if col in dfTargetPatients.columns]\n",
    "\n",
    "dfTargetPatients = dfTargetPatients.drop(droppingColumns, axis=1)\n",
    "dfTargetPatients[\"charttime\"] = pd.to_datetime(dfTargetPatients[\"charttime\"])\n",
    "dfTargetPatients"
   ]
  },
  {
   "cell_type": "code",
   "execution_count": 5,
   "metadata": {},
   "outputs": [
    {
     "data": {
      "text/html": [
       "<div>\n",
       "<style scoped>\n",
       "    .dataframe tbody tr th:only-of-type {\n",
       "        vertical-align: middle;\n",
       "    }\n",
       "\n",
       "    .dataframe tbody tr th {\n",
       "        vertical-align: top;\n",
       "    }\n",
       "\n",
       "    .dataframe thead th {\n",
       "        text-align: right;\n",
       "    }\n",
       "</style>\n",
       "<table border=\"1\" class=\"dataframe\">\n",
       "  <thead>\n",
       "    <tr style=\"text-align: right;\">\n",
       "      <th></th>\n",
       "      <th>hadm_id</th>\n",
       "      <th>stay_id</th>\n",
       "      <th>charttime</th>\n",
       "      <th>itemid</th>\n",
       "      <th>valuenum</th>\n",
       "      <th>is_akd</th>\n",
       "      <th>time_delta</th>\n",
       "    </tr>\n",
       "  </thead>\n",
       "  <tbody>\n",
       "    <tr>\n",
       "      <th>2656</th>\n",
       "      <td>26734917</td>\n",
       "      <td>30002521</td>\n",
       "      <td>2161-05-18 20:11:00</td>\n",
       "      <td>220615</td>\n",
       "      <td>0.6</td>\n",
       "      <td>False</td>\n",
       "      <td>NaT</td>\n",
       "    </tr>\n",
       "    <tr>\n",
       "      <th>2657</th>\n",
       "      <td>26734917</td>\n",
       "      <td>30002521</td>\n",
       "      <td>2161-05-19 04:18:00</td>\n",
       "      <td>220615</td>\n",
       "      <td>0.5</td>\n",
       "      <td>False</td>\n",
       "      <td>0 days 08:07:00</td>\n",
       "    </tr>\n",
       "    <tr>\n",
       "      <th>2658</th>\n",
       "      <td>26734917</td>\n",
       "      <td>30002521</td>\n",
       "      <td>2161-05-20 04:37:00</td>\n",
       "      <td>220615</td>\n",
       "      <td>0.6</td>\n",
       "      <td>False</td>\n",
       "      <td>1 days 00:19:00</td>\n",
       "    </tr>\n",
       "    <tr>\n",
       "      <th>7999</th>\n",
       "      <td>20906073</td>\n",
       "      <td>30006067</td>\n",
       "      <td>2161-04-14 09:00:00</td>\n",
       "      <td>220615</td>\n",
       "      <td>1.2</td>\n",
       "      <td>True</td>\n",
       "      <td>NaT</td>\n",
       "    </tr>\n",
       "    <tr>\n",
       "      <th>8000</th>\n",
       "      <td>20906073</td>\n",
       "      <td>30006067</td>\n",
       "      <td>2161-04-14 13:00:00</td>\n",
       "      <td>220615</td>\n",
       "      <td>1.0</td>\n",
       "      <td>False</td>\n",
       "      <td>0 days 04:00:00</td>\n",
       "    </tr>\n",
       "    <tr>\n",
       "      <th>...</th>\n",
       "      <td>...</td>\n",
       "      <td>...</td>\n",
       "      <td>...</td>\n",
       "      <td>...</td>\n",
       "      <td>...</td>\n",
       "      <td>...</td>\n",
       "      <td>...</td>\n",
       "    </tr>\n",
       "    <tr>\n",
       "      <th>5781</th>\n",
       "      <td>28982559</td>\n",
       "      <td>39981751</td>\n",
       "      <td>2201-06-29 22:00:00</td>\n",
       "      <td>220615</td>\n",
       "      <td>0.6</td>\n",
       "      <td>False</td>\n",
       "      <td>0 days 06:00:00</td>\n",
       "    </tr>\n",
       "    <tr>\n",
       "      <th>5782</th>\n",
       "      <td>28982559</td>\n",
       "      <td>39981751</td>\n",
       "      <td>2201-06-30 04:00:00</td>\n",
       "      <td>220615</td>\n",
       "      <td>0.5</td>\n",
       "      <td>False</td>\n",
       "      <td>0 days 06:00:00</td>\n",
       "    </tr>\n",
       "    <tr>\n",
       "      <th>5783</th>\n",
       "      <td>28982559</td>\n",
       "      <td>39981751</td>\n",
       "      <td>2201-07-01 05:24:00</td>\n",
       "      <td>220615</td>\n",
       "      <td>0.5</td>\n",
       "      <td>False</td>\n",
       "      <td>1 days 01:24:00</td>\n",
       "    </tr>\n",
       "    <tr>\n",
       "      <th>5784</th>\n",
       "      <td>28982559</td>\n",
       "      <td>39981751</td>\n",
       "      <td>2201-07-01 17:35:00</td>\n",
       "      <td>220615</td>\n",
       "      <td>0.5</td>\n",
       "      <td>False</td>\n",
       "      <td>0 days 12:11:00</td>\n",
       "    </tr>\n",
       "    <tr>\n",
       "      <th>5785</th>\n",
       "      <td>28982559</td>\n",
       "      <td>39981751</td>\n",
       "      <td>2201-07-02 05:05:00</td>\n",
       "      <td>220615</td>\n",
       "      <td>0.4</td>\n",
       "      <td>False</td>\n",
       "      <td>0 days 11:30:00</td>\n",
       "    </tr>\n",
       "  </tbody>\n",
       "</table>\n",
       "<p>8866 rows × 7 columns</p>\n",
       "</div>"
      ],
      "text/plain": [
       "       hadm_id   stay_id           charttime  itemid  valuenum  is_akd  \\\n",
       "2656  26734917  30002521 2161-05-18 20:11:00  220615       0.6   False   \n",
       "2657  26734917  30002521 2161-05-19 04:18:00  220615       0.5   False   \n",
       "2658  26734917  30002521 2161-05-20 04:37:00  220615       0.6   False   \n",
       "7999  20906073  30006067 2161-04-14 09:00:00  220615       1.2    True   \n",
       "8000  20906073  30006067 2161-04-14 13:00:00  220615       1.0   False   \n",
       "...        ...       ...                 ...     ...       ...     ...   \n",
       "5781  28982559  39981751 2201-06-29 22:00:00  220615       0.6   False   \n",
       "5782  28982559  39981751 2201-06-30 04:00:00  220615       0.5   False   \n",
       "5783  28982559  39981751 2201-07-01 05:24:00  220615       0.5   False   \n",
       "5784  28982559  39981751 2201-07-01 17:35:00  220615       0.5   False   \n",
       "5785  28982559  39981751 2201-07-02 05:05:00  220615       0.4   False   \n",
       "\n",
       "          time_delta  \n",
       "2656             NaT  \n",
       "2657 0 days 08:07:00  \n",
       "2658 1 days 00:19:00  \n",
       "7999             NaT  \n",
       "8000 0 days 04:00:00  \n",
       "...              ...  \n",
       "5781 0 days 06:00:00  \n",
       "5782 0 days 06:00:00  \n",
       "5783 1 days 01:24:00  \n",
       "5784 0 days 12:11:00  \n",
       "5785 0 days 11:30:00  \n",
       "\n",
       "[8866 rows x 7 columns]"
      ]
     },
     "execution_count": 5,
     "metadata": {},
     "output_type": "execute_result"
    }
   ],
   "source": [
    "dfsTimeDelta = []\n",
    "\n",
    "dfGroupedTargetPatients = dfTargetPatients.groupby(by=\"stay_id\")\n",
    "for groupId, groupData in dfGroupedTargetPatients:\n",
    "    groupDataSorted = groupData.sort_values(by=\"charttime\")\n",
    "    \n",
    "    # get indexes of is_akd in sorted group\n",
    "    if (groupDataSorted.columns.__contains__(\"is_akd\")):\n",
    "        isAkdIndexes = groupDataSorted[groupDataSorted[\"is_akd\"]].index\n",
    "    else:\n",
    "        isAkdIndexes = []\n",
    "    if (len(isAkdIndexes) > 0):\n",
    "        # drop all is_akd from the first akd\n",
    "        firstAkdIndex = isAkdIndexes[0]\n",
    "        groupDataSortedNoAKD = groupDataSorted.drop(index=range(firstAkdIndex, len(groupDataSorted)))\n",
    "        # mark will akd \n",
    "        groupDataSortedNoAKD[\"will_akd\"][len(groupDataSortedNoAKD) - 1] = True\n",
    "        pass\n",
    "    else:\n",
    "        groupDataSortedNoAKD = groupDataSorted\n",
    "        pass\n",
    "    groupDataSortedNoAKD[\"time_delta\"] = groupDataSortedNoAKD[\"charttime\"].diff()\n",
    "    dfsTimeDelta.append(groupDataSortedNoAKD)\n",
    "    pass\n",
    "dfTimeDelta = pd.concat(dfsTimeDelta)\n",
    "dfTimeDelta"
   ]
  },
  {
   "cell_type": "code",
   "execution_count": 6,
   "metadata": {},
   "outputs": [
    {
     "name": "stdout",
     "output_type": "stream",
     "text": [
      "Length:8866\n",
      "NaN:1205\n"
     ]
    }
   ],
   "source": [
    "print(\"Length:\" + str(len(dfTimeDelta)))\n",
    "print(\"NaN:\" + str(dfTimeDelta[\"time_delta\"].isna().sum()))"
   ]
  },
  {
   "cell_type": "code",
   "execution_count": 7,
   "metadata": {},
   "outputs": [
    {
     "data": {
      "text/html": [
       "<div>\n",
       "<style scoped>\n",
       "    .dataframe tbody tr th:only-of-type {\n",
       "        vertical-align: middle;\n",
       "    }\n",
       "\n",
       "    .dataframe tbody tr th {\n",
       "        vertical-align: top;\n",
       "    }\n",
       "\n",
       "    .dataframe thead th {\n",
       "        text-align: right;\n",
       "    }\n",
       "</style>\n",
       "<table border=\"1\" class=\"dataframe\">\n",
       "  <thead>\n",
       "    <tr style=\"text-align: right;\">\n",
       "      <th></th>\n",
       "      <th>hadm_id</th>\n",
       "      <th>stay_id</th>\n",
       "      <th>charttime</th>\n",
       "      <th>itemid</th>\n",
       "      <th>valuenum</th>\n",
       "      <th>is_akd</th>\n",
       "      <th>time_delta</th>\n",
       "    </tr>\n",
       "  </thead>\n",
       "  <tbody>\n",
       "    <tr>\n",
       "      <th>2657</th>\n",
       "      <td>26734917</td>\n",
       "      <td>30002521</td>\n",
       "      <td>2161-05-19 04:18:00</td>\n",
       "      <td>220615</td>\n",
       "      <td>0.5</td>\n",
       "      <td>False</td>\n",
       "      <td>0 days 08:07:00</td>\n",
       "    </tr>\n",
       "    <tr>\n",
       "      <th>2658</th>\n",
       "      <td>26734917</td>\n",
       "      <td>30002521</td>\n",
       "      <td>2161-05-20 04:37:00</td>\n",
       "      <td>220615</td>\n",
       "      <td>0.6</td>\n",
       "      <td>False</td>\n",
       "      <td>1 days 00:19:00</td>\n",
       "    </tr>\n",
       "    <tr>\n",
       "      <th>8000</th>\n",
       "      <td>20906073</td>\n",
       "      <td>30006067</td>\n",
       "      <td>2161-04-14 13:00:00</td>\n",
       "      <td>220615</td>\n",
       "      <td>1.0</td>\n",
       "      <td>False</td>\n",
       "      <td>0 days 04:00:00</td>\n",
       "    </tr>\n",
       "    <tr>\n",
       "      <th>8001</th>\n",
       "      <td>20906073</td>\n",
       "      <td>30006067</td>\n",
       "      <td>2161-04-14 16:47:00</td>\n",
       "      <td>220615</td>\n",
       "      <td>0.9</td>\n",
       "      <td>False</td>\n",
       "      <td>0 days 03:47:00</td>\n",
       "    </tr>\n",
       "    <tr>\n",
       "      <th>8002</th>\n",
       "      <td>20906073</td>\n",
       "      <td>30006067</td>\n",
       "      <td>2161-04-14 20:27:00</td>\n",
       "      <td>220615</td>\n",
       "      <td>0.8</td>\n",
       "      <td>False</td>\n",
       "      <td>0 days 03:40:00</td>\n",
       "    </tr>\n",
       "    <tr>\n",
       "      <th>...</th>\n",
       "      <td>...</td>\n",
       "      <td>...</td>\n",
       "      <td>...</td>\n",
       "      <td>...</td>\n",
       "      <td>...</td>\n",
       "      <td>...</td>\n",
       "      <td>...</td>\n",
       "    </tr>\n",
       "    <tr>\n",
       "      <th>5781</th>\n",
       "      <td>28982559</td>\n",
       "      <td>39981751</td>\n",
       "      <td>2201-06-29 22:00:00</td>\n",
       "      <td>220615</td>\n",
       "      <td>0.6</td>\n",
       "      <td>False</td>\n",
       "      <td>0 days 06:00:00</td>\n",
       "    </tr>\n",
       "    <tr>\n",
       "      <th>5782</th>\n",
       "      <td>28982559</td>\n",
       "      <td>39981751</td>\n",
       "      <td>2201-06-30 04:00:00</td>\n",
       "      <td>220615</td>\n",
       "      <td>0.5</td>\n",
       "      <td>False</td>\n",
       "      <td>0 days 06:00:00</td>\n",
       "    </tr>\n",
       "    <tr>\n",
       "      <th>5783</th>\n",
       "      <td>28982559</td>\n",
       "      <td>39981751</td>\n",
       "      <td>2201-07-01 05:24:00</td>\n",
       "      <td>220615</td>\n",
       "      <td>0.5</td>\n",
       "      <td>False</td>\n",
       "      <td>1 days 01:24:00</td>\n",
       "    </tr>\n",
       "    <tr>\n",
       "      <th>5784</th>\n",
       "      <td>28982559</td>\n",
       "      <td>39981751</td>\n",
       "      <td>2201-07-01 17:35:00</td>\n",
       "      <td>220615</td>\n",
       "      <td>0.5</td>\n",
       "      <td>False</td>\n",
       "      <td>0 days 12:11:00</td>\n",
       "    </tr>\n",
       "    <tr>\n",
       "      <th>5785</th>\n",
       "      <td>28982559</td>\n",
       "      <td>39981751</td>\n",
       "      <td>2201-07-02 05:05:00</td>\n",
       "      <td>220615</td>\n",
       "      <td>0.4</td>\n",
       "      <td>False</td>\n",
       "      <td>0 days 11:30:00</td>\n",
       "    </tr>\n",
       "  </tbody>\n",
       "</table>\n",
       "<p>7661 rows × 7 columns</p>\n",
       "</div>"
      ],
      "text/plain": [
       "       hadm_id   stay_id           charttime  itemid  valuenum  is_akd  \\\n",
       "2657  26734917  30002521 2161-05-19 04:18:00  220615       0.5   False   \n",
       "2658  26734917  30002521 2161-05-20 04:37:00  220615       0.6   False   \n",
       "8000  20906073  30006067 2161-04-14 13:00:00  220615       1.0   False   \n",
       "8001  20906073  30006067 2161-04-14 16:47:00  220615       0.9   False   \n",
       "8002  20906073  30006067 2161-04-14 20:27:00  220615       0.8   False   \n",
       "...        ...       ...                 ...     ...       ...     ...   \n",
       "5781  28982559  39981751 2201-06-29 22:00:00  220615       0.6   False   \n",
       "5782  28982559  39981751 2201-06-30 04:00:00  220615       0.5   False   \n",
       "5783  28982559  39981751 2201-07-01 05:24:00  220615       0.5   False   \n",
       "5784  28982559  39981751 2201-07-01 17:35:00  220615       0.5   False   \n",
       "5785  28982559  39981751 2201-07-02 05:05:00  220615       0.4   False   \n",
       "\n",
       "          time_delta  \n",
       "2657 0 days 08:07:00  \n",
       "2658 1 days 00:19:00  \n",
       "8000 0 days 04:00:00  \n",
       "8001 0 days 03:47:00  \n",
       "8002 0 days 03:40:00  \n",
       "...              ...  \n",
       "5781 0 days 06:00:00  \n",
       "5782 0 days 06:00:00  \n",
       "5783 1 days 01:24:00  \n",
       "5784 0 days 12:11:00  \n",
       "5785 0 days 11:30:00  \n",
       "\n",
       "[7661 rows x 7 columns]"
      ]
     },
     "execution_count": 7,
     "metadata": {},
     "output_type": "execute_result"
    }
   ],
   "source": [
    "dfTimeDelta.dropna(subset=[\"time_delta\"], inplace=True)\n",
    "dfTimeDelta"
   ]
  },
  {
   "cell_type": "code",
   "execution_count": 8,
   "metadata": {},
   "outputs": [
    {
     "data": {
      "text/plain": [
       "<Axes: ylabel='Frequency'>"
      ]
     },
     "execution_count": 8,
     "metadata": {},
     "output_type": "execute_result"
    },
    {
     "data": {
      "image/png": "[encoded data removed]",
      "text/plain": [
       "<Figure size 640x480 with 1 Axes>"
      ]
     },
     "metadata": {},
     "output_type": "display_data"
    }
   ],
   "source": [
    "import numpy as np\n",
    "\n",
    "(dfTimeDelta[\"time_delta\"].astype(\"timedelta64[s]\") / np.timedelta64(1, \"m\"))\\\n",
    "    .plot.hist(bins=50, color=\"skyblue\", edgecolor=\"black\", range=(0,500))\n",
    "        \n",
    "# plt.hist(dfTimeDelta[\"time_delta\"].astype(\"timedelta64[s]\"), bins=30)\n",
    "# serieTimeDelta = pd.to_timedelta(dfTimeDelta[\"time_delta\"], unit=\"S\")\n",
    "# print(serieTimeDelta.dtype)\n",
    "\n",
    "# serieTimeDelta.plot.hist(bins=30, color=\"skyblue\", edgecolor=\"black\")"
   ]
  },
  {
   "cell_type": "code",
   "execution_count": 9,
   "metadata": {},
   "outputs": [
    {
     "data": {
      "text/plain": [
       "count                         7661\n",
       "mean     0 days 07:36:26.119305573\n",
       "std      0 days 06:03:34.715155767\n",
       "min                0 days 00:02:00\n",
       "25%                0 days 03:53:00\n",
       "50%                0 days 05:44:00\n",
       "75%                0 days 09:39:00\n",
       "max                4 days 13:56:00\n",
       "Name: time_delta, dtype: object"
      ]
     },
     "execution_count": 9,
     "metadata": {},
     "output_type": "execute_result"
    }
   ],
   "source": [
    "dfTimeDelta[\"time_delta\"].describe()"
   ]
  },
  {
   "cell_type": "code",
   "execution_count": 11,
   "metadata": {},
   "outputs": [
    {
     "data": {
      "text/plain": [
       "count    1205.000000\n",
       "mean        7.357676\n",
       "std         7.356424\n",
       "min         1.000000\n",
       "25%         3.000000\n",
       "50%         6.000000\n",
       "75%         9.000000\n",
       "max        98.000000\n",
       "Name: Count, dtype: float64"
      ]
     },
     "execution_count": 11,
     "metadata": {},
     "output_type": "execute_result"
    }
   ],
   "source": [
    "dfPatientsMesurementsCount = dfTargetPatients.groupby(by=\"stay_id\").size().reset_index(name='Count')\n",
    "dfPatientsMesurementsCount[\"Count\"].describe()\n",
    "# there are 1205 group (count)"
   ]
  },
  {
   "cell_type": "code",
   "execution_count": 20,
   "metadata": {},
   "outputs": [
    {
     "data": {
      "text/plain": [
       "<Axes: ylabel='Frequency'>"
      ]
     },
     "execution_count": 20,
     "metadata": {},
     "output_type": "execute_result"
    },
    {
     "data": {
      "image/png": "[encoded data removed]",
      "text/plain": [
       "<Figure size 640x480 with 1 Axes>"
      ]
     },
     "metadata": {},
     "output_type": "display_data"
    }
   ],
   "source": [
    "dfPatientsMesurementsCount[\"Count\"].plot.hist(bins=20, edgecolor=\"black\", range=(0,20))"
   ]
  },
  {
   "cell_type": "markdown",
   "metadata": {},
   "source": [
    "Drop some short admission"
   ]
  },
  {
   "cell_type": "code",
   "execution_count": 28,
   "metadata": {},
   "outputs": [
    {
     "name": "stdout",
     "output_type": "stream",
     "text": [
      "Original length: 8866\n",
      "3 8147\n",
      "4 7519\n",
      "5 6894\n",
      "6 6138\n",
      "7 5452\n"
     ]
    }
   ],
   "source": [
    "print(\"Original length:\", dfTargetPatients.__len__())\n",
    "for i in [3,4,5,6,7]:\n",
    "    print(i, dfPatientsMesurementsCount[dfPatientsMesurementsCount[\"Count\"] > i].sum()[\"Count\"])"
   ]
  },
  {
   "cell_type": "code",
   "execution_count": 31,
   "metadata": {},
   "outputs": [
    {
     "name": "stdout",
     "output_type": "stream",
     "text": [
      "Original length: 388028\n",
      "3 312684\n",
      "4 283036\n",
      "5 258031\n",
      "6 236545\n",
      "7 217848\n"
     ]
    }
   ],
   "source": [
    "dfTargetPatients = pd.read_csv(\"./tmp/chartevent_plt.csv\")\n",
    "droppingColumnsName = [\"Unnamed: 0\", \"subject_id\", \"caregiver_id\", \"storetime\", \"value\", \"valueuom\", \"warning\"]\n",
    "droppingColumns = [col for col in droppingColumnsName if col in dfTargetPatients.columns]\n",
    "\n",
    "dfTargetPatients = dfTargetPatients.drop(droppingColumns, axis=1)\n",
    "dfTargetPatients[\"charttime\"] = pd.to_datetime(dfTargetPatients[\"charttime\"])\n",
    "# dfTargetPatients\n",
    "\n",
    "dfPatientsMesurementsCount = dfTargetPatients.groupby(by=\"stay_id\").size().reset_index(name='Count')\n",
    "print(\"Original length:\", dfTargetPatients.__len__())\n",
    "for i in [3,4,5,6,7]:\n",
    "    print(i, dfPatientsMesurementsCount[dfPatientsMesurementsCount[\"Count\"] > i].sum()[\"Count\"])"
   ]
  },
  {
   "cell_type": "code",
   "execution_count": 33,
   "metadata": {},
   "outputs": [
    {
     "name": "stdout",
     "output_type": "stream",
     "text": [
      "Original length: 202491\n",
      "3 155782\n",
      "4 147718\n",
      "5 141728\n",
      "6 136526\n",
      "7 132333\n"
     ]
    }
   ],
   "source": [
    "dfTargetPatients = pd.read_csv(\"./tmp/chartevent_weight.csv\")\n",
    "droppingColumnsName = [\"Unnamed: 0\", \"subject_id\", \"caregiver_id\", \"storetime\", \"value\", \"valueuom\", \"warning\"]\n",
    "droppingColumns = [col for col in droppingColumnsName if col in dfTargetPatients.columns]\n",
    "\n",
    "dfTargetPatients = dfTargetPatients.drop(droppingColumns, axis=1)\n",
    "dfTargetPatients[\"charttime\"] = pd.to_datetime(dfTargetPatients[\"charttime\"])\n",
    "# dfTargetPatients\n",
    "\n",
    "dfPatientsMesurementsCount = dfTargetPatients.groupby(by=\"stay_id\").size().reset_index(name='Count')\n",
    "print(\"Original length:\", dfTargetPatients.__len__())\n",
    "for i in [3,4,5,6,7]:\n",
    "    print(i, dfPatientsMesurementsCount[dfPatientsMesurementsCount[\"Count\"] > i].sum()[\"Count\"])"
   ]
  },
  {
   "cell_type": "code",
   "execution_count": 37,
   "metadata": {},
   "outputs": [
    {
     "name": "stdout",
     "output_type": "stream",
     "text": [
      "Original length: 47341\n",
      "3 47333\n",
      "4 47301\n",
      "5 47261\n",
      "6 47213\n",
      "7 47129\n"
     ]
    }
   ],
   "source": [
    "df1 = pd.read_csv(\"./tmp/glucose_serum.csv\")\n",
    "df2 = pd.read_csv(\"./tmp/glucose_stick.csv\")\n",
    "df3 = pd.read_csv(\"./tmp/glucose_whole_blood.csv\")\n",
    "\n",
    "dfTargetPatients = pd.concat([df1, df2, df3])\n",
    "droppingColumnsName = [\"Unnamed: 0\", \"subject_id\", \"caregiver_id\", \"storetime\", \"value\", \"valueuom\", \"warning\"]\n",
    "droppingColumns = [col for col in droppingColumnsName if col in dfTargetPatients.columns]\n",
    "\n",
    "dfTargetPatients = dfTargetPatients.drop(droppingColumns, axis=1)\n",
    "dfTargetPatients[\"charttime\"] = pd.to_datetime(dfTargetPatients[\"charttime\"])\n",
    "# dfTargetPatients\n",
    "\n",
    "dfPatientsMesurementsCount = dfTargetPatients.groupby(by=\"stay_id\").size().reset_index(name='Count')\n",
    "print(\"Original length:\", dfTargetPatients.__len__())\n",
    "for i in [3,4,5,6,7]:\n",
    "    print(i, dfPatientsMesurementsCount[dfPatientsMesurementsCount[\"Count\"] > i].sum()[\"Count\"])"
   ]
  }
 ],
 "metadata": {
  "kernelspec": {
   "display_name": ".venv",
   "language": "python",
   "name": "python3"
  },
  "language_info": {
   "codemirror_mode": {
    "name": "ipython",
    "version": 3
   },
   "file_extension": ".py",
   "mimetype": "text/x-python",
   "name": "python",
   "nbconvert_exporter": "python",
   "pygments_lexer": "ipython3",
   "version": "3.10.6"
  }
 },
 "nbformat": 4,
 "nbformat_minor": 2
}
