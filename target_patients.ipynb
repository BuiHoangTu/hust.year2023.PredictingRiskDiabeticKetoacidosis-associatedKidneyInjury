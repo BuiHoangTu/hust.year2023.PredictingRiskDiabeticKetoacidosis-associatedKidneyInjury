{
 "cells": [
  {
   "cell_type": "markdown",
   "metadata": {},
   "source": [
    "## Filter target patients "
   ]
  },
  {
   "cell_type": "markdown",
   "metadata": {},
   "source": [
    "### Import most libraries needed "
   ]
  },
  {
   "cell_type": "code",
   "execution_count": 1,
   "metadata": {
    "execution": {
     "iopub.execute_input": "2024-04-11T14:20:45.314850Z",
     "iopub.status.busy": "2024-04-11T14:20:45.314654Z",
     "iopub.status.idle": "2024-04-11T14:20:45.612193Z",
     "shell.execute_reply": "2024-04-11T14:20:45.611625Z"
    }
   },
   "outputs": [],
   "source": [
    "import pandas as pd\n",
    "from constants import MIMIC_PATH, TEMP_PATH"
   ]
  },
  {
   "cell_type": "markdown",
   "metadata": {},
   "source": [
    "### Define most constants needed\n",
    "- CKD: Chronic kidney disease (suy thận mãn tính)\n",
    "- DKA: Diabetic ketoacidosis (đái tháo đường)"
   ]
  },
  {
   "cell_type": "code",
   "execution_count": 2,
   "metadata": {
    "execution": {
     "iopub.execute_input": "2024-04-11T14:20:45.614458Z",
     "iopub.status.busy": "2024-04-11T14:20:45.614223Z",
     "iopub.status.idle": "2024-04-11T14:20:45.618055Z",
     "shell.execute_reply": "2024-04-11T14:20:45.617582Z"
    }
   },
   "outputs": [],
   "source": [
    "# Define ICD-9/10 codes for DKA\n",
    "DKA_T1_CODE_V9 = [\n",
    "    \"25011\",\n",
    "    \"25013\",\n",
    "]\n",
    "DKA_T2_CODE_V9 = [\n",
    "    \"25010\",\n",
    "    \"25012\",\n",
    "]\n",
    "DKA_CODE_V9 = (\n",
    "    [\n",
    "        \"24910\",  # Secondary diabetes mellitus with ketoacidosis\n",
    "        \"24911\",  # Secondary diabetes mellitus -> pregnant\n",
    "    ]\n",
    "    + DKA_T1_CODE_V9\n",
    "    + DKA_T2_CODE_V9\n",
    ")\n",
    "\n",
    "DKA_T1_CODE_V10 = [\n",
    "    \"E101\",  # Type 1 diabetes mellitus with ketoacidosis\n",
    "    \"E1010\",\n",
    "    \"E1011\",\n",
    "]\n",
    "DKA_T2_CODE_V10 = [\n",
    "    \"E111\",  # Type 2 diabetes mellitus with ketoacidosis\n",
    "    \"E1110\",\n",
    "    \"E1111\",\n",
    "]\n",
    "DKA_CODE_V10 = (\n",
    "    [\n",
    "        \"E081\",  # Diabetes mellitus due to underlying condition with ketoacidosis\n",
    "        \"E0810\",\n",
    "        \"E0811\",\n",
    "        \"E091\",  # Drug or chemical induced diabetes mellitus with ketoacidosis\n",
    "        \"E0910\",\n",
    "        \"E0911\",\n",
    "        \"E131\",  # Other specified diabetes mellitus with ketoacidosis\n",
    "        \"E1310\",\n",
    "        \"E1311\",\n",
    "        # TODO: add E141 family (not in current version 2.2)\n",
    "    ]\n",
    "    + DKA_T1_CODE_V10\n",
    "    + DKA_T2_CODE_V10\n",
    ")\n",
    "\n",
    "# Define CKD stage 5 codes\n",
    "CKD5_CODE_V9 = [\n",
    "    \"40301\",  # Hypertensive chronic kidney disease, malignant, with chronic kidney disease stage V or end stage renal disease\n",
    "    \"40311\",  # Hypertensive chronic kidney disease, benign, with chronic kidney disease stage V or end stage renal disease\n",
    "    \"40391\",  # Hypertensive chronic kidney disease, unspecified, with chronic kidney disease stage V or end stage renal disease\n",
    "    \"40402\",\n",
    "    \"40403\",\n",
    "    \"40412\",\n",
    "    \"40413\",\n",
    "    \"40492\",\n",
    "    \"40493\",\n",
    "    \"5855\",  # Stage 5\n",
    "    \"5856\",  # End stage renal disease\n",
    "]\n",
    "CKD5_CODE_V10 = [\n",
    "    \"I120\",  # Hypertensive\n",
    "    \"I1311\",\n",
    "    \"I132\",\n",
    "    \"N185\",  # stage 5\n",
    "    \"N186\",  # End stage renal disease\n",
    "]\n",
    "\n",
    "print(f\"{DKA_CODE_V9}\")\n",
    "print(f\"{DKA_CODE_V10}\")\n",
    "\n",
    "print(f\"{CKD5_CODE_V9}\")\n",
    "print(f\"{CKD5_CODE_V10}\")"
   ]
  },
  {
   "cell_type": "markdown",
   "metadata": {},
   "source": [
    "### Filter patients \n",
    "1. Only patients that caught DKA\n",
    "1. Filtering repeated admissions during one hospitalization, take first\n",
    "1. Remove attributes with more than 20% missing data"
   ]
  },
  {
   "cell_type": "markdown",
   "metadata": {},
   "source": [
    "#### Read icd_code "
   ]
  },
  {
   "cell_type": "code",
   "execution_count": 3,
   "metadata": {
    "execution": {
     "iopub.execute_input": "2024-04-11T14:20:45.642129Z",
     "iopub.status.busy": "2024-04-11T14:20:45.641918Z",
     "iopub.status.idle": "2024-04-11T14:20:48.060604Z",
     "shell.execute_reply": "2024-04-11T14:20:48.060095Z"
    }
   },
   "outputs": [],
   "source": [
    "dfDiagnosesIcd = pd.read_csv(str(MIMIC_PATH / \"hosp\" / \"diagnoses_icd.csv\"))\n",
    "\n",
    "\n",
    "# refine some column data\n",
    "dfDiagnosesIcd[\"icd_code\"] = dfDiagnosesIcd[\"icd_code\"].astype(str)\n",
    "dfDiagnosesIcd[\"icd_version\"] = dfDiagnosesIcd[\"icd_version\"].astype(int)\n",
    "\n",
    "dfDiagnosesIcd"
   ]
  },
  {
   "cell_type": "markdown",
   "metadata": {},
   "source": [
    "#### Patients that caught DKA"
   ]
  },
  {
   "cell_type": "code",
   "execution_count": 4,
   "metadata": {},
   "outputs": [],
   "source": [
    "from math import nan\n",
    "\n",
    "\n",
    "dfDiagnosesIcd[\"dka_type\"] = nan"
   ]
  },
  {
   "cell_type": "markdown",
   "metadata": {},
   "source": [
    "##### Mark have DKA"
   ]
  },
  {
   "cell_type": "code",
   "execution_count": 5,
   "metadata": {},
   "outputs": [],
   "source": [
    "dkaCondition = (\n",
    "    (dfDiagnosesIcd[\"icd_version\"] == 10) & dfDiagnosesIcd[\"icd_code\"].isin(DKA_CODE_V10)\n",
    ") | ((dfDiagnosesIcd[\"icd_version\"] == 9) & (dfDiagnosesIcd[\"icd_code\"].isin(DKA_CODE_V9)))\n",
    "\n",
    "dfDiagnosesIcd.loc[dkaCondition, \"dka_type\"] = 0"
   ]
  },
  {
   "cell_type": "markdown",
   "metadata": {},
   "source": [
    "##### Mark type of DKA"
   ]
  },
  {
   "cell_type": "markdown",
   "metadata": {},
   "source": [
    "###### Type 1 of code ICD9"
   ]
  },
  {
   "cell_type": "code",
   "execution_count": 6,
   "metadata": {},
   "outputs": [],
   "source": [
    "dfDiagnosesIcd.loc[\n",
    "    (dfDiagnosesIcd[\"icd_version\"] == 9)\n",
    "    & (dfDiagnosesIcd[\"icd_code\"].isin(DKA_T1_CODE_V9)),\n",
    "    \"dka_type\",\n",
    "] = 1"
   ]
  },
  {
   "cell_type": "markdown",
   "metadata": {},
   "source": [
    "###### Type 1 of code ICD10"
   ]
  },
  {
   "cell_type": "code",
   "execution_count": 7,
   "metadata": {},
   "outputs": [],
   "source": [
    "dfDiagnosesIcd.loc[\n",
    "    (dfDiagnosesIcd[\"icd_version\"] == 10)\n",
    "    & (dfDiagnosesIcd[\"icd_code\"].isin(DKA_T1_CODE_V10)),\n",
    "    \"dka_type\",\n",
    "] = 1"
   ]
  },
  {
   "cell_type": "markdown",
   "metadata": {},
   "source": [
    "###### Type 2 of code ICD9"
   ]
  },
  {
   "cell_type": "code",
   "execution_count": 8,
   "metadata": {},
   "outputs": [],
   "source": [
    "dfDiagnosesIcd.loc[\n",
    "    (dfDiagnosesIcd[\"icd_version\"] == 9)\n",
    "    & (dfDiagnosesIcd[\"icd_code\"].isin(DKA_T2_CODE_V9)),\n",
    "    \"dka_type\",\n",
    "] = 2"
   ]
  },
  {
   "cell_type": "markdown",
   "metadata": {},
   "source": [
    "###### Type 2 of code ICD10"
   ]
  },
  {
   "cell_type": "code",
   "execution_count": 9,
   "metadata": {},
   "outputs": [],
   "source": [
    "dfDiagnosesIcd.loc[\n",
    "    (dfDiagnosesIcd[\"icd_version\"] == 10)\n",
    "    & (dfDiagnosesIcd[\"icd_code\"].isin(DKA_T2_CODE_V10)),\n",
    "    \"dka_type\",\n",
    "] = 2"
   ]
  },
  {
   "cell_type": "markdown",
   "metadata": {},
   "source": [
    "##### Drop non DKA"
   ]
  },
  {
   "cell_type": "code",
   "execution_count": 10,
   "metadata": {
    "execution": {
     "iopub.execute_input": "2024-04-11T14:20:48.062728Z",
     "iopub.status.busy": "2024-04-11T14:20:48.062543Z",
     "iopub.status.idle": "2024-04-11T14:20:48.397907Z",
     "shell.execute_reply": "2024-04-11T14:20:48.397436Z"
    }
   },
   "outputs": [],
   "source": [
    "dfDkaDiagnoses = dfDiagnosesIcd.dropna(subset=[\"dka_type\"])\n",
    "dfDkaDiagnoses"
   ]
  },
  {
   "cell_type": "markdown",
   "metadata": {},
   "source": [
    "#### CKD stage 5 dianogses "
   ]
  },
  {
   "cell_type": "code",
   "execution_count": 11,
   "metadata": {
    "execution": {
     "iopub.execute_input": "2024-04-11T14:20:48.399913Z",
     "iopub.status.busy": "2024-04-11T14:20:48.399736Z",
     "iopub.status.idle": "2024-04-11T14:20:48.767967Z",
     "shell.execute_reply": "2024-04-11T14:20:48.767407Z"
    }
   },
   "outputs": [],
   "source": [
    "ckd5Condition = (\n",
    "    (dfDiagnosesIcd[\"icd_version\"] == 9)\n",
    "    & dfDiagnosesIcd[\"icd_code\"].isin(CKD5_CODE_V9)\n",
    ") | (\n",
    "    (dfDiagnosesIcd[\"icd_version\"] == 10)\n",
    "    & dfDiagnosesIcd[\"icd_code\"].isin(CKD5_CODE_V10)\n",
    ")\n",
    "\n",
    "dfCkd5Diagnoses = dfDiagnosesIcd[ckd5Condition]\n",
    "dfCkd5Diagnoses"
   ]
  },
  {
   "cell_type": "markdown",
   "metadata": {},
   "source": [
    "#### Exclude all admission with CKD 5 "
   ]
  },
  {
   "cell_type": "code",
   "execution_count": 12,
   "metadata": {
    "execution": {
     "iopub.execute_input": "2024-04-11T14:20:48.769978Z",
     "iopub.status.busy": "2024-04-11T14:20:48.769813Z",
     "iopub.status.idle": "2024-04-11T14:20:48.776365Z",
     "shell.execute_reply": "2024-04-11T14:20:48.776019Z"
    }
   },
   "outputs": [],
   "source": [
    "dfDkaExcludeCkd5 = dfDkaDiagnoses[\n",
    "    ~dfDkaDiagnoses[\"hadm_id\"].isin(dfCkd5Diagnoses[\"hadm_id\"])\n",
    "]\n",
    "dfDkaExcludeCkd5"
   ]
  },
  {
   "cell_type": "markdown",
   "metadata": {},
   "source": [
    "#### Exclude multiple admission\n",
    "TODO: check legitimate of this action \n",
    "\n",
    "1. read icu stay\n",
    "1. group by admission id (hadm_id), get first \"intime\"\n",
    "1. join with data above by hadm\n"
   ]
  },
  {
   "cell_type": "markdown",
   "metadata": {},
   "source": [
    "##### read data and remove duplicate"
   ]
  },
  {
   "cell_type": "code",
   "execution_count": 13,
   "metadata": {
    "execution": {
     "iopub.execute_input": "2024-04-11T14:20:48.778295Z",
     "iopub.status.busy": "2024-04-11T14:20:48.778121Z",
     "iopub.status.idle": "2024-04-11T14:20:48.918114Z",
     "shell.execute_reply": "2024-04-11T14:20:48.917637Z"
    }
   },
   "outputs": [],
   "source": [
    "dfIcu = pd.read_csv(MIMIC_PATH / \"icu\" / \"icustays.csv\")\n",
    "dfIcu[\"intime\"] = pd.to_datetime(dfIcu[\"intime\"])\n",
    "dfIcuNoDup = dfIcu.drop_duplicates(\n",
    "    subset=\"hadm_id\", keep=\"first\"\n",
    ")\n",
    "dfIcuNoDup"
   ]
  },
  {
   "cell_type": "markdown",
   "metadata": {},
   "source": [
    "##### join admission\n",
    "\n",
    "We will get patients who got dka but no ckd5, and went to ICD "
   ]
  },
  {
   "cell_type": "code",
   "execution_count": 14,
   "metadata": {
    "execution": {
     "iopub.execute_input": "2024-04-11T14:20:48.920120Z",
     "iopub.status.busy": "2024-04-11T14:20:48.919943Z",
     "iopub.status.idle": "2024-04-11T14:20:48.923177Z",
     "shell.execute_reply": "2024-04-11T14:20:48.922831Z"
    }
   },
   "outputs": [],
   "source": [
    "# check columns duplicate before hand \n",
    "sharedColumns = set(dfDkaExcludeCkd5.columns) & set(dfIcuNoDup.columns)\n",
    "sharedColumns.remove(\"hadm_id\")\n",
    "\n",
    "sharedColumns"
   ]
  },
  {
   "cell_type": "code",
   "execution_count": 15,
   "metadata": {
    "execution": {
     "iopub.execute_input": "2024-04-11T14:20:48.924930Z",
     "iopub.status.busy": "2024-04-11T14:20:48.924796Z",
     "iopub.status.idle": "2024-04-11T14:20:48.954559Z",
     "shell.execute_reply": "2024-04-11T14:20:48.954085Z"
    }
   },
   "outputs": [],
   "source": [
    "dfTargetPatients = dfDkaExcludeCkd5.merge(\n",
    "    dfIcuNoDup, \n",
    "    on=\"hadm_id\", \n",
    "    how=\"inner\",\n",
    "    suffixes=(\"_icd\", \"_icu\")\n",
    ")\n",
    "\n",
    "# remove duplicated columns \n",
    "for col in sharedColumns:\n",
    "    dfTargetPatients[col] = dfTargetPatients.apply(lambda row: row[col + '_icd'] if row[col + '_icd'] == row[col + '_icu'] else None, axis=1) # type: ignore\n",
    "    \n",
    "    # if there is a none, the data is not match, abort merge duplicate columns  \n",
    "    if None in dfTargetPatients[col].values:\n",
    "        dfTargetPatients.drop(col, axis=1, inplace=True)\n",
    "        pass\n",
    "    else:\n",
    "        dfTargetPatients.drop([col + '_icd', col + '_icu'], axis=1, inplace=True)\n",
    "        pass\n",
    "    pass\n",
    "\n",
    "dfTargetPatients.sort_values([\"hadm_id\"], inplace=True)\n",
    "\n",
    "\n",
    "dfTargetPatients"
   ]
  },
  {
   "cell_type": "code",
   "execution_count": 16,
   "metadata": {
    "execution": {
     "iopub.execute_input": "2024-04-11T14:20:48.956549Z",
     "iopub.status.busy": "2024-04-11T14:20:48.956363Z",
     "iopub.status.idle": "2024-04-11T14:20:48.966430Z",
     "shell.execute_reply": "2024-04-11T14:20:48.965990Z"
    }
   },
   "outputs": [],
   "source": [
    "from constants import TARGET_PATIENT_FILE\n",
    "\n",
    "# save other data\n",
    "dfTargetPatients.to_csv(TEMP_PATH / TARGET_PATIENT_FILE)\n",
    "\n",
    "dfTargetPatients"
   ]
  }
 ],
 "metadata": {
  "kernelspec": {
   "display_name": ".venv",
   "language": "python",
   "name": "python3"
  },
  "language_info": {
   "codemirror_mode": {
    "name": "ipython",
    "version": 3
   },
   "file_extension": ".py",
   "mimetype": "text/x-python",
   "name": "python",
   "nbconvert_exporter": "python",
   "pygments_lexer": "ipython3",
   "version": "3.11.6"
  }
 },
 "nbformat": 4,
 "nbformat_minor": 2
}
