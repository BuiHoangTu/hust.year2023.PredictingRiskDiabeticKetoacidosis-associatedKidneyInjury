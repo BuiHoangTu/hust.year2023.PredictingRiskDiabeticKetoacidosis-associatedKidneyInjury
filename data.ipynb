{
 "cells": [
  {
   "cell_type": "markdown",
   "metadata": {},
   "source": [
    "# Merging data "
   ]
  },
  {
   "cell_type": "code",
   "execution_count": 1,
   "metadata": {},
   "outputs": [
    {
     "data": {
      "text/html": [
       "<div>\n",
       "<style scoped>\n",
       "    .dataframe tbody tr th:only-of-type {\n",
       "        vertical-align: middle;\n",
       "    }\n",
       "\n",
       "    .dataframe tbody tr th {\n",
       "        vertical-align: top;\n",
       "    }\n",
       "\n",
       "    .dataframe thead th {\n",
       "        text-align: right;\n",
       "    }\n",
       "</style>\n",
       "<table border=\"1\" class=\"dataframe\">\n",
       "  <thead>\n",
       "    <tr style=\"text-align: right;\">\n",
       "      <th></th>\n",
       "      <th>subject_id</th>\n",
       "      <th>hadm_id</th>\n",
       "      <th>stay_id</th>\n",
       "    </tr>\n",
       "  </thead>\n",
       "  <tbody>\n",
       "    <tr>\n",
       "      <th>0</th>\n",
       "      <td>19277038</td>\n",
       "      <td>20027438</td>\n",
       "      <td>30213832</td>\n",
       "    </tr>\n",
       "    <tr>\n",
       "      <th>1</th>\n",
       "      <td>17405009</td>\n",
       "      <td>20041225</td>\n",
       "      <td>32710335</td>\n",
       "    </tr>\n",
       "    <tr>\n",
       "      <th>2</th>\n",
       "      <td>19054290</td>\n",
       "      <td>20046699</td>\n",
       "      <td>30643955</td>\n",
       "    </tr>\n",
       "    <tr>\n",
       "      <th>3</th>\n",
       "      <td>19523386</td>\n",
       "      <td>20053996</td>\n",
       "      <td>32939862</td>\n",
       "    </tr>\n",
       "    <tr>\n",
       "      <th>4</th>\n",
       "      <td>10924444</td>\n",
       "      <td>20065893</td>\n",
       "      <td>31555593</td>\n",
       "    </tr>\n",
       "    <tr>\n",
       "      <th>...</th>\n",
       "      <td>...</td>\n",
       "      <td>...</td>\n",
       "      <td>...</td>\n",
       "    </tr>\n",
       "    <tr>\n",
       "      <th>1208</th>\n",
       "      <td>14320833</td>\n",
       "      <td>29970786</td>\n",
       "      <td>34923650</td>\n",
       "    </tr>\n",
       "    <tr>\n",
       "      <th>1209</th>\n",
       "      <td>13494531</td>\n",
       "      <td>29971659</td>\n",
       "      <td>35179120</td>\n",
       "    </tr>\n",
       "    <tr>\n",
       "      <th>1210</th>\n",
       "      <td>11389314</td>\n",
       "      <td>29991667</td>\n",
       "      <td>30620060</td>\n",
       "    </tr>\n",
       "    <tr>\n",
       "      <th>1211</th>\n",
       "      <td>12136570</td>\n",
       "      <td>29992577</td>\n",
       "      <td>31780258</td>\n",
       "    </tr>\n",
       "    <tr>\n",
       "      <th>1212</th>\n",
       "      <td>17657693</td>\n",
       "      <td>29997858</td>\n",
       "      <td>31578780</td>\n",
       "    </tr>\n",
       "  </tbody>\n",
       "</table>\n",
       "<p>1213 rows × 3 columns</p>\n",
       "</div>"
      ],
      "text/plain": [
       "      subject_id   hadm_id   stay_id\n",
       "0       19277038  20027438  30213832\n",
       "1       17405009  20041225  32710335\n",
       "2       19054290  20046699  30643955\n",
       "3       19523386  20053996  32939862\n",
       "4       10924444  20065893  31555593\n",
       "...          ...       ...       ...\n",
       "1208    14320833  29970786  34923650\n",
       "1209    13494531  29971659  35179120\n",
       "1210    11389314  29991667  30620060\n",
       "1211    12136570  29992577  31780258\n",
       "1212    17657693  29997858  31578780\n",
       "\n",
       "[1213 rows x 3 columns]"
      ]
     },
     "execution_count": 1,
     "metadata": {},
     "output_type": "execute_result"
    }
   ],
   "source": [
    "from patients import getTargetPatientIcu\n",
    "\n",
    "\n",
    "dfPatient = getTargetPatientIcu()\n",
    "dfPatient = dfPatient[[\"subject_id\", \"hadm_id\", \"stay_id\"]]\n",
    "dfPatient"
   ]
  },
  {
   "cell_type": "markdown",
   "metadata": {},
   "source": [
    "Exclude all variables with missing values > 20%. Variables' length must be >= "
   ]
  },
  {
   "cell_type": "code",
   "execution_count": 2,
   "metadata": {},
   "outputs": [
    {
     "data": {
      "text/plain": [
       "970.4"
      ]
     },
     "execution_count": 2,
     "metadata": {},
     "output_type": "execute_result"
    }
   ],
   "source": [
    "len(dfPatient) * 80 / 100"
   ]
  },
  {
   "cell_type": "markdown",
   "metadata": {},
   "source": [
    "## AKD Positive"
   ]
  },
  {
   "cell_type": "code",
   "execution_count": 3,
   "metadata": {},
   "outputs": [
    {
     "data": {
      "text/plain": [
       "akd\n",
       "False    737\n",
       "True     476\n",
       "Name: count, dtype: int64"
      ]
     },
     "execution_count": 3,
     "metadata": {},
     "output_type": "execute_result"
    }
   ],
   "source": [
    "import akd_positive\n",
    "\n",
    "\n",
    "dfAkd = akd_positive.extractKdigoStages7day()\n",
    "dfAkd[\"akd\"] = dfAkd[\"aki_7day\"]\n",
    "dfAkd = dfAkd[[\"stay_id\", \"akd\"]]\n",
    "\n",
    "dfData1 = dfPatient.merge(dfAkd, \"left\", \"stay_id\")\n",
    "dfData1[\"akd\"] = dfData1[\"akd\"].astype(bool)\n",
    "\n",
    "dfData1[\"akd\"].value_counts()"
   ]
  },
  {
   "cell_type": "markdown",
   "metadata": {},
   "source": [
    "## Diabetes' characteristics \n",
    "\n",
    "Missing value here is associated with False/NotHappened"
   ]
  },
  {
   "cell_type": "markdown",
   "metadata": {},
   "source": [
    "### Diabete Type"
   ]
  },
  {
   "cell_type": "code",
   "execution_count": 4,
   "metadata": {},
   "outputs": [
    {
     "data": {
      "text/plain": [
       "dka_type\n",
       "1    741\n",
       "2    357\n",
       "0    115\n",
       "Name: count, dtype: int64"
      ]
     },
     "execution_count": 4,
     "metadata": {},
     "output_type": "execute_result"
    }
   ],
   "source": [
    "from variables_charateristics_diabetes import getDiabeteType\n",
    "\n",
    "\n",
    "df = getDiabeteType()\n",
    "df[\"dka_type\"] = df[\"dka_type\"].astype(int)\n",
    "dfData1_b = dfData1.merge(df, \"left\", \"stay_id\")\n",
    "dfData1_b[\"dka_type\"].value_counts()"
   ]
  },
  {
   "cell_type": "markdown",
   "metadata": {},
   "source": [
    "### Macroangiopathy"
   ]
  },
  {
   "cell_type": "code",
   "execution_count": 5,
   "metadata": {},
   "outputs": [
    {
     "data": {
      "text/plain": [
       "macroangiopathy\n",
       "False    930\n",
       "True     469\n",
       "Name: count, dtype: int64"
      ]
     },
     "execution_count": 5,
     "metadata": {},
     "output_type": "execute_result"
    }
   ],
   "source": [
    "import variables_charateristics_diabetes\n",
    "\n",
    "\n",
    "df = variables_charateristics_diabetes.getMacroangiopathy()\n",
    "dfData2 = dfData1_b.merge(df, \"left\", \"hadm_id\")\n",
    "dfData2[\"macroangiopathy\"].fillna(False, inplace=True)\n",
    "dfData2[\"macroangiopathy\"].value_counts()"
   ]
  },
  {
   "cell_type": "markdown",
   "metadata": {},
   "source": [
    "### Microangiopathy"
   ]
  },
  {
   "cell_type": "code",
   "execution_count": 6,
   "metadata": {},
   "outputs": [
    {
     "data": {
      "text/plain": [
       "microangiopathy\n",
       "False    1028\n",
       "True      372\n",
       "Name: count, dtype: int64"
      ]
     },
     "execution_count": 6,
     "metadata": {},
     "output_type": "execute_result"
    }
   ],
   "source": [
    "import variables_charateristics_diabetes\n",
    "\n",
    "\n",
    "df = variables_charateristics_diabetes.getMicroangiopathy()\n",
    "dfData3 = dfData2.merge(df, \"left\", \"hadm_id\")\n",
    "dfData3[\"microangiopathy\"].fillna(False, inplace=True)\n",
    "dfData3[\"microangiopathy\"].value_counts()"
   ]
  },
  {
   "cell_type": "markdown",
   "metadata": {},
   "source": [
    "## Demographics"
   ]
  },
  {
   "cell_type": "markdown",
   "metadata": {},
   "source": [
    "### Age"
   ]
  },
  {
   "cell_type": "code",
   "execution_count": 7,
   "metadata": {},
   "outputs": [
    {
     "data": {
      "text/plain": [
       "1213"
      ]
     },
     "execution_count": 7,
     "metadata": {},
     "output_type": "execute_result"
    }
   ],
   "source": [
    "import variables_demographics\n",
    "\n",
    "\n",
    "df = variables_demographics.getAge()\n",
    "df.__len__()"
   ]
  },
  {
   "cell_type": "code",
   "execution_count": 8,
   "metadata": {},
   "outputs": [
    {
     "data": {
      "image/png": "[encoded data removed]",
      "text/plain": [
       "<Figure size 640x480 with 1 Axes>"
      ]
     },
     "metadata": {},
     "output_type": "display_data"
    }
   ],
   "source": [
    "from matplotlib import pyplot as plt\n",
    "\n",
    "\n",
    "dfData4 = dfData3.merge(df, \"outer\", \"stay_id\")\n",
    "plt.hist(dfData4[\"age\"], bins=30, edgecolor=\"black\")\n",
    "plt.show()"
   ]
  },
  {
   "cell_type": "markdown",
   "metadata": {},
   "source": [
    "### Gender"
   ]
  },
  {
   "cell_type": "code",
   "execution_count": 9,
   "metadata": {},
   "outputs": [
    {
     "data": {
      "text/plain": [
       "1213"
      ]
     },
     "execution_count": 9,
     "metadata": {},
     "output_type": "execute_result"
    }
   ],
   "source": [
    "df = variables_demographics.getGender()\n",
    "df.__len__()"
   ]
  },
  {
   "cell_type": "code",
   "execution_count": 10,
   "metadata": {},
   "outputs": [
    {
     "data": {
      "text/plain": [
       "gender\n",
       "F    738\n",
       "M    662\n",
       "Name: count, dtype: int64"
      ]
     },
     "execution_count": 10,
     "metadata": {},
     "output_type": "execute_result"
    }
   ],
   "source": [
    "dfData5 = dfData4.merge(df, \"outer\", \"stay_id\")\n",
    "dfData5[\"gender\"].value_counts()"
   ]
  },
  {
   "cell_type": "markdown",
   "metadata": {},
   "source": [
    "### Ethnicity"
   ]
  },
  {
   "cell_type": "code",
   "execution_count": 11,
   "metadata": {},
   "outputs": [
    {
     "data": {
      "text/plain": [
       "1213"
      ]
     },
     "execution_count": 11,
     "metadata": {},
     "output_type": "execute_result"
    }
   ],
   "source": [
    "df = variables_demographics.getEthnicity()\n",
    "df.__len__()"
   ]
  },
  {
   "cell_type": "code",
   "execution_count": 12,
   "metadata": {},
   "outputs": [
    {
     "data": {
      "text/plain": [
       "race\n",
       "WHITE                                        775\n",
       "BLACK/AFRICAN AMERICAN                       345\n",
       "UNKNOWN                                       67\n",
       "OTHER                                         41\n",
       "HISPANIC OR LATINO                            25\n",
       "HISPANIC/LATINO - PUERTO RICAN                23\n",
       "WHITE - OTHER EUROPEAN                        21\n",
       "HISPANIC/LATINO - DOMINICAN                   17\n",
       "BLACK/CARIBBEAN ISLAND                        14\n",
       "ASIAN - CHINESE                               12\n",
       "ASIAN                                         10\n",
       "WHITE - RUSSIAN                                9\n",
       "UNABLE TO OBTAIN                               7\n",
       "BLACK/CAPE VERDEAN                             7\n",
       "BLACK/AFRICAN                                  7\n",
       "ASIAN - SOUTH EAST ASIAN                       6\n",
       "HISPANIC/LATINO - GUATEMALAN                   3\n",
       "HISPANIC/LATINO - SALVADORAN                   2\n",
       "HISPANIC/LATINO - MEXICAN                      2\n",
       "MULTIPLE RACE/ETHNICITY                        1\n",
       "WHITE - BRAZILIAN                              1\n",
       "PORTUGUESE                                     1\n",
       "AMERICAN INDIAN/ALASKA NATIVE                  1\n",
       "NATIVE HAWAIIAN OR OTHER PACIFIC ISLANDER      1\n",
       "WHITE - EASTERN EUROPEAN                       1\n",
       "HISPANIC/LATINO - CUBAN                        1\n",
       "Name: count, dtype: int64"
      ]
     },
     "execution_count": 12,
     "metadata": {},
     "output_type": "execute_result"
    }
   ],
   "source": [
    "dfData6 = dfData5.merge(df, \"outer\", \"stay_id\")\n",
    "dfData6[\"race\"].value_counts()"
   ]
  },
  {
   "cell_type": "markdown",
   "metadata": {},
   "source": [
    "### Height\n",
    "\n",
    "missing to many values"
   ]
  },
  {
   "cell_type": "code",
   "execution_count": 13,
   "metadata": {},
   "outputs": [
    {
     "data": {
      "text/plain": [
       "830"
      ]
     },
     "execution_count": 13,
     "metadata": {},
     "output_type": "execute_result"
    }
   ],
   "source": [
    "df = variables_demographics.getHeight()\n",
    "df.__len__()"
   ]
  },
  {
   "cell_type": "markdown",
   "metadata": {},
   "source": [
    "### Weight"
   ]
  },
  {
   "cell_type": "code",
   "execution_count": 14,
   "metadata": {},
   "outputs": [
    {
     "data": {
      "text/plain": [
       "1195"
      ]
     },
     "execution_count": 14,
     "metadata": {},
     "output_type": "execute_result"
    }
   ],
   "source": [
    "df = variables_demographics.getWeight()\n",
    "df.__len__()"
   ]
  },
  {
   "cell_type": "code",
   "execution_count": 15,
   "metadata": {},
   "outputs": [
    {
     "data": {
      "image/png": "[encoded data removed]",
      "text/plain": [
       "<Figure size 640x480 with 1 Axes>"
      ]
     },
     "metadata": {},
     "output_type": "display_data"
    }
   ],
   "source": [
    "from matplotlib import pyplot as plt\n",
    "\n",
    "dfData7 = dfData6.merge(df, \"outer\", \"stay_id\")\n",
    "dfData7[\"weight\"].value_counts()\n",
    "\n",
    "plt.hist(dfData7[\"weight\"], bins=30, edgecolor=\"black\")\n",
    "plt.show()"
   ]
  },
  {
   "cell_type": "markdown",
   "metadata": {},
   "source": [
    "## Interventions\n",
    "\n",
    "Missing value here is associated with patient didn't received the intervention"
   ]
  },
  {
   "cell_type": "markdown",
   "metadata": {},
   "source": [
    "### Mechanical ventilation"
   ]
  },
  {
   "cell_type": "code",
   "execution_count": 16,
   "metadata": {},
   "outputs": [
    {
     "data": {
      "text/plain": [
       "mechanical_ventilation\n",
       "False    1305\n",
       "True       95\n",
       "Name: count, dtype: int64"
      ]
     },
     "execution_count": 16,
     "metadata": {},
     "output_type": "execute_result"
    }
   ],
   "source": [
    "import variables_interventions\n",
    "\n",
    "\n",
    "df = variables_interventions.getMV()\n",
    "dfData8 = dfData7.merge(df, \"left\", \"stay_id\")\n",
    "dfData8[\"mechanical_ventilation\"].fillna(False, inplace=True)\n",
    "dfData8[\"mechanical_ventilation\"].value_counts()"
   ]
  },
  {
   "cell_type": "markdown",
   "metadata": {},
   "source": [
    "### Continuous renal replacement therapy"
   ]
  },
  {
   "cell_type": "code",
   "execution_count": 17,
   "metadata": {},
   "outputs": [
    {
     "data": {
      "text/plain": [
       "use_crrt\n",
       "False    1395\n",
       "True        5\n",
       "Name: count, dtype: int64"
      ]
     },
     "execution_count": 17,
     "metadata": {},
     "output_type": "execute_result"
    }
   ],
   "source": [
    "df = variables_interventions.getCrrt()\n",
    "dfData9 = dfData8.merge(df, \"left\", \"stay_id\")\n",
    "dfData9[\"use_crrt\"].fillna(False, inplace=True)\n",
    "dfData9[\"use_crrt\"].value_counts()"
   ]
  },
  {
   "cell_type": "markdown",
   "metadata": {},
   "source": [
    "### Use of NaHCO3"
   ]
  },
  {
   "cell_type": "code",
   "execution_count": 18,
   "metadata": {},
   "outputs": [
    {
     "data": {
      "text/plain": [
       "use_NaHCO3\n",
       "False    1285\n",
       "True      115\n",
       "Name: count, dtype: int64"
      ]
     },
     "execution_count": 18,
     "metadata": {},
     "output_type": "execute_result"
    }
   ],
   "source": [
    "df = variables_interventions.getNaHCO3()\n",
    "dfData10 = dfData9.merge(df, \"left\", \"stay_id\")\n",
    "dfData10[\"use_NaHCO3\"].fillna(False, inplace=True)\n",
    "dfData10[\"use_NaHCO3\"].value_counts()"
   ]
  },
  {
   "cell_type": "markdown",
   "metadata": {},
   "source": [
    "## Laboratory tests"
   ]
  },
  {
   "cell_type": "markdown",
   "metadata": {},
   "source": [
    "#### White blood cell"
   ]
  },
  {
   "cell_type": "code",
   "execution_count": 19,
   "metadata": {},
   "outputs": [
    {
     "data": {
      "text/html": [
       "<div>\n",
       "<style scoped>\n",
       "    .dataframe tbody tr th:only-of-type {\n",
       "        vertical-align: middle;\n",
       "    }\n",
       "\n",
       "    .dataframe tbody tr th {\n",
       "        vertical-align: top;\n",
       "    }\n",
       "\n",
       "    .dataframe thead th {\n",
       "        text-align: right;\n",
       "    }\n",
       "</style>\n",
       "<table border=\"1\" class=\"dataframe\">\n",
       "  <thead>\n",
       "    <tr style=\"text-align: right;\">\n",
       "      <th></th>\n",
       "      <th>stay_id</th>\n",
       "      <th>wbc</th>\n",
       "    </tr>\n",
       "  </thead>\n",
       "  <tbody>\n",
       "    <tr>\n",
       "      <th>0</th>\n",
       "      <td>30002521</td>\n",
       "      <td>2.8</td>\n",
       "    </tr>\n",
       "    <tr>\n",
       "      <th>1</th>\n",
       "      <td>30006067</td>\n",
       "      <td>7.3</td>\n",
       "    </tr>\n",
       "    <tr>\n",
       "      <th>2</th>\n",
       "      <td>30007216</td>\n",
       "      <td>3.1</td>\n",
       "    </tr>\n",
       "    <tr>\n",
       "      <th>3</th>\n",
       "      <td>30012944</td>\n",
       "      <td>11.7</td>\n",
       "    </tr>\n",
       "    <tr>\n",
       "      <th>4</th>\n",
       "      <td>30033055</td>\n",
       "      <td>18.5</td>\n",
       "    </tr>\n",
       "    <tr>\n",
       "      <th>...</th>\n",
       "      <td>...</td>\n",
       "      <td>...</td>\n",
       "    </tr>\n",
       "    <tr>\n",
       "      <th>1207</th>\n",
       "      <td>39939904</td>\n",
       "      <td>8.0</td>\n",
       "    </tr>\n",
       "    <tr>\n",
       "      <th>1208</th>\n",
       "      <td>39947352</td>\n",
       "      <td>20.8</td>\n",
       "    </tr>\n",
       "    <tr>\n",
       "      <th>1210</th>\n",
       "      <td>39961214</td>\n",
       "      <td>11.8</td>\n",
       "    </tr>\n",
       "    <tr>\n",
       "      <th>1211</th>\n",
       "      <td>39968693</td>\n",
       "      <td>18.9</td>\n",
       "    </tr>\n",
       "    <tr>\n",
       "      <th>1212</th>\n",
       "      <td>39981751</td>\n",
       "      <td>24.5</td>\n",
       "    </tr>\n",
       "  </tbody>\n",
       "</table>\n",
       "<p>1145 rows × 2 columns</p>\n",
       "</div>"
      ],
      "text/plain": [
       "       stay_id   wbc\n",
       "0     30002521   2.8\n",
       "1     30006067   7.3\n",
       "2     30007216   3.1\n",
       "3     30012944  11.7\n",
       "4     30033055  18.5\n",
       "...        ...   ...\n",
       "1207  39939904   8.0\n",
       "1208  39947352  20.8\n",
       "1210  39961214  11.8\n",
       "1211  39968693  18.9\n",
       "1212  39981751  24.5\n",
       "\n",
       "[1145 rows x 2 columns]"
      ]
     },
     "execution_count": 19,
     "metadata": {},
     "output_type": "execute_result"
    }
   ],
   "source": [
    "import variables_lab_test\n",
    "\n",
    "df = variables_lab_test.getWbc().dropna()\n",
    "df"
   ]
  },
  {
   "cell_type": "code",
   "execution_count": 20,
   "metadata": {},
   "outputs": [
    {
     "data": {
      "image/png": "[encoded data removed]",
      "text/plain": [
       "<Figure size 640x480 with 1 Axes>"
      ]
     },
     "metadata": {},
     "output_type": "display_data"
    }
   ],
   "source": [
    "from matplotlib import pyplot as plt\n",
    "\n",
    "dfData11 = dfData10.merge(df, \"left\", \"stay_id\")\n",
    "\n",
    "plt.hist(df[\"wbc\"], bins=30, edgecolor=\"black\")\n",
    "plt.show()"
   ]
  },
  {
   "cell_type": "markdown",
   "metadata": {},
   "source": [
    "### Lymphocyte"
   ]
  },
  {
   "cell_type": "code",
   "execution_count": 21,
   "metadata": {},
   "outputs": [
    {
     "data": {
      "text/plain": [
       "446"
      ]
     },
     "execution_count": 21,
     "metadata": {},
     "output_type": "execute_result"
    }
   ],
   "source": [
    "df = variables_lab_test.getLymphocyte().dropna()\n",
    "df.__len__()"
   ]
  },
  {
   "cell_type": "markdown",
   "metadata": {},
   "source": [
    "Missing too many values"
   ]
  },
  {
   "cell_type": "markdown",
   "metadata": {},
   "source": [
    "### Hemoglobin"
   ]
  },
  {
   "cell_type": "code",
   "execution_count": 22,
   "metadata": {},
   "outputs": [
    {
     "data": {
      "text/plain": [
       "1145"
      ]
     },
     "execution_count": 22,
     "metadata": {},
     "output_type": "execute_result"
    }
   ],
   "source": [
    "df = variables_lab_test.getHb().dropna()\n",
    "df.__len__()"
   ]
  },
  {
   "cell_type": "code",
   "execution_count": 23,
   "metadata": {},
   "outputs": [
    {
     "data": {
      "image/png": "[encoded data removed]",
      "text/plain": [
       "<Figure size 640x480 with 1 Axes>"
      ]
     },
     "metadata": {},
     "output_type": "display_data"
    }
   ],
   "source": [
    "from matplotlib import pyplot as plt\n",
    "\n",
    "plt.hist(df[\"hb\"], bins=30, edgecolor=\"black\")\n",
    "plt.show()\n",
    "\n",
    "dfData12 = dfData11.merge(df, \"left\", \"stay_id\")"
   ]
  },
  {
   "cell_type": "markdown",
   "metadata": {},
   "source": [
    "### Plateles"
   ]
  },
  {
   "cell_type": "code",
   "execution_count": 24,
   "metadata": {},
   "outputs": [
    {
     "data": {
      "text/plain": [
       "1147"
      ]
     },
     "execution_count": 24,
     "metadata": {},
     "output_type": "execute_result"
    }
   ],
   "source": [
    "df = variables_lab_test.getPlt().dropna()\n",
    "df.__len__()"
   ]
  },
  {
   "cell_type": "code",
   "execution_count": 25,
   "metadata": {},
   "outputs": [
    {
     "data": {
      "image/png": "[encoded data removed]",
      "text/plain": [
       "<Figure size 640x480 with 1 Axes>"
      ]
     },
     "metadata": {},
     "output_type": "display_data"
    }
   ],
   "source": [
    "from matplotlib import pyplot as plt\n",
    "\n",
    "plt.hist(df[\"plt\"], bins=30, edgecolor=\"black\")\n",
    "plt.show()\n",
    "dfData13 = dfData12.merge(df, \"left\", \"stay_id\")"
   ]
  },
  {
   "cell_type": "markdown",
   "metadata": {},
   "source": [
    "### Partial pressure of O2\n",
    "Missing too many values"
   ]
  },
  {
   "cell_type": "code",
   "execution_count": 26,
   "metadata": {},
   "outputs": [
    {
     "data": {
      "text/plain": [
       "917"
      ]
     },
     "execution_count": 26,
     "metadata": {},
     "output_type": "execute_result"
    }
   ],
   "source": [
    "df = variables_lab_test.getPO2().dropna()\n",
    "df.__len__()"
   ]
  },
  {
   "cell_type": "markdown",
   "metadata": {},
   "source": [
    "### Partial pressure of CO2\n",
    "Missing too many values"
   ]
  },
  {
   "cell_type": "code",
   "execution_count": 27,
   "metadata": {},
   "outputs": [
    {
     "data": {
      "text/plain": [
       "917"
      ]
     },
     "execution_count": 27,
     "metadata": {},
     "output_type": "execute_result"
    }
   ],
   "source": [
    "df = variables_lab_test.getPCO2().dropna()\n",
    "df.__len__()"
   ]
  },
  {
   "cell_type": "markdown",
   "metadata": {},
   "source": [
    "### pH\n",
    "Missing too many values"
   ]
  },
  {
   "cell_type": "code",
   "execution_count": 28,
   "metadata": {},
   "outputs": [
    {
     "data": {
      "text/plain": [
       "954"
      ]
     },
     "execution_count": 28,
     "metadata": {},
     "output_type": "execute_result"
    }
   ],
   "source": [
    "df = variables_lab_test.get_pH().dropna()\n",
    "df.__len__()"
   ]
  },
  {
   "cell_type": "markdown",
   "metadata": {},
   "source": [
    "### Anion gap"
   ]
  },
  {
   "cell_type": "code",
   "execution_count": 29,
   "metadata": {},
   "outputs": [
    {
     "data": {
      "text/plain": [
       "1208"
      ]
     },
     "execution_count": 29,
     "metadata": {},
     "output_type": "execute_result"
    }
   ],
   "source": [
    "df = variables_lab_test.getAG().dropna()\n",
    "df.__len__()"
   ]
  },
  {
   "cell_type": "code",
   "execution_count": 30,
   "metadata": {},
   "outputs": [
    {
     "data": {
      "image/png": "[encoded data removed]",
      "text/plain": [
       "<Figure size 640x480 with 1 Axes>"
      ]
     },
     "metadata": {},
     "output_type": "display_data"
    }
   ],
   "source": [
    "from matplotlib import pyplot as plt\n",
    "\n",
    "plt.hist(df[\"ag\"], bins=30, edgecolor=\"black\")\n",
    "plt.show()\n",
    "dfData14 = dfData13.merge(df, \"left\", \"stay_id\")"
   ]
  },
  {
   "cell_type": "markdown",
   "metadata": {},
   "source": [
    "### Bicarbonate"
   ]
  },
  {
   "cell_type": "code",
   "execution_count": 31,
   "metadata": {},
   "outputs": [
    {
     "data": {
      "text/plain": [
       "1208"
      ]
     },
     "execution_count": 31,
     "metadata": {},
     "output_type": "execute_result"
    }
   ],
   "source": [
    "df = variables_lab_test.getBicarbonate().dropna()\n",
    "df.__len__()"
   ]
  },
  {
   "cell_type": "code",
   "execution_count": 32,
   "metadata": {},
   "outputs": [
    {
     "data": {
      "image/png": "[encoded data removed]",
      "text/plain": [
       "<Figure size 640x480 with 1 Axes>"
      ]
     },
     "metadata": {},
     "output_type": "display_data"
    }
   ],
   "source": [
    "from matplotlib import pyplot as plt\n",
    "\n",
    "plt.hist(df[\"bicarbonate\"], bins=30, edgecolor=\"black\")\n",
    "plt.show()\n",
    "dfData15 = dfData14.merge(df, \"left\", \"stay_id\")"
   ]
  },
  {
   "cell_type": "markdown",
   "metadata": {},
   "source": [
    "### Blood urea nitrogen"
   ]
  },
  {
   "cell_type": "code",
   "execution_count": 33,
   "metadata": {},
   "outputs": [
    {
     "data": {
      "text/plain": [
       "1208"
      ]
     },
     "execution_count": 33,
     "metadata": {},
     "output_type": "execute_result"
    }
   ],
   "source": [
    "df = variables_lab_test.getBun().dropna()\n",
    "df.__len__()"
   ]
  },
  {
   "cell_type": "code",
   "execution_count": 34,
   "metadata": {},
   "outputs": [
    {
     "data": {
      "image/png": "[encoded data removed]",
      "text/plain": [
       "<Figure size 640x480 with 1 Axes>"
      ]
     },
     "metadata": {},
     "output_type": "display_data"
    }
   ],
   "source": [
    "from matplotlib import pyplot as plt\n",
    "\n",
    "plt.hist(df[\"bun\"], bins=30, edgecolor=\"black\")\n",
    "plt.show()\n",
    "dfData16 = dfData15.merge(df, \"left\", \"stay_id\")"
   ]
  },
  {
   "cell_type": "markdown",
   "metadata": {},
   "source": [
    "### Calcium"
   ]
  },
  {
   "cell_type": "code",
   "execution_count": 35,
   "metadata": {},
   "outputs": [
    {
     "data": {
      "text/plain": [
       "1203"
      ]
     },
     "execution_count": 35,
     "metadata": {},
     "output_type": "execute_result"
    }
   ],
   "source": [
    "df = variables_lab_test.getCalcium().dropna()\n",
    "df.__len__()"
   ]
  },
  {
   "cell_type": "code",
   "execution_count": 36,
   "metadata": {},
   "outputs": [
    {
     "data": {
      "image/png": "[encoded data removed]",
      "text/plain": [
       "<Figure size 640x480 with 1 Axes>"
      ]
     },
     "metadata": {},
     "output_type": "display_data"
    }
   ],
   "source": [
    "from matplotlib import pyplot as plt\n",
    "plt.hist(df[\"calcium\"], bins=30, edgecolor=\"black\")\n",
    "plt.show()\n",
    "dfData17 = dfData16.merge(df, \"left\", \"stay_id\")"
   ]
  },
  {
   "cell_type": "markdown",
   "metadata": {},
   "source": [
    "### Serum creatinine"
   ]
  },
  {
   "cell_type": "code",
   "execution_count": 37,
   "metadata": {},
   "outputs": [
    {
     "data": {
      "text/plain": [
       "1208"
      ]
     },
     "execution_count": 37,
     "metadata": {},
     "output_type": "execute_result"
    }
   ],
   "source": [
    "df = variables_lab_test.getScr().dropna()\n",
    "df.__len__()"
   ]
  },
  {
   "cell_type": "code",
   "execution_count": 38,
   "metadata": {},
   "outputs": [
    {
     "data": {
      "image/png": "[encoded data removed]",
      "text/plain": [
       "<Figure size 640x480 with 1 Axes>"
      ]
     },
     "metadata": {},
     "output_type": "display_data"
    }
   ],
   "source": [
    "from matplotlib import pyplot as plt\n",
    "plt.hist(df[\"scr\"], bins=30, edgecolor=\"black\")\n",
    "plt.show()\n",
    "dfData18 = dfData17.merge(df, \"left\", \"stay_id\")"
   ]
  },
  {
   "cell_type": "markdown",
   "metadata": {},
   "source": [
    "### Blood glucose"
   ]
  },
  {
   "cell_type": "code",
   "execution_count": 39,
   "metadata": {},
   "outputs": [
    {
     "data": {
      "text/plain": [
       "1208"
      ]
     },
     "execution_count": 39,
     "metadata": {},
     "output_type": "execute_result"
    }
   ],
   "source": [
    "df = variables_lab_test.getBg().dropna()\n",
    "df.__len__()"
   ]
  },
  {
   "cell_type": "code",
   "execution_count": 40,
   "metadata": {},
   "outputs": [
    {
     "data": {
      "image/png": "[encoded data removed]",
      "text/plain": [
       "<Figure size 640x480 with 1 Axes>"
      ]
     },
     "metadata": {},
     "output_type": "display_data"
    }
   ],
   "source": [
    "from matplotlib import pyplot as plt\n",
    "plt.hist(df[\"bg\"], bins=30, edgecolor=\"black\")\n",
    "plt.show()\n",
    "dfData19 = dfData18.merge(df, \"left\", \"stay_id\")"
   ]
  },
  {
   "cell_type": "markdown",
   "metadata": {},
   "source": [
    "### Phosphate"
   ]
  },
  {
   "cell_type": "code",
   "execution_count": 41,
   "metadata": {},
   "outputs": [
    {
     "data": {
      "text/plain": [
       "1204"
      ]
     },
     "execution_count": 41,
     "metadata": {},
     "output_type": "execute_result"
    }
   ],
   "source": [
    "df = variables_lab_test.getPhosphate().dropna()\n",
    "df.__len__()"
   ]
  },
  {
   "cell_type": "code",
   "execution_count": 42,
   "metadata": {},
   "outputs": [
    {
     "data": {
      "image/png": "[encoded data removed]",
      "text/plain": [
       "<Figure size 640x480 with 1 Axes>"
      ]
     },
     "metadata": {},
     "output_type": "display_data"
    }
   ],
   "source": [
    "from matplotlib import pyplot as plt\n",
    "plt.hist(df[\"phosphate\"], bins=30, edgecolor=\"black\")\n",
    "plt.show()\n",
    "dfData20 = dfData19.merge(df, \"left\", \"stay_id\")"
   ]
  },
  {
   "cell_type": "markdown",
   "metadata": {},
   "source": [
    "### Albumin\n",
    "Too many missing values"
   ]
  },
  {
   "cell_type": "code",
   "execution_count": 43,
   "metadata": {},
   "outputs": [
    {
     "data": {
      "text/plain": [
       "406"
      ]
     },
     "execution_count": 43,
     "metadata": {},
     "output_type": "execute_result"
    }
   ],
   "source": [
    "df = variables_lab_test.getAlbumin().dropna()\n",
    "df.__len__()"
   ]
  },
  {
   "cell_type": "markdown",
   "metadata": {},
   "source": [
    "### Estimated glomerular filtration rate"
   ]
  },
  {
   "cell_type": "code",
   "execution_count": 44,
   "metadata": {},
   "outputs": [
    {
     "data": {
      "text/plain": [
       "1208"
      ]
     },
     "execution_count": 44,
     "metadata": {},
     "output_type": "execute_result"
    }
   ],
   "source": [
    "df = variables_lab_test.get_eGFR().dropna()\n",
    "df.__len__()"
   ]
  },
  {
   "cell_type": "code",
   "execution_count": 45,
   "metadata": {},
   "outputs": [
    {
     "data": {
      "image/png": "[encoded data removed]",
      "text/plain": [
       "<Figure size 640x480 with 1 Axes>"
      ]
     },
     "metadata": {},
     "output_type": "display_data"
    }
   ],
   "source": [
    "from matplotlib import pyplot as plt\n",
    "plt.hist(df[\"egfr\"], bins=30, edgecolor=\"black\")\n",
    "plt.show()\n",
    "dfData22 = dfData20.merge(df, \"left\", \"stay_id\")"
   ]
  },
  {
   "cell_type": "markdown",
   "metadata": {},
   "source": [
    "### HemoglobinA1c\n",
    "Too many missing values"
   ]
  },
  {
   "cell_type": "code",
   "execution_count": 46,
   "metadata": {},
   "outputs": [
    {
     "data": {
      "text/plain": [
       "326"
      ]
     },
     "execution_count": 46,
     "metadata": {},
     "output_type": "execute_result"
    }
   ],
   "source": [
    "df = variables_lab_test.getHbA1C().dropna()\n",
    "df.__len__()"
   ]
  },
  {
   "cell_type": "markdown",
   "metadata": {},
   "source": [
    "### C-reactive protein\n",
    "Too many missing values"
   ]
  },
  {
   "cell_type": "code",
   "execution_count": 47,
   "metadata": {},
   "outputs": [
    {
     "data": {
      "text/plain": [
       "19"
      ]
     },
     "execution_count": 47,
     "metadata": {},
     "output_type": "execute_result"
    }
   ],
   "source": [
    "df = variables_lab_test.getCrp().dropna()\n",
    "df.__len__()"
   ]
  },
  {
   "cell_type": "markdown",
   "metadata": {},
   "source": [
    "### Urine Ketone\n",
    "Too many missing values"
   ]
  },
  {
   "cell_type": "code",
   "execution_count": 48,
   "metadata": {},
   "outputs": [
    {
     "data": {
      "text/plain": [
       "294"
      ]
     },
     "execution_count": 48,
     "metadata": {},
     "output_type": "execute_result"
    }
   ],
   "source": [
    "df = variables_lab_test.getUrineKetone().dropna()\n",
    "df.__len__()"
   ]
  },
  {
   "cell_type": "markdown",
   "metadata": {},
   "source": [
    "## Scoring systems"
   ]
  },
  {
   "cell_type": "markdown",
   "metadata": {},
   "source": [
    "### Glasgow coma scale"
   ]
  },
  {
   "cell_type": "code",
   "execution_count": 49,
   "metadata": {},
   "outputs": [
    {
     "data": {
      "text/plain": [
       "1211"
      ]
     },
     "execution_count": 49,
     "metadata": {},
     "output_type": "execute_result"
    }
   ],
   "source": [
    "import variables_scoring_systems\n",
    "\n",
    "\n",
    "df = variables_scoring_systems.getGcs().dropna()\n",
    "df.__len__()"
   ]
  },
  {
   "cell_type": "code",
   "execution_count": 50,
   "metadata": {},
   "outputs": [
    {
     "data": {
      "text/plain": [
       "gcs\n",
       "15.0    806\n",
       "14.0    241\n",
       "13.0     64\n",
       "8.0      16\n",
       "12.0     16\n",
       "3.0      14\n",
       "10.0     13\n",
       "11.0     12\n",
       "9.0      10\n",
       "7.0       8\n",
       "6.0       5\n",
       "5.0       4\n",
       "4.0       2\n",
       "Name: count, dtype: int64"
      ]
     },
     "execution_count": 50,
     "metadata": {},
     "output_type": "execute_result"
    }
   ],
   "source": [
    "dfData23 = dfData22.merge(df, \"left\", \"stay_id\")\n",
    "\n",
    "df[\"gcs\"].value_counts()"
   ]
  },
  {
   "cell_type": "markdown",
   "metadata": {},
   "source": [
    "### Oasis"
   ]
  },
  {
   "cell_type": "code",
   "execution_count": 51,
   "metadata": {},
   "outputs": [
    {
     "data": {
      "text/plain": [
       "1213"
      ]
     },
     "execution_count": 51,
     "metadata": {},
     "output_type": "execute_result"
    }
   ],
   "source": [
    "from variables_scoring_systems import getOasis\n",
    "\n",
    "\n",
    "df = getOasis().dropna()\n",
    "df.__len__()"
   ]
  },
  {
   "cell_type": "code",
   "execution_count": 52,
   "metadata": {},
   "outputs": [
    {
     "data": {
      "image/png": "[encoded data removed]",
      "text/plain": [
       "<Figure size 640x480 with 1 Axes>"
      ]
     },
     "metadata": {},
     "output_type": "display_data"
    }
   ],
   "source": [
    "from matplotlib import pyplot as plt\n",
    "\n",
    "plt.hist(df[\"oasis\"], bins=30, edgecolor=\"black\")\n",
    "plt.show()\n",
    "dfData24 = dfData23.merge(df, \"left\", \"stay_id\")"
   ]
  },
  {
   "cell_type": "markdown",
   "metadata": {},
   "source": [
    "### Others\n",
    "TODO: add later"
   ]
  },
  {
   "cell_type": "markdown",
   "metadata": {},
   "source": [
    "## Vital signs"
   ]
  },
  {
   "cell_type": "markdown",
   "metadata": {},
   "source": [
    "### Heart Rate"
   ]
  },
  {
   "cell_type": "code",
   "execution_count": 53,
   "metadata": {},
   "outputs": [
    {
     "data": {
      "text/plain": [
       "1212"
      ]
     },
     "execution_count": 53,
     "metadata": {},
     "output_type": "execute_result"
    }
   ],
   "source": [
    "from variables_vital_signs import getHeartRate\n",
    "\n",
    "\n",
    "df = getHeartRate().dropna()\n",
    "df.__len__()"
   ]
  },
  {
   "cell_type": "code",
   "execution_count": 54,
   "metadata": {},
   "outputs": [
    {
     "data": {
      "image/png": "[encoded data removed]",
      "text/plain": [
       "<Figure size 640x480 with 1 Axes>"
      ]
     },
     "metadata": {},
     "output_type": "display_data"
    }
   ],
   "source": [
    "from matplotlib import pyplot as plt\n",
    "plt.hist(df[\"hr\"], bins=30, edgecolor=\"black\")\n",
    "plt.show()\n",
    "dfData25 = dfData24.merge(df, \"left\", \"stay_id\")"
   ]
  },
  {
   "cell_type": "markdown",
   "metadata": {},
   "source": [
    "### Respiratory Rate"
   ]
  },
  {
   "cell_type": "code",
   "execution_count": 55,
   "metadata": {},
   "outputs": [
    {
     "data": {
      "text/plain": [
       "1211"
      ]
     },
     "execution_count": 55,
     "metadata": {},
     "output_type": "execute_result"
    }
   ],
   "source": [
    "from variables_vital_signs import getRespiratoryRate\n",
    "\n",
    "\n",
    "df = getRespiratoryRate().dropna()\n",
    "df.__len__()"
   ]
  },
  {
   "cell_type": "code",
   "execution_count": 56,
   "metadata": {},
   "outputs": [
    {
     "data": {
      "image/png": "[encoded data removed]",
      "text/plain": [
       "<Figure size 640x480 with 1 Axes>"
      ]
     },
     "metadata": {},
     "output_type": "display_data"
    }
   ],
   "source": [
    "from matplotlib import pyplot as plt\n",
    "plt.hist(df[\"rr\"], bins=30, edgecolor=\"black\")\n",
    "plt.show()\n",
    "dfData26 = dfData25.merge(df, \"left\", \"stay_id\")"
   ]
  },
  {
   "cell_type": "markdown",
   "metadata": {},
   "source": [
    "### Systolic Blood Pressure"
   ]
  },
  {
   "cell_type": "code",
   "execution_count": 57,
   "metadata": {},
   "outputs": [
    {
     "data": {
      "text/plain": [
       "1210"
      ]
     },
     "execution_count": 57,
     "metadata": {},
     "output_type": "execute_result"
    }
   ],
   "source": [
    "from variables_vital_signs import getSystolicBloodPressure\n",
    "\n",
    "\n",
    "df = getSystolicBloodPressure().dropna()\n",
    "df.__len__()"
   ]
  },
  {
   "cell_type": "code",
   "execution_count": 58,
   "metadata": {},
   "outputs": [
    {
     "data": {
      "image/png": "[encoded data removed]",
      "text/plain": [
       "<Figure size 640x480 with 1 Axes>"
      ]
     },
     "metadata": {},
     "output_type": "display_data"
    }
   ],
   "source": [
    "from matplotlib import pyplot as plt\n",
    "plt.hist(df[\"sbp\"], bins=30, edgecolor=\"black\")\n",
    "plt.show()\n",
    "dfData27 = dfData26.merge(df, \"left\", \"stay_id\")"
   ]
  },
  {
   "cell_type": "markdown",
   "metadata": {},
   "source": [
    "### Diastolic Blood Pressure"
   ]
  },
  {
   "cell_type": "code",
   "execution_count": 59,
   "metadata": {},
   "outputs": [
    {
     "data": {
      "text/plain": [
       "1210"
      ]
     },
     "execution_count": 59,
     "metadata": {},
     "output_type": "execute_result"
    }
   ],
   "source": [
    "from variables_vital_signs import getDiastolicBloodPressure\n",
    "\n",
    "\n",
    "df = getDiastolicBloodPressure().dropna()\n",
    "df.__len__()"
   ]
  },
  {
   "cell_type": "code",
   "execution_count": 60,
   "metadata": {},
   "outputs": [
    {
     "data": {
      "image/png": "[encoded data removed]",
      "text/plain": [
       "<Figure size 640x480 with 1 Axes>"
      ]
     },
     "metadata": {},
     "output_type": "display_data"
    }
   ],
   "source": [
    "from matplotlib import pyplot as plt\n",
    "plt.hist(df[\"dbp\"], bins=30, edgecolor=\"black\")\n",
    "plt.show()\n",
    "dfData28 = dfData27.merge(df, \"left\", \"stay_id\")"
   ]
  },
  {
   "cell_type": "markdown",
   "metadata": {},
   "source": [
    "## Prognosis"
   ]
  },
  {
   "cell_type": "markdown",
   "metadata": {},
   "source": [
    "### How long patients stayed in hospital before Icu admission"
   ]
  },
  {
   "cell_type": "code",
   "execution_count": 61,
   "metadata": {},
   "outputs": [
    {
     "data": {
      "text/plain": [
       "1213"
      ]
     },
     "execution_count": 61,
     "metadata": {},
     "output_type": "execute_result"
    }
   ],
   "source": [
    "from variables_prognosis import getPreIcuLos\n",
    "\n",
    "\n",
    "df = getPreIcuLos().dropna()\n",
    "df.__len__()"
   ]
  },
  {
   "cell_type": "code",
   "execution_count": 62,
   "metadata": {},
   "outputs": [
    {
     "data": {
      "image/png": "[encoded data removed]",
      "text/plain": [
       "<Figure size 640x480 with 1 Axes>"
      ]
     },
     "metadata": {},
     "output_type": "display_data"
    }
   ],
   "source": [
    "from matplotlib import pyplot as plt\n",
    "\n",
    "plt.hist(df[\"preiculos\"], bins=30, edgecolor=\"black\")\n",
    "plt.show()"
   ]
  },
  {
   "cell_type": "code",
   "execution_count": 63,
   "metadata": {},
   "outputs": [
    {
     "data": {
      "image/png": "[encoded data removed]",
      "text/plain": [
       "<Figure size 640x480 with 1 Axes>"
      ]
     },
     "metadata": {},
     "output_type": "display_data"
    }
   ],
   "source": [
    "from matplotlib import pyplot as plt\n",
    "import numpy as np\n",
    "\n",
    "LOS_FLOOR = 365\n",
    "preiculos = np.where(df[\"preiculos\"] > LOS_FLOOR, LOS_FLOOR, df[\"preiculos\"])\n",
    "\n",
    "plt.hist(preiculos, bins=30, edgecolor=\"black\")\n",
    "plt.show()"
   ]
  },
  {
   "cell_type": "code",
   "execution_count": 64,
   "metadata": {},
   "outputs": [],
   "source": [
    "df[\"preiculos\"] = preiculos\n",
    "dfData29 = dfData28.merge(df, \"left\", \"stay_id\")"
   ]
  },
  {
   "cell_type": "markdown",
   "metadata": {},
   "source": [
    "## Comorbidities\n",
    "Missing value means no comorbidity"
   ]
  },
  {
   "cell_type": "markdown",
   "metadata": {},
   "source": [
    "### Acute cerebral infarction"
   ]
  },
  {
   "cell_type": "code",
   "execution_count": 65,
   "metadata": {},
   "outputs": [
    {
     "data": {
      "text/plain": [
       "history_aci\n",
       "False    1289\n",
       "True      111\n",
       "Name: count, dtype: int64"
      ]
     },
     "execution_count": 65,
     "metadata": {},
     "output_type": "execute_result"
    }
   ],
   "source": [
    "from variables_comorbidities import getHistoryACI\n",
    "\n",
    "\n",
    "df = getHistoryACI()\n",
    "dfData30 = dfData29.merge(df, \"left\", \"hadm_id\")\n",
    "dfData30[\"history_aci\"].fillna(False, inplace=True)\n",
    "dfData30[\"history_aci\"].value_counts()"
   ]
  },
  {
   "cell_type": "markdown",
   "metadata": {},
   "source": [
    "### Acute myocardial infarction"
   ]
  },
  {
   "cell_type": "code",
   "execution_count": 66,
   "metadata": {},
   "outputs": [
    {
     "data": {
      "text/plain": [
       "history_ami\n",
       "False    1083\n",
       "True      317\n",
       "Name: count, dtype: int64"
      ]
     },
     "execution_count": 66,
     "metadata": {},
     "output_type": "execute_result"
    }
   ],
   "source": [
    "from variables_comorbidities import getHistoryAMI\n",
    "\n",
    "\n",
    "df = getHistoryAMI()\n",
    "dfData31 = dfData30.merge(df, \"left\", \"hadm_id\")\n",
    "dfData31[\"history_ami\"].fillna(False, inplace=True)\n",
    "\n",
    "dfData31[\"history_ami\"].value_counts()"
   ]
  },
  {
   "cell_type": "markdown",
   "metadata": {},
   "source": [
    "### Congestive heart failure"
   ]
  },
  {
   "cell_type": "code",
   "execution_count": 67,
   "metadata": {},
   "outputs": [
    {
     "data": {
      "text/plain": [
       "congestive_heart_failure\n",
       "False    1120\n",
       "True      280\n",
       "Name: count, dtype: int64"
      ]
     },
     "execution_count": 67,
     "metadata": {},
     "output_type": "execute_result"
    }
   ],
   "source": [
    "from variables_comorbidities import getCHF\n",
    "\n",
    "\n",
    "df = getCHF()\n",
    "dfData32 = dfData31.merge(df, \"left\", \"hadm_id\")\n",
    "dfData32[\"congestive_heart_failure\"].fillna(False, inplace=True)\n",
    "dfData32[\"congestive_heart_failure\"].value_counts()"
   ]
  },
  {
   "cell_type": "markdown",
   "metadata": {},
   "source": [
    "### Liver disease"
   ]
  },
  {
   "cell_type": "code",
   "execution_count": 68,
   "metadata": {},
   "outputs": [
    {
     "data": {
      "text/plain": [
       "liver_disease\n",
       "NONE      1270\n",
       "MILD       103\n",
       "SEVERE      27\n",
       "Name: count, dtype: int64"
      ]
     },
     "execution_count": 68,
     "metadata": {},
     "output_type": "execute_result"
    }
   ],
   "source": [
    "from variables_comorbidities import getLiverDisease\n",
    "\n",
    "\n",
    "df = getLiverDisease()\n",
    "dfData33 = dfData32.merge(df, \"left\", \"hadm_id\")\n",
    "dfData33[\"liver_disease\"].fillna(\"NONE\", inplace=True)\n",
    "dfData33[\"liver_disease\"].value_counts()"
   ]
  },
  {
   "cell_type": "markdown",
   "metadata": {},
   "source": [
    "### PreExisting CKD"
   ]
  },
  {
   "cell_type": "code",
   "execution_count": 69,
   "metadata": {},
   "outputs": [
    {
     "data": {
      "text/plain": [
       "ckd_stage\n",
       "0.0    165\n",
       "3.0    106\n",
       "4.0     47\n",
       "2.0      9\n",
       "1.0      2\n",
       "Name: count, dtype: int64"
      ]
     },
     "execution_count": 69,
     "metadata": {},
     "output_type": "execute_result"
    }
   ],
   "source": [
    "from variables_comorbidities import getPreExistingCKD\n",
    "\n",
    "\n",
    "df = getPreExistingCKD()\n",
    "dfData34 = dfData33.merge(df, \"left\", \"hadm_id\")\n",
    "dfData34[\"ckd_stage\"].value_counts()"
   ]
  },
  {
   "cell_type": "markdown",
   "metadata": {},
   "source": [
    "### Malignant Cancer"
   ]
  },
  {
   "cell_type": "code",
   "execution_count": 70,
   "metadata": {},
   "outputs": [
    {
     "data": {
      "text/plain": [
       "malignant_cancer\n",
       "False    1350\n",
       "True       50\n",
       "Name: count, dtype: int64"
      ]
     },
     "execution_count": 70,
     "metadata": {},
     "output_type": "execute_result"
    }
   ],
   "source": [
    "from variables_comorbidities import getMalignantCancer\n",
    "\n",
    "\n",
    "df = getMalignantCancer()\n",
    "dfData35 = dfData34.merge(df, \"left\", \"hadm_id\")\n",
    "dfData35[\"malignant_cancer\"].fillna(False, inplace=True)\n",
    "dfData35[\"malignant_cancer\"].value_counts()"
   ]
  },
  {
   "cell_type": "markdown",
   "metadata": {},
   "source": [
    "### Hypertension"
   ]
  },
  {
   "cell_type": "code",
   "execution_count": 71,
   "metadata": {},
   "outputs": [
    {
     "data": {
      "text/plain": [
       "hypertension\n",
       "False    868\n",
       "True     533\n",
       "Name: count, dtype: int64"
      ]
     },
     "execution_count": 71,
     "metadata": {},
     "output_type": "execute_result"
    }
   ],
   "source": [
    "from variables_comorbidities import getHypertension\n",
    "\n",
    "\n",
    "df = getHypertension()\n",
    "dfData36 = dfData35.merge(df, \"left\", \"hadm_id\")\n",
    "dfData36[\"hypertension\"].fillna(False, inplace=True)\n",
    "dfData36[\"hypertension\"].value_counts()"
   ]
  },
  {
   "cell_type": "markdown",
   "metadata": {},
   "source": [
    "### Urinary tract infection"
   ]
  },
  {
   "cell_type": "code",
   "execution_count": 72,
   "metadata": {},
   "outputs": [
    {
     "data": {
      "text/plain": [
       "uti\n",
       "False    1225\n",
       "True      176\n",
       "Name: count, dtype: int64"
      ]
     },
     "execution_count": 72,
     "metadata": {},
     "output_type": "execute_result"
    }
   ],
   "source": [
    "from variables_comorbidities import getUTI\n",
    "\n",
    "\n",
    "df = getUTI()\n",
    "dfData37 = dfData36.merge(df, \"left\", \"hadm_id\")\n",
    "dfData37[\"uti\"].fillna(False, inplace=True)\n",
    "dfData37[\"uti\"].value_counts()"
   ]
  },
  {
   "cell_type": "markdown",
   "metadata": {},
   "source": [
    "### Chronic Pulmonary Disease"
   ]
  },
  {
   "cell_type": "code",
   "execution_count": 73,
   "metadata": {},
   "outputs": [
    {
     "data": {
      "text/plain": [
       "chronic_pulmonary_disease\n",
       "False    1167\n",
       "True      234\n",
       "Name: count, dtype: int64"
      ]
     },
     "execution_count": 73,
     "metadata": {},
     "output_type": "execute_result"
    }
   ],
   "source": [
    "from variables_comorbidities import getChronicPulmonaryDisease\n",
    "\n",
    "\n",
    "df = getChronicPulmonaryDisease()\n",
    "dfData38 = dfData37.merge(df, \"left\", \"hadm_id\")\n",
    "dfData38[\"chronic_pulmonary_disease\"].fillna(False, inplace=True)\n",
    "dfData38[\"chronic_pulmonary_disease\"].value_counts()"
   ]
  },
  {
   "cell_type": "code",
   "execution_count": 74,
   "metadata": {},
   "outputs": [
    {
     "data": {
      "text/plain": [
       "subject_id                     int64\n",
       "hadm_id                        int64\n",
       "stay_id                        int64\n",
       "akd                             bool\n",
       "dka_type                       int64\n",
       "macroangiopathy                 bool\n",
       "microangiopathy                 bool\n",
       "age                            int64\n",
       "gender                        object\n",
       "race                          object\n",
       "weight                       float64\n",
       "mechanical_ventilation          bool\n",
       "use_crrt                        bool\n",
       "use_NaHCO3                      bool\n",
       "wbc                          float64\n",
       "hb                           float64\n",
       "plt                          float64\n",
       "ag                           float64\n",
       "bicarbonate                  float64\n",
       "bun                          float64\n",
       "calcium                      float64\n",
       "scr                          float64\n",
       "bg                           float64\n",
       "phosphate                    float64\n",
       "egfr                         float64\n",
       "gcs                          float64\n",
       "oasis                        float64\n",
       "hr                           float64\n",
       "rr                           float64\n",
       "sbp                          float64\n",
       "dbp                          float64\n",
       "preiculos                    float64\n",
       "history_aci                     bool\n",
       "history_ami                     bool\n",
       "congestive_heart_failure        bool\n",
       "liver_disease                 object\n",
       "ckd_stage                    float64\n",
       "malignant_cancer                bool\n",
       "hypertension                    bool\n",
       "uti                             bool\n",
       "chronic_pulmonary_disease       bool\n",
       "dtype: object"
      ]
     },
     "execution_count": 74,
     "metadata": {},
     "output_type": "execute_result"
    }
   ],
   "source": [
    "dfData38.dtypes"
   ]
  },
  {
   "cell_type": "markdown",
   "metadata": {},
   "source": [
    "# Save data"
   ]
  },
  {
   "cell_type": "code",
   "execution_count": 75,
   "metadata": {},
   "outputs": [
    {
     "data": {
      "text/html": [
       "<div>\n",
       "<style scoped>\n",
       "    .dataframe tbody tr th:only-of-type {\n",
       "        vertical-align: middle;\n",
       "    }\n",
       "\n",
       "    .dataframe tbody tr th {\n",
       "        vertical-align: top;\n",
       "    }\n",
       "\n",
       "    .dataframe thead th {\n",
       "        text-align: right;\n",
       "    }\n",
       "</style>\n",
       "<table border=\"1\" class=\"dataframe\">\n",
       "  <thead>\n",
       "    <tr style=\"text-align: right;\">\n",
       "      <th></th>\n",
       "      <th>subject_id</th>\n",
       "      <th>hadm_id</th>\n",
       "      <th>stay_id</th>\n",
       "      <th>akd</th>\n",
       "      <th>dka_type</th>\n",
       "      <th>macroangiopathy</th>\n",
       "      <th>microangiopathy</th>\n",
       "      <th>age</th>\n",
       "      <th>gender</th>\n",
       "      <th>race</th>\n",
       "      <th>...</th>\n",
       "      <th>preiculos</th>\n",
       "      <th>history_aci</th>\n",
       "      <th>history_ami</th>\n",
       "      <th>congestive_heart_failure</th>\n",
       "      <th>liver_disease</th>\n",
       "      <th>ckd_stage</th>\n",
       "      <th>malignant_cancer</th>\n",
       "      <th>hypertension</th>\n",
       "      <th>uti</th>\n",
       "      <th>chronic_pulmonary_disease</th>\n",
       "    </tr>\n",
       "  </thead>\n",
       "  <tbody>\n",
       "    <tr>\n",
       "      <th>0</th>\n",
       "      <td>19277038</td>\n",
       "      <td>20027438</td>\n",
       "      <td>30213832</td>\n",
       "      <td>False</td>\n",
       "      <td>1</td>\n",
       "      <td>False</td>\n",
       "      <td>True</td>\n",
       "      <td>64</td>\n",
       "      <td>F</td>\n",
       "      <td>HISPANIC/LATINO - DOMINICAN</td>\n",
       "      <td>...</td>\n",
       "      <td>2.183333</td>\n",
       "      <td>False</td>\n",
       "      <td>False</td>\n",
       "      <td>True</td>\n",
       "      <td>NONE</td>\n",
       "      <td>0.0</td>\n",
       "      <td>False</td>\n",
       "      <td>False</td>\n",
       "      <td>True</td>\n",
       "      <td>True</td>\n",
       "    </tr>\n",
       "    <tr>\n",
       "      <th>1</th>\n",
       "      <td>17405009</td>\n",
       "      <td>20041225</td>\n",
       "      <td>32710335</td>\n",
       "      <td>False</td>\n",
       "      <td>2</td>\n",
       "      <td>False</td>\n",
       "      <td>False</td>\n",
       "      <td>39</td>\n",
       "      <td>F</td>\n",
       "      <td>BLACK/AFRICAN AMERICAN</td>\n",
       "      <td>...</td>\n",
       "      <td>27.133333</td>\n",
       "      <td>False</td>\n",
       "      <td>False</td>\n",
       "      <td>False</td>\n",
       "      <td>NONE</td>\n",
       "      <td>NaN</td>\n",
       "      <td>False</td>\n",
       "      <td>False</td>\n",
       "      <td>False</td>\n",
       "      <td>False</td>\n",
       "    </tr>\n",
       "    <tr>\n",
       "      <th>2</th>\n",
       "      <td>19054290</td>\n",
       "      <td>20046699</td>\n",
       "      <td>30643955</td>\n",
       "      <td>False</td>\n",
       "      <td>1</td>\n",
       "      <td>False</td>\n",
       "      <td>True</td>\n",
       "      <td>65</td>\n",
       "      <td>F</td>\n",
       "      <td>WHITE</td>\n",
       "      <td>...</td>\n",
       "      <td>142.000000</td>\n",
       "      <td>False</td>\n",
       "      <td>False</td>\n",
       "      <td>False</td>\n",
       "      <td>NONE</td>\n",
       "      <td>NaN</td>\n",
       "      <td>False</td>\n",
       "      <td>True</td>\n",
       "      <td>False</td>\n",
       "      <td>False</td>\n",
       "    </tr>\n",
       "    <tr>\n",
       "      <th>3</th>\n",
       "      <td>19523386</td>\n",
       "      <td>20053996</td>\n",
       "      <td>32939862</td>\n",
       "      <td>False</td>\n",
       "      <td>2</td>\n",
       "      <td>False</td>\n",
       "      <td>False</td>\n",
       "      <td>83</td>\n",
       "      <td>F</td>\n",
       "      <td>WHITE</td>\n",
       "      <td>...</td>\n",
       "      <td>110.000000</td>\n",
       "      <td>False</td>\n",
       "      <td>False</td>\n",
       "      <td>False</td>\n",
       "      <td>NONE</td>\n",
       "      <td>NaN</td>\n",
       "      <td>False</td>\n",
       "      <td>False</td>\n",
       "      <td>True</td>\n",
       "      <td>False</td>\n",
       "    </tr>\n",
       "    <tr>\n",
       "      <th>4</th>\n",
       "      <td>10924444</td>\n",
       "      <td>20065893</td>\n",
       "      <td>31555593</td>\n",
       "      <td>False</td>\n",
       "      <td>1</td>\n",
       "      <td>False</td>\n",
       "      <td>False</td>\n",
       "      <td>23</td>\n",
       "      <td>M</td>\n",
       "      <td>WHITE</td>\n",
       "      <td>...</td>\n",
       "      <td>60.000000</td>\n",
       "      <td>False</td>\n",
       "      <td>False</td>\n",
       "      <td>False</td>\n",
       "      <td>NONE</td>\n",
       "      <td>NaN</td>\n",
       "      <td>False</td>\n",
       "      <td>False</td>\n",
       "      <td>False</td>\n",
       "      <td>False</td>\n",
       "    </tr>\n",
       "    <tr>\n",
       "      <th>...</th>\n",
       "      <td>...</td>\n",
       "      <td>...</td>\n",
       "      <td>...</td>\n",
       "      <td>...</td>\n",
       "      <td>...</td>\n",
       "      <td>...</td>\n",
       "      <td>...</td>\n",
       "      <td>...</td>\n",
       "      <td>...</td>\n",
       "      <td>...</td>\n",
       "      <td>...</td>\n",
       "      <td>...</td>\n",
       "      <td>...</td>\n",
       "      <td>...</td>\n",
       "      <td>...</td>\n",
       "      <td>...</td>\n",
       "      <td>...</td>\n",
       "      <td>...</td>\n",
       "      <td>...</td>\n",
       "      <td>...</td>\n",
       "      <td>...</td>\n",
       "    </tr>\n",
       "    <tr>\n",
       "      <th>1396</th>\n",
       "      <td>14320833</td>\n",
       "      <td>29970786</td>\n",
       "      <td>34923650</td>\n",
       "      <td>True</td>\n",
       "      <td>1</td>\n",
       "      <td>True</td>\n",
       "      <td>True</td>\n",
       "      <td>64</td>\n",
       "      <td>F</td>\n",
       "      <td>WHITE</td>\n",
       "      <td>...</td>\n",
       "      <td>173.000000</td>\n",
       "      <td>False</td>\n",
       "      <td>True</td>\n",
       "      <td>True</td>\n",
       "      <td>NONE</td>\n",
       "      <td>NaN</td>\n",
       "      <td>False</td>\n",
       "      <td>True</td>\n",
       "      <td>False</td>\n",
       "      <td>False</td>\n",
       "    </tr>\n",
       "    <tr>\n",
       "      <th>1397</th>\n",
       "      <td>13494531</td>\n",
       "      <td>29971659</td>\n",
       "      <td>35179120</td>\n",
       "      <td>False</td>\n",
       "      <td>0</td>\n",
       "      <td>True</td>\n",
       "      <td>False</td>\n",
       "      <td>76</td>\n",
       "      <td>M</td>\n",
       "      <td>WHITE</td>\n",
       "      <td>...</td>\n",
       "      <td>64.000000</td>\n",
       "      <td>False</td>\n",
       "      <td>False</td>\n",
       "      <td>True</td>\n",
       "      <td>NONE</td>\n",
       "      <td>4.0</td>\n",
       "      <td>True</td>\n",
       "      <td>False</td>\n",
       "      <td>False</td>\n",
       "      <td>False</td>\n",
       "    </tr>\n",
       "    <tr>\n",
       "      <th>1398</th>\n",
       "      <td>11389314</td>\n",
       "      <td>29991667</td>\n",
       "      <td>30620060</td>\n",
       "      <td>False</td>\n",
       "      <td>2</td>\n",
       "      <td>False</td>\n",
       "      <td>False</td>\n",
       "      <td>54</td>\n",
       "      <td>F</td>\n",
       "      <td>WHITE</td>\n",
       "      <td>...</td>\n",
       "      <td>91.000000</td>\n",
       "      <td>False</td>\n",
       "      <td>False</td>\n",
       "      <td>False</td>\n",
       "      <td>SEVERE</td>\n",
       "      <td>NaN</td>\n",
       "      <td>False</td>\n",
       "      <td>False</td>\n",
       "      <td>True</td>\n",
       "      <td>False</td>\n",
       "    </tr>\n",
       "    <tr>\n",
       "      <th>1399</th>\n",
       "      <td>12136570</td>\n",
       "      <td>29992577</td>\n",
       "      <td>31780258</td>\n",
       "      <td>True</td>\n",
       "      <td>2</td>\n",
       "      <td>False</td>\n",
       "      <td>False</td>\n",
       "      <td>56</td>\n",
       "      <td>M</td>\n",
       "      <td>BLACK/AFRICAN AMERICAN</td>\n",
       "      <td>...</td>\n",
       "      <td>99.000000</td>\n",
       "      <td>True</td>\n",
       "      <td>False</td>\n",
       "      <td>False</td>\n",
       "      <td>NONE</td>\n",
       "      <td>NaN</td>\n",
       "      <td>False</td>\n",
       "      <td>False</td>\n",
       "      <td>False</td>\n",
       "      <td>False</td>\n",
       "    </tr>\n",
       "    <tr>\n",
       "      <th>1400</th>\n",
       "      <td>17657693</td>\n",
       "      <td>29997858</td>\n",
       "      <td>31578780</td>\n",
       "      <td>False</td>\n",
       "      <td>1</td>\n",
       "      <td>False</td>\n",
       "      <td>False</td>\n",
       "      <td>34</td>\n",
       "      <td>M</td>\n",
       "      <td>OTHER</td>\n",
       "      <td>...</td>\n",
       "      <td>102.000000</td>\n",
       "      <td>False</td>\n",
       "      <td>False</td>\n",
       "      <td>False</td>\n",
       "      <td>NONE</td>\n",
       "      <td>NaN</td>\n",
       "      <td>False</td>\n",
       "      <td>False</td>\n",
       "      <td>False</td>\n",
       "      <td>False</td>\n",
       "    </tr>\n",
       "  </tbody>\n",
       "</table>\n",
       "<p>1401 rows × 41 columns</p>\n",
       "</div>"
      ],
      "text/plain": [
       "      subject_id   hadm_id   stay_id    akd  dka_type  macroangiopathy  \\\n",
       "0       19277038  20027438  30213832  False         1            False   \n",
       "1       17405009  20041225  32710335  False         2            False   \n",
       "2       19054290  20046699  30643955  False         1            False   \n",
       "3       19523386  20053996  32939862  False         2            False   \n",
       "4       10924444  20065893  31555593  False         1            False   \n",
       "...          ...       ...       ...    ...       ...              ...   \n",
       "1396    14320833  29970786  34923650   True         1             True   \n",
       "1397    13494531  29971659  35179120  False         0             True   \n",
       "1398    11389314  29991667  30620060  False         2            False   \n",
       "1399    12136570  29992577  31780258   True         2            False   \n",
       "1400    17657693  29997858  31578780  False         1            False   \n",
       "\n",
       "      microangiopathy  age gender                         race  ...  \\\n",
       "0                True   64      F  HISPANIC/LATINO - DOMINICAN  ...   \n",
       "1               False   39      F       BLACK/AFRICAN AMERICAN  ...   \n",
       "2                True   65      F                        WHITE  ...   \n",
       "3               False   83      F                        WHITE  ...   \n",
       "4               False   23      M                        WHITE  ...   \n",
       "...               ...  ...    ...                          ...  ...   \n",
       "1396             True   64      F                        WHITE  ...   \n",
       "1397            False   76      M                        WHITE  ...   \n",
       "1398            False   54      F                        WHITE  ...   \n",
       "1399            False   56      M       BLACK/AFRICAN AMERICAN  ...   \n",
       "1400            False   34      M                        OTHER  ...   \n",
       "\n",
       "       preiculos  history_aci  history_ami  congestive_heart_failure  \\\n",
       "0       2.183333        False        False                      True   \n",
       "1      27.133333        False        False                     False   \n",
       "2     142.000000        False        False                     False   \n",
       "3     110.000000        False        False                     False   \n",
       "4      60.000000        False        False                     False   \n",
       "...          ...          ...          ...                       ...   \n",
       "1396  173.000000        False         True                      True   \n",
       "1397   64.000000        False        False                      True   \n",
       "1398   91.000000        False        False                     False   \n",
       "1399   99.000000         True        False                     False   \n",
       "1400  102.000000        False        False                     False   \n",
       "\n",
       "      liver_disease  ckd_stage  malignant_cancer  hypertension    uti  \\\n",
       "0              NONE        0.0             False         False   True   \n",
       "1              NONE        NaN             False         False  False   \n",
       "2              NONE        NaN             False          True  False   \n",
       "3              NONE        NaN             False         False   True   \n",
       "4              NONE        NaN             False         False  False   \n",
       "...             ...        ...               ...           ...    ...   \n",
       "1396           NONE        NaN             False          True  False   \n",
       "1397           NONE        4.0              True         False  False   \n",
       "1398         SEVERE        NaN             False         False   True   \n",
       "1399           NONE        NaN             False         False  False   \n",
       "1400           NONE        NaN             False         False  False   \n",
       "\n",
       "      chronic_pulmonary_disease  \n",
       "0                          True  \n",
       "1                         False  \n",
       "2                         False  \n",
       "3                         False  \n",
       "4                         False  \n",
       "...                         ...  \n",
       "1396                      False  \n",
       "1397                      False  \n",
       "1398                      False  \n",
       "1399                      False  \n",
       "1400                      False  \n",
       "\n",
       "[1401 rows x 41 columns]"
      ]
     },
     "execution_count": 75,
     "metadata": {},
     "output_type": "execute_result"
    }
   ],
   "source": [
    "from constants import LEARNING_DATA_FILE\n",
    "\n",
    "\n",
    "dfData38.to_csv(LEARNING_DATA_FILE)\n",
    "dfData38"
   ]
  }
 ],
 "metadata": {
  "kernelspec": {
   "display_name": ".venv",
   "language": "python",
   "name": "python3"
  },
  "language_info": {
   "codemirror_mode": {
    "name": "ipython",
    "version": 3
   },
   "file_extension": ".py",
   "mimetype": "text/x-python",
   "name": "python",
   "nbconvert_exporter": "python",
   "pygments_lexer": "ipython3",
   "version": "3.10.6"
  }
 },
 "nbformat": 4,
 "nbformat_minor": 2
}
